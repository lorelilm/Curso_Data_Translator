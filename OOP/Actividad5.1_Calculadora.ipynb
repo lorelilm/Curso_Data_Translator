{
 "cells": [
  {
   "cell_type": "code",
   "execution_count": 15,
   "id": "cee8ed79",
   "metadata": {},
   "outputs": [
    {
     "name": "stdout",
     "output_type": "stream",
     "text": [
      "Ingrese el primer numero: 10\n",
      "Ingrese el segundo numero: 2\n",
      "El resultado de la suma es:  12.0\n",
      "El resultado de la resta es:  8.0\n",
      "El resultado de la multiplicacion es:  20.0\n",
      "El resultado de la division es:  5.0\n",
      "El resultado del primer numero elevado al segundo es:  100.0\n"
     ]
    }
   ],
   "source": [
    "class calculadora:\n",
    "    def __init__(self, x, y):\n",
    "        self.x = float(x)\n",
    "        self.y = float(y)\n",
    "        \n",
    "    def sumar(self):\n",
    "        suma = self.x+self.y\n",
    "        print(\"El resultado de la suma es: \", suma)\n",
    "        \n",
    "    def restar(self):\n",
    "        resta = self.x-self.y\n",
    "        print(\"El resultado de la resta es: \", resta)\n",
    "        \n",
    "    def multiplicar(self):\n",
    "        multiplicacion = self.x*self.y\n",
    "        print(\"El resultado de la multiplicacion es: \", multiplicacion)\n",
    "        \n",
    "    def dividir(self):\n",
    "        division = self.x/self.y\n",
    "        print(\"El resultado de la division es: \", division)\n",
    "        \n",
    "    def elevar(self):\n",
    "        eleva = self.x**self.y\n",
    "        print(\"El resultado del primer numero elevado al segundo es: \", eleva)\n",
    "        \n",
    "x= input(\"Ingrese el primer numero: \")\n",
    "y= input(\"Ingrese el segundo numero: \")\n",
    "\n",
    "calculadora= calculadora(x, y)\n",
    "calculadora.sumar()\n",
    "calculadora.restar()\n",
    "calculadora.multiplicar()\n",
    "calculadora.dividir()\n",
    "calculadora.elevar()"
   ]
  }
 ],
 "metadata": {
  "kernelspec": {
   "display_name": "Python 3 (ipykernel)",
   "language": "python",
   "name": "python3"
  },
  "language_info": {
   "codemirror_mode": {
    "name": "ipython",
    "version": 3
   },
   "file_extension": ".py",
   "mimetype": "text/x-python",
   "name": "python",
   "nbconvert_exporter": "python",
   "pygments_lexer": "ipython3",
   "version": "3.9.12"
  }
 },
 "nbformat": 4,
 "nbformat_minor": 5
}
