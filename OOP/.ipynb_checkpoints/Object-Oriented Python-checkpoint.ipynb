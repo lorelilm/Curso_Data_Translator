{
 "cells": [
  {
   "cell_type": "code",
   "execution_count": 1,
   "id": "64c71c7d",
   "metadata": {},
   "outputs": [],
   "source": [
    "import scipy.stats as stats"
   ]
  },
  {
   "cell_type": "code",
   "execution_count": 2,
   "id": "ba451a5e",
   "metadata": {},
   "outputs": [
    {
     "data": {
      "text/plain": [
       "9.840344433634577"
      ]
     },
     "execution_count": 2,
     "metadata": {},
     "output_type": "execute_result"
    }
   ],
   "source": [
    "10/(25**.005)"
   ]
  },
  {
   "cell_type": "code",
   "execution_count": 5,
   "id": "3b39b11d",
   "metadata": {},
   "outputs": [
    {
     "data": {
      "text/plain": [
       "2.0620000000000003"
      ]
     },
     "execution_count": 5,
     "metadata": {},
     "output_type": "execute_result"
    }
   ],
   "source": [
    "10.31/5"
   ]
  },
  {
   "cell_type": "code",
   "execution_count": 11,
   "id": "0e0c143e",
   "metadata": {},
   "outputs": [],
   "source": [
    "t = stats.t(df=25, loc=170, scale=(10.31/5))"
   ]
  },
  {
   "cell_type": "code",
   "execution_count": 12,
   "id": "29ec19ed",
   "metadata": {},
   "outputs": [
    {
     "data": {
      "text/plain": [
       "array([173.59295422, 170.93442552, 169.54887273, 169.52451696,\n",
       "       172.40219747, 171.38337762, 170.00661429, 171.27911256,\n",
       "       173.58284955, 172.84530314, 169.59616336, 170.45238011,\n",
       "       170.46274987, 173.66093822, 169.59763508, 167.52832952,\n",
       "       172.38831423, 171.8823166 , 170.16459493, 168.76505779,\n",
       "       171.78713048, 166.59388104, 167.5360907 , 171.89084514,\n",
       "       171.86755487, 168.98431922, 169.42215043, 168.24708386,\n",
       "       171.99892922, 171.98942282, 168.10358725, 167.04799283,\n",
       "       172.18738372, 169.44207947, 169.0663174 , 170.79191567,\n",
       "       168.11443956, 170.44534733, 169.1574869 , 170.5633223 ,\n",
       "       170.73793913, 169.76907548, 167.45240741, 171.32709892,\n",
       "       173.59480619, 166.7506609 , 168.68527224, 171.08165   ,\n",
       "       168.89391183, 169.17151951, 171.66248938, 171.50047744,\n",
       "       171.99505563, 172.25673576, 170.25032427, 165.37983673,\n",
       "       171.18068879, 169.1683708 , 173.34935006, 168.05531741,\n",
       "       172.66021812, 173.23663333, 171.41075852, 169.58164201,\n",
       "       167.10990389, 169.37823596, 167.33617511, 166.37761839,\n",
       "       171.26770016, 169.71577008, 172.00625255, 170.83317707,\n",
       "       168.63574329, 173.02814281, 169.37300648, 170.30176616,\n",
       "       169.52616394, 167.8173017 , 173.54886794, 170.01427317,\n",
       "       167.6738506 , 167.43527809, 173.09490976, 169.84867598,\n",
       "       170.01500637, 171.45060348, 171.61303615, 171.23640036,\n",
       "       172.81429876, 167.77830282, 172.56297905, 172.14060229,\n",
       "       170.62411326, 169.84097325, 168.9826257 , 168.5927935 ,\n",
       "       168.27751365, 169.35091675, 170.3731197 , 169.08128013])"
      ]
     },
     "execution_count": 12,
     "metadata": {},
     "output_type": "execute_result"
    }
   ],
   "source": [
    "t.rvs(100)"
   ]
  },
  {
   "cell_type": "code",
   "execution_count": 13,
   "id": "7e155f16",
   "metadata": {},
   "outputs": [
    {
     "data": {
      "text/plain": [
       "0.019486246289952755"
      ]
     },
     "execution_count": 13,
     "metadata": {},
     "output_type": "execute_result"
    }
   ],
   "source": [
    "t.pdf(174.52)"
   ]
  },
  {
   "cell_type": "code",
   "execution_count": 14,
   "id": "8479405d",
   "metadata": {},
   "outputs": [
    {
     "data": {
      "text/plain": [
       "0.98104823906158"
      ]
     },
     "execution_count": 14,
     "metadata": {},
     "output_type": "execute_result"
    }
   ],
   "source": [
    "t.cdf(174.52)"
   ]
  },
  {
   "cell_type": "code",
   "execution_count": 15,
   "id": "50ed7e4d",
   "metadata": {},
   "outputs": [
    {
     "data": {
      "text/plain": [
       "0.018951760938419993"
      ]
     },
     "execution_count": 15,
     "metadata": {},
     "output_type": "execute_result"
    }
   ],
   "source": [
    "1 - (t.cdf(174.52))"
   ]
  },
  {
   "cell_type": "code",
   "execution_count": 16,
   "id": "0145c6a7",
   "metadata": {},
   "outputs": [
    {
     "data": {
      "text/plain": [
       "True"
      ]
     },
     "execution_count": 16,
     "metadata": {},
     "output_type": "execute_result"
    }
   ],
   "source": [
    "(1 - (t.cdf(174.52))) > 0.005"
   ]
  },
  {
   "cell_type": "code",
   "execution_count": 42,
   "id": "c3ae0021",
   "metadata": {},
   "outputs": [],
   "source": [
    "class Ttest:\n",
    "    def __init__(self, h0, n, sample_mean, sd, alpha, is_two):\n",
    "        self.sample_mean = sample_mean\n",
    "        self.alpha = alpha\n",
    "        self.is_two = is_two\n",
    "        self.t = stats.t(df=n, loc=h0, scale=sd/(n**0.5))\n",
    "    def pvalue(self, should_substract_1):\n",
    "        if should_substract_1:\n",
    "            return (1 - self.t.cdf(self.sample_mean))\n",
    "        else: \n",
    "            return self.t.cdf(self.sample_mean)\n",
    "    def should_reject_null(self, pvalue):\n",
    "        alpha = self.alpha\n",
    "        if self.is_two:\n",
    "            alpha = self.alpha / 2\n",
    "        return pvalue < alpha "
   ]
  },
  {
   "cell_type": "code",
   "execution_count": 43,
   "id": "fd37fa32",
   "metadata": {},
   "outputs": [],
   "source": [
    "t1 = Ttest(170, 25, 174.52, 10.31, 0.01, True)"
   ]
  },
  {
   "cell_type": "code",
   "execution_count": 44,
   "id": "788cf0cd",
   "metadata": {},
   "outputs": [
    {
     "data": {
      "text/plain": [
       "{'sample_mean': 174.52,\n",
       " 'alpha': 0.01,\n",
       " 'is_two': True,\n",
       " 't': <scipy.stats._distn_infrastructure.rv_frozen at 0x22a67802460>}"
      ]
     },
     "execution_count": 44,
     "metadata": {},
     "output_type": "execute_result"
    }
   ],
   "source": [
    "t1.__dict__"
   ]
  },
  {
   "cell_type": "code",
   "execution_count": 45,
   "id": "34f26f64",
   "metadata": {},
   "outputs": [
    {
     "data": {
      "text/plain": [
       "0.018951760938419993"
      ]
     },
     "execution_count": 45,
     "metadata": {},
     "output_type": "execute_result"
    }
   ],
   "source": [
    "1 - (t1.t.cdf(174.52))"
   ]
  },
  {
   "cell_type": "code",
   "execution_count": 46,
   "id": "3b9c09cb",
   "metadata": {},
   "outputs": [
    {
     "data": {
      "text/plain": [
       "0.018951760938419993"
      ]
     },
     "execution_count": 46,
     "metadata": {},
     "output_type": "execute_result"
    }
   ],
   "source": [
    "t1.pvalue(True)"
   ]
  },
  {
   "cell_type": "code",
   "execution_count": 47,
   "id": "9a3edcd1",
   "metadata": {},
   "outputs": [
    {
     "data": {
      "text/plain": [
       "False"
      ]
     },
     "execution_count": 47,
     "metadata": {},
     "output_type": "execute_result"
    }
   ],
   "source": [
    "t1.should_reject_null(t1.pvalue(True))"
   ]
  },
  {
   "cell_type": "code",
   "execution_count": null,
   "id": "97c48bc0",
   "metadata": {},
   "outputs": [],
   "source": [
    "t2 = Ttest(170, 25, 174.52, 10.31, 0.01, True)"
   ]
  }
 ],
 "metadata": {
  "kernelspec": {
   "display_name": "Python 3 (ipykernel)",
   "language": "python",
   "name": "python3"
  },
  "language_info": {
   "codemirror_mode": {
    "name": "ipython",
    "version": 3
   },
   "file_extension": ".py",
   "mimetype": "text/x-python",
   "name": "python",
   "nbconvert_exporter": "python",
   "pygments_lexer": "ipython3",
   "version": "3.9.12"
  }
 },
 "nbformat": 4,
 "nbformat_minor": 5
}
