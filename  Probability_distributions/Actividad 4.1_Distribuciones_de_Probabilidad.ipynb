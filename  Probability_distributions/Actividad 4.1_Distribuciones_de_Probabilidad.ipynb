{
 "cells": [
  {
   "cell_type": "code",
   "execution_count": 9,
   "id": "22dd4609",
   "metadata": {},
   "outputs": [],
   "source": [
    "import numpy as np\n",
    "import pandas as pd\n",
    "import scipy as sp\n",
    "import scipy.stats as stats\n",
    "import matplotlib.pyplot as plt"
   ]
  },
  {
   "cell_type": "markdown",
   "id": "9d3205b4",
   "metadata": {},
   "source": [
    "Dado de 20 caras"
   ]
  },
  {
   "cell_type": "code",
   "execution_count": 11,
   "id": "140ca7bf",
   "metadata": {},
   "outputs": [
    {
     "data": {
      "text/plain": [
       "<scipy.stats._distn_infrastructure.rv_frozen at 0x1bd37bfbf10>"
      ]
     },
     "execution_count": 11,
     "metadata": {},
     "output_type": "execute_result"
    }
   ],
   "source": [
    "dado= stats.randint(low=1, high=21)\n",
    "dado"
   ]
  },
  {
   "cell_type": "markdown",
   "id": "7f5e8a9c",
   "metadata": {},
   "source": [
    "# Tips\n",
    "\n",
    "## CDF\n",
    "- Mayor o igual / Menor o igual \n",
    "\n",
    "## PMF\n",
    "- Igual"
   ]
  },
  {
   "cell_type": "markdown",
   "id": "a65887cc",
   "metadata": {},
   "source": [
    "P(6-9)"
   ]
  },
  {
   "cell_type": "code",
   "execution_count": 12,
   "id": "8b36d652",
   "metadata": {},
   "outputs": [
    {
     "data": {
      "text/plain": [
       "0.05"
      ]
     },
     "execution_count": 12,
     "metadata": {},
     "output_type": "execute_result"
    }
   ],
   "source": [
    "dado.pmf(6)"
   ]
  },
  {
   "cell_type": "code",
   "execution_count": 13,
   "id": "770e59d3",
   "metadata": {},
   "outputs": [
    {
     "data": {
      "text/plain": [
       "0.05"
      ]
     },
     "execution_count": 13,
     "metadata": {},
     "output_type": "execute_result"
    }
   ],
   "source": [
    "dado.pmf(7)"
   ]
  },
  {
   "cell_type": "code",
   "execution_count": 14,
   "id": "1a55d436",
   "metadata": {},
   "outputs": [
    {
     "data": {
      "text/plain": [
       "0.05"
      ]
     },
     "execution_count": 14,
     "metadata": {},
     "output_type": "execute_result"
    }
   ],
   "source": [
    "dado.pmf(8)"
   ]
  },
  {
   "cell_type": "code",
   "execution_count": 15,
   "id": "84eed71b",
   "metadata": {},
   "outputs": [
    {
     "data": {
      "text/plain": [
       "0.05"
      ]
     },
     "execution_count": 15,
     "metadata": {},
     "output_type": "execute_result"
    }
   ],
   "source": [
    "dado.pmf(9)"
   ]
  },
  {
   "cell_type": "code",
   "execution_count": 17,
   "id": "abaabf4c",
   "metadata": {},
   "outputs": [
    {
     "data": {
      "text/plain": [
       "0.2"
      ]
     },
     "execution_count": 17,
     "metadata": {},
     "output_type": "execute_result"
    }
   ],
   "source": [
    "#P(6-9)\n",
    "dado.pmf([6,7,8,9]).sum()"
   ]
  },
  {
   "cell_type": "code",
   "execution_count": 26,
   "id": "07804067",
   "metadata": {},
   "outputs": [
    {
     "data": {
      "text/plain": [
       "0.44999999999999996"
      ]
     },
     "execution_count": 26,
     "metadata": {},
     "output_type": "execute_result"
    }
   ],
   "source": [
    "#P(Obtener al menos un 12)\n",
    "1-(dado.cdf(11))"
   ]
  },
  {
   "cell_type": "code",
   "execution_count": 25,
   "id": "7e5b4b92",
   "metadata": {},
   "outputs": [
    {
     "data": {
      "text/plain": [
       "0.45"
      ]
     },
     "execution_count": 25,
     "metadata": {},
     "output_type": "execute_result"
    }
   ],
   "source": [
    "#P(Obtener al menos un 12)\n",
    "dado.pmf([12,13,14,15,16,17,18,19,20]).sum()"
   ]
  },
  {
   "cell_type": "code",
   "execution_count": 20,
   "id": "34b76963",
   "metadata": {},
   "outputs": [
    {
     "data": {
      "text/plain": [
       "0.15"
      ]
     },
     "execution_count": 20,
     "metadata": {},
     "output_type": "execute_result"
    }
   ],
   "source": [
    "#P(Obtener 3 o menos)\n",
    "dado.cdf(3)"
   ]
  },
  {
   "cell_type": "code",
   "execution_count": 30,
   "id": "01354f78",
   "metadata": {},
   "outputs": [
    {
     "name": "stdout",
     "output_type": "stream",
     "text": [
      "lanzamiento #: 0 : 16\n",
      "lanzamiento #: 1 : 14\n",
      "lanzamiento #: 2 : 7\n",
      "lanzamiento #: 3 : 12\n",
      "lanzamiento #: 4 : 17\n",
      "lanzamiento #: 5 : 5\n",
      "lanzamiento #: 6 : 9\n",
      "lanzamiento #: 7 : 1\n",
      "lanzamiento #: 8 : 13\n",
      "lanzamiento #: 9 : 18\n"
     ]
    }
   ],
   "source": [
    "# Lanzamiento de dado n veces\n",
    "for i in range(10):\n",
    "    print(\"lanzamiento #:\", i, \":\", dado.rvs())"
   ]
  },
  {
   "cell_type": "code",
   "execution_count": 32,
   "id": "e010337b",
   "metadata": {},
   "outputs": [
    {
     "data": {
      "text/plain": [
       "(0.0, 1.0)"
      ]
     },
     "execution_count": 32,
     "metadata": {},
     "output_type": "execute_result"
    },
    {
     "data": {
      "image/png": "[encoded data removed]",
      "text/plain": [
       "<Figure size 748.8x514.8 with 1 Axes>"
      ]
     },
     "metadata": {},
     "output_type": "display_data"
    }
   ],
   "source": [
    "#Gráfica de PMF\n",
    "plt.bar(range(0,21),dado.pmf(range(0,21)))\n",
    "plt.ylim([0,1])"
   ]
  },
  {
   "cell_type": "code",
   "execution_count": null,
   "id": "4ca6006a",
   "metadata": {},
   "outputs": [],
   "source": []
  }
 ],
 "metadata": {
  "kernelspec": {
   "display_name": "Python 3 (ipykernel)",
   "language": "python",
   "name": "python3"
  },
  "language_info": {
   "codemirror_mode": {
    "name": "ipython",
    "version": 3
   },
   "file_extension": ".py",
   "mimetype": "text/x-python",
   "name": "python",
   "nbconvert_exporter": "python",
   "pygments_lexer": "ipython3",
   "version": "3.9.12"
  }
 },
 "nbformat": 4,
 "nbformat_minor": 5
}
