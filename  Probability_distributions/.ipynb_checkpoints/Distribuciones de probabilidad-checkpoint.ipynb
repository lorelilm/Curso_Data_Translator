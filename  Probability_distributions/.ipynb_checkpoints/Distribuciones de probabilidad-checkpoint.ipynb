{
 "cells": [
  {
   "cell_type": "code",
   "execution_count": 1,
   "id": "7f4b5951",
   "metadata": {
    "scrolled": true
   },
   "outputs": [
    {
     "name": "stderr",
     "output_type": "stream",
     "text": [
      "C:\\Users\\isaac.cedeno\\Anaconda3\\envs\\py3.9\\lib\\site-packages\\numpy\\_distributor_init.py:30: UserWarning: loaded more than 1 DLL from .libs:\n",
      "C:\\Users\\isaac.cedeno\\Anaconda3\\envs\\py3.9\\lib\\site-packages\\numpy\\.libs\\libopenblas.4SP5SUA7CBGXUEOC35YP2ASOICYYEQZZ.gfortran-win_amd64.dll\n",
      "C:\\Users\\isaac.cedeno\\Anaconda3\\envs\\py3.9\\lib\\site-packages\\numpy\\.libs\\libopenblas.GK7GX5KEQ4F6UYO3P26ULGBQYHGQO7J4.gfortran-win_amd64.dll\n",
      "  warnings.warn(\"loaded more than 1 DLL from .libs:\"\n"
     ]
    }
   ],
   "source": [
    "import numpy as np\n",
    "import pandas as pd\n",
    "import scipy as sp\n",
    "import scipy.stats as stats\n",
    "import matplotlib.pyplot as plt"
   ]
  },
  {
   "cell_type": "markdown",
   "id": "55d69070",
   "metadata": {},
   "source": [
    "# Tips\n",
    "\n",
    "### CDF\n",
    " - Menor o igual / Mayor que (Con consideración especial)\n",
    "### PMF\n",
    " - Igual"
   ]
  },
  {
   "cell_type": "markdown",
   "id": "65c11d1b",
   "metadata": {},
   "source": [
    "# Parte 1"
   ]
  },
  {
   "cell_type": "markdown",
   "id": "a7107877",
   "metadata": {},
   "source": [
    "## Dado de 20 caras"
   ]
  },
  {
   "cell_type": "code",
   "execution_count": 3,
   "id": "4a8df94c",
   "metadata": {},
   "outputs": [],
   "source": [
    "dado= stats.randint(low=1, high=21)"
   ]
  },
  {
   "cell_type": "markdown",
   "id": "39368f09",
   "metadata": {},
   "source": [
    "### Obtener valor entre 6 y 9"
   ]
  },
  {
   "cell_type": "code",
   "execution_count": 4,
   "id": "75585c64",
   "metadata": {},
   "outputs": [],
   "source": [
    "P6=dado.pmf(6)\n",
    "P7=dado.pmf(7)\n",
    "P8=dado.pmf(8)\n",
    "P9=dado.pmf(9)"
   ]
  },
  {
   "cell_type": "code",
   "execution_count": 7,
   "id": "0ac40a60",
   "metadata": {},
   "outputs": [],
   "source": [
    "def sumatoria(*args):\n",
    "    return sum(args)"
   ]
  },
  {
   "cell_type": "code",
   "execution_count": 8,
   "id": "f5a0f2d1",
   "metadata": {},
   "outputs": [
    {
     "data": {
      "text/plain": [
       "0.2"
      ]
     },
     "execution_count": 8,
     "metadata": {},
     "output_type": "execute_result"
    }
   ],
   "source": [
    "sumatoria(P6,P7,P8,P9)"
   ]
  },
  {
   "cell_type": "code",
   "execution_count": 9,
   "id": "c4ca00e9",
   "metadata": {},
   "outputs": [
    {
     "data": {
      "text/plain": [
       "0.2"
      ]
     },
     "execution_count": 9,
     "metadata": {},
     "output_type": "execute_result"
    }
   ],
   "source": [
    "dado.pmf([6,7,8,9]).sum()"
   ]
  },
  {
   "cell_type": "markdown",
   "id": "1e7d9609",
   "metadata": {},
   "source": [
    "### Ejemplo de n lanzamientos"
   ]
  },
  {
   "cell_type": "code",
   "execution_count": 11,
   "id": "f74844f8",
   "metadata": {},
   "outputs": [
    {
     "name": "stdout",
     "output_type": "stream",
     "text": [
      "Lanzamiento # 0 : 3\n",
      "Lanzamiento # 1 : 14\n",
      "Lanzamiento # 2 : 19\n",
      "Lanzamiento # 3 : 1\n",
      "Lanzamiento # 4 : 7\n",
      "Lanzamiento # 5 : 18\n",
      "Lanzamiento # 6 : 12\n",
      "Lanzamiento # 7 : 20\n",
      "Lanzamiento # 8 : 12\n",
      "Lanzamiento # 9 : 5\n",
      "Lanzamiento # 10 : 4\n",
      "Lanzamiento # 11 : 1\n"
     ]
    }
   ],
   "source": [
    "for i in range(12):\n",
    "    print(\"Lanzamiento #\",i,\":\",dado.rvs())"
   ]
  },
  {
   "cell_type": "markdown",
   "id": "c9d14719",
   "metadata": {},
   "source": [
    "### Obtener al menos 12"
   ]
  },
  {
   "cell_type": "code",
   "execution_count": 16,
   "id": "f6b22631",
   "metadata": {},
   "outputs": [
    {
     "data": {
      "text/plain": [
       "0.6"
      ]
     },
     "execution_count": 16,
     "metadata": {},
     "output_type": "execute_result"
    }
   ],
   "source": [
    "dado.cdf(12) #Obtener 12 o menos"
   ]
  },
  {
   "cell_type": "code",
   "execution_count": 17,
   "id": "249935a1",
   "metadata": {},
   "outputs": [
    {
     "data": {
      "text/plain": [
       "0.4"
      ]
     },
     "execution_count": 17,
     "metadata": {},
     "output_type": "execute_result"
    }
   ],
   "source": [
    "1-dado.cdf(12) #Obtener más de 12 (13,14,...,20)"
   ]
  },
  {
   "cell_type": "code",
   "execution_count": 18,
   "id": "46c8c510",
   "metadata": {},
   "outputs": [
    {
     "data": {
      "text/plain": [
       "0.44999999999999996"
      ]
     },
     "execution_count": 18,
     "metadata": {},
     "output_type": "execute_result"
    }
   ],
   "source": [
    "1-dado.cdf(11) #Obtener más de 11 (12,...,20) --> Al menos 12"
   ]
  },
  {
   "cell_type": "markdown",
   "id": "28185246",
   "metadata": {},
   "source": [
    "### Obtener 3 o menos"
   ]
  },
  {
   "cell_type": "code",
   "execution_count": 20,
   "id": "3860e03e",
   "metadata": {},
   "outputs": [
    {
     "data": {
      "text/plain": [
       "0.15"
      ]
     },
     "execution_count": 20,
     "metadata": {},
     "output_type": "execute_result"
    }
   ],
   "source": [
    "dado.cdf(3)"
   ]
  },
  {
   "cell_type": "markdown",
   "id": "bbc091d9",
   "metadata": {},
   "source": [
    "### Gráfico de la pmf"
   ]
  },
  {
   "cell_type": "code",
   "execution_count": 23,
   "id": "4a6d5437",
   "metadata": {},
   "outputs": [
    {
     "data": {
      "text/plain": [
       "(0.0, 1.0)"
      ]
     },
     "execution_count": 23,
     "metadata": {},
     "output_type": "execute_result"
    },
    {
     "data": {
      "image/png": "[encoded data removed]",
      "text/plain": [
       "<Figure size 432x288 with 1 Axes>"
      ]
     },
     "metadata": {
      "needs_background": "light"
     },
     "output_type": "display_data"
    }
   ],
   "source": [
    "plt.bar(range(1,21),dado.pmf(range(1,21)))\n",
    "plt.ylim([0,1])"
   ]
  },
  {
   "cell_type": "markdown",
   "id": "8c32530a",
   "metadata": {},
   "source": [
    "# Parte 2"
   ]
  },
  {
   "cell_type": "markdown",
   "id": "ea12c0bc",
   "metadata": {},
   "source": [
    "## Apagador"
   ]
  },
  {
   "cell_type": "code",
   "execution_count": 28,
   "id": "12b0b67f",
   "metadata": {},
   "outputs": [],
   "source": [
    "# Tip: El apagador posee dos estados, encendido(0) y apagado(1).\n",
    "# Que distribución funciona con dos estados? \n",
    "# Verdadero y Falso ó 0 y 1\n",
    "\n",
    "# EL apagador funciona 1 de 5 veces --> Probabilidad de que funcione\n",
    "\n",
    "# Para la distribución necesitaremos el número de veces que se acciona\n",
    "# y la probabilidad de que funcione"
   ]
  },
  {
   "cell_type": "code",
   "execution_count": null,
   "id": "78195896",
   "metadata": {},
   "outputs": [],
   "source": []
  },
  {
   "cell_type": "code",
   "execution_count": 29,
   "id": "591c64cd",
   "metadata": {},
   "outputs": [],
   "source": [
    "# Al accionarlo 15 veces calcular las probabilidades de que:"
   ]
  },
  {
   "cell_type": "code",
   "execution_count": 30,
   "id": "26bf6831",
   "metadata": {},
   "outputs": [],
   "source": [
    "# Funcione 9 veces"
   ]
  },
  {
   "cell_type": "code",
   "execution_count": null,
   "id": "1fbefa75",
   "metadata": {},
   "outputs": [],
   "source": []
  },
  {
   "cell_type": "code",
   "execution_count": 31,
   "id": "df6822fd",
   "metadata": {},
   "outputs": [],
   "source": [
    "# Funcione menos de 4 veces"
   ]
  },
  {
   "cell_type": "code",
   "execution_count": null,
   "id": "a999cb05",
   "metadata": {},
   "outputs": [],
   "source": []
  },
  {
   "cell_type": "code",
   "execution_count": 32,
   "id": "3a887bf5",
   "metadata": {},
   "outputs": [],
   "source": [
    "# Funcione 3 o más veces"
   ]
  },
  {
   "cell_type": "code",
   "execution_count": null,
   "id": "aa34bb8e",
   "metadata": {},
   "outputs": [],
   "source": []
  },
  {
   "cell_type": "code",
   "execution_count": null,
   "id": "b3e2d565",
   "metadata": {},
   "outputs": [],
   "source": [
    "# Graficar la pmf"
   ]
  },
  {
   "cell_type": "code",
   "execution_count": null,
   "id": "85b301e9",
   "metadata": {},
   "outputs": [],
   "source": []
  }
 ],
 "metadata": {
  "kernelspec": {
   "display_name": "Python 3 (ipykernel)",
   "language": "python",
   "name": "python3"
  },
  "language_info": {
   "codemirror_mode": {
    "name": "ipython",
    "version": 3
   },
   "file_extension": ".py",
   "mimetype": "text/x-python",
   "name": "python",
   "nbconvert_exporter": "python",
   "pygments_lexer": "ipython3",
   "version": "3.9.12"
  }
 },
 "nbformat": 4,
 "nbformat_minor": 5
}
