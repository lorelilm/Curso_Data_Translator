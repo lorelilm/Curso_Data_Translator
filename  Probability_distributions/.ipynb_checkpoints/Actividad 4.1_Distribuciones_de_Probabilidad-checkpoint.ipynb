{
 "cells": [
  {
   "cell_type": "code",
   "execution_count": 1,
   "id": "22dd4609",
   "metadata": {},
   "outputs": [],
   "source": [
    "import numpy as np\n",
    "import pandas as pd\n",
    "import scipy as sp\n",
    "import scipy.stats as stats\n",
    "import matplotlib.pyplot as plt"
   ]
  },
  {
   "cell_type": "markdown",
   "id": "9d3205b4",
   "metadata": {},
   "source": [
    "Dado de 20 caras"
   ]
  },
  {
   "cell_type": "code",
   "execution_count": 2,
   "id": "140ca7bf",
   "metadata": {},
   "outputs": [
    {
     "data": {
      "text/plain": [
       "<scipy.stats._distn_infrastructure.rv_frozen at 0x1cba41deb50>"
      ]
     },
     "execution_count": 2,
     "metadata": {},
     "output_type": "execute_result"
    }
   ],
   "source": [
    "dado= stats.randint(low=1, high=21)\n",
    "dado"
   ]
  },
  {
   "cell_type": "markdown",
   "id": "7f5e8a9c",
   "metadata": {},
   "source": [
    "# Tips\n",
    "\n",
    "## CDF\n",
    "- Mayor o igual / Menor o igual \n",
    "\n",
    "## PMF\n",
    "- Igual"
   ]
  },
  {
   "cell_type": "markdown",
   "id": "a65887cc",
   "metadata": {},
   "source": [
    "P(6-9)"
   ]
  },
  {
   "cell_type": "code",
   "execution_count": 3,
   "id": "8b36d652",
   "metadata": {},
   "outputs": [
    {
     "data": {
      "text/plain": [
       "0.05"
      ]
     },
     "execution_count": 3,
     "metadata": {},
     "output_type": "execute_result"
    }
   ],
   "source": [
    "dado.pmf(6)"
   ]
  },
  {
   "cell_type": "code",
   "execution_count": 4,
   "id": "770e59d3",
   "metadata": {},
   "outputs": [
    {
     "data": {
      "text/plain": [
       "0.05"
      ]
     },
     "execution_count": 4,
     "metadata": {},
     "output_type": "execute_result"
    }
   ],
   "source": [
    "dado.pmf(7)"
   ]
  },
  {
   "cell_type": "code",
   "execution_count": 5,
   "id": "1a55d436",
   "metadata": {},
   "outputs": [
    {
     "data": {
      "text/plain": [
       "0.05"
      ]
     },
     "execution_count": 5,
     "metadata": {},
     "output_type": "execute_result"
    }
   ],
   "source": [
    "dado.pmf(8)"
   ]
  },
  {
   "cell_type": "code",
   "execution_count": 6,
   "id": "84eed71b",
   "metadata": {},
   "outputs": [
    {
     "data": {
      "text/plain": [
       "0.05"
      ]
     },
     "execution_count": 6,
     "metadata": {},
     "output_type": "execute_result"
    }
   ],
   "source": [
    "dado.pmf(9)"
   ]
  },
  {
   "cell_type": "code",
   "execution_count": 7,
   "id": "abaabf4c",
   "metadata": {},
   "outputs": [
    {
     "data": {
      "text/plain": [
       "0.2"
      ]
     },
     "execution_count": 7,
     "metadata": {},
     "output_type": "execute_result"
    }
   ],
   "source": [
    "#P(6-9)\n",
    "dado.pmf([6,7,8,9]).sum()"
   ]
  },
  {
   "cell_type": "code",
   "execution_count": 8,
   "id": "07804067",
   "metadata": {},
   "outputs": [
    {
     "data": {
      "text/plain": [
       "0.44999999999999996"
      ]
     },
     "execution_count": 8,
     "metadata": {},
     "output_type": "execute_result"
    }
   ],
   "source": [
    "#P(Obtener al menos un 12)\n",
    "1-(dado.cdf(11))"
   ]
  },
  {
   "cell_type": "code",
   "execution_count": 9,
   "id": "7e5b4b92",
   "metadata": {},
   "outputs": [
    {
     "data": {
      "text/plain": [
       "0.45"
      ]
     },
     "execution_count": 9,
     "metadata": {},
     "output_type": "execute_result"
    }
   ],
   "source": [
    "#P(Obtener al menos un 12)\n",
    "dado.pmf([12,13,14,15,16,17,18,19,20]).sum()"
   ]
  },
  {
   "cell_type": "code",
   "execution_count": 10,
   "id": "34b76963",
   "metadata": {},
   "outputs": [
    {
     "data": {
      "text/plain": [
       "0.15"
      ]
     },
     "execution_count": 10,
     "metadata": {},
     "output_type": "execute_result"
    }
   ],
   "source": [
    "#P(Obtener 3 o menos)\n",
    "dado.cdf(3)"
   ]
  },
  {
   "cell_type": "code",
   "execution_count": 11,
   "id": "01354f78",
   "metadata": {},
   "outputs": [
    {
     "name": "stdout",
     "output_type": "stream",
     "text": [
      "lanzamiento #: 0 : 6\n",
      "lanzamiento #: 1 : 6\n",
      "lanzamiento #: 2 : 2\n",
      "lanzamiento #: 3 : 4\n",
      "lanzamiento #: 4 : 18\n",
      "lanzamiento #: 5 : 9\n",
      "lanzamiento #: 6 : 19\n",
      "lanzamiento #: 7 : 8\n",
      "lanzamiento #: 8 : 5\n",
      "lanzamiento #: 9 : 19\n"
     ]
    }
   ],
   "source": [
    "# Lanzamiento de dado n veces\n",
    "for i in range(10):\n",
    "    print(\"lanzamiento #:\", i, \":\", dado.rvs())"
   ]
  },
  {
   "cell_type": "code",
   "execution_count": 12,
   "id": "e010337b",
   "metadata": {},
   "outputs": [
    {
     "data": {
      "text/plain": [
       "(0.0, 1.0)"
      ]
     },
     "execution_count": 12,
     "metadata": {},
     "output_type": "execute_result"
    },
    {
     "data": {
      "image/png": "[encoded data removed]",
      "text/plain": [
       "<Figure size 432x288 with 1 Axes>"
      ]
     },
     "metadata": {
      "needs_background": "light"
     },
     "output_type": "display_data"
    }
   ],
   "source": [
    "#Gráfica de PMF\n",
    "plt.bar(range(0,21),dado.pmf(range(0,21)))\n",
    "plt.ylim([0,1])"
   ]
  },
  {
   "cell_type": "markdown",
   "id": "e813e8f9",
   "metadata": {},
   "source": [
    "## Parte 2"
   ]
  },
  {
   "cell_type": "markdown",
   "id": "03f7d671",
   "metadata": {},
   "source": [
    "El apagador de una casa funciona 1 de 5 veces y al accionarlo 15 veces calcular la probabilidad de:"
   ]
  },
  {
   "cell_type": "markdown",
   "id": "6f722eb1",
   "metadata": {},
   "source": [
    "P(Funcione 9 veces)"
   ]
  },
  {
   "cell_type": "code",
   "execution_count": 13,
   "id": "0ac8b52b",
   "metadata": {},
   "outputs": [],
   "source": [
    "encendedor = stats.binom(n=15, p=0.2)"
   ]
  },
  {
   "cell_type": "code",
   "execution_count": 14,
   "id": "7128c297",
   "metadata": {},
   "outputs": [
    {
     "data": {
      "text/plain": [
       "0.0006717597286400011"
      ]
     },
     "execution_count": 14,
     "metadata": {},
     "output_type": "execute_result"
    }
   ],
   "source": [
    "encendedor.pmf(9)"
   ]
  },
  {
   "cell_type": "markdown",
   "id": "daa7a0f1",
   "metadata": {},
   "source": [
    "P(Funcione menos de 4 veces)"
   ]
  },
  {
   "cell_type": "code",
   "execution_count": 15,
   "id": "23b993e0",
   "metadata": {},
   "outputs": [
    {
     "data": {
      "text/plain": [
       "0.6481621045739516"
      ]
     },
     "execution_count": 15,
     "metadata": {},
     "output_type": "execute_result"
    }
   ],
   "source": [
    "encendedor.cdf(3)"
   ]
  },
  {
   "cell_type": "markdown",
   "id": "ea69ad73",
   "metadata": {},
   "source": [
    "P(Funcione 3 o más veces)"
   ]
  },
  {
   "cell_type": "code",
   "execution_count": 16,
   "id": "b054b9c3",
   "metadata": {},
   "outputs": [
    {
     "data": {
      "text/plain": [
       "0.16423372393676816"
      ]
     },
     "execution_count": 16,
     "metadata": {},
     "output_type": "execute_result"
    }
   ],
   "source": [
    "1-encendedor.cdf(4)"
   ]
  },
  {
   "cell_type": "markdown",
   "id": "f55f2f67",
   "metadata": {},
   "source": [
    "Graficar la Función de Densidad de Probabilidad"
   ]
  },
  {
   "cell_type": "code",
   "execution_count": 17,
   "id": "cfa30096",
   "metadata": {},
   "outputs": [
    {
     "data": {
      "text/plain": [
       "<BarContainer object of 15 artists>"
      ]
     },
     "execution_count": 17,
     "metadata": {},
     "output_type": "execute_result"
    },
    {
     "data": {
      "image/png": "[encoded data removed]",
      "text/plain": [
       "<Figure size 432x288 with 1 Axes>"
      ]
     },
     "metadata": {
      "needs_background": "light"
     },
     "output_type": "display_data"
    }
   ],
   "source": [
    "plt.bar(range(1,16),encendedor.pmf(range(1,16)))"
   ]
  },
  {
   "cell_type": "markdown",
   "id": "7bd27968",
   "metadata": {},
   "source": [
    "## Parte 3"
   ]
  },
  {
   "cell_type": "markdown",
   "id": "305b9287",
   "metadata": {},
   "source": [
    "En una línea de producción se estrellan 3 vitrales por hora, clacular las probabilidades de"
   ]
  },
  {
   "cell_type": "code",
   "execution_count": 18,
   "id": "c7379428",
   "metadata": {},
   "outputs": [],
   "source": [
    "vitrales = stats.poisson(mu=3)"
   ]
  },
  {
   "cell_type": "markdown",
   "id": "3bc0de67",
   "metadata": {},
   "source": [
    "P(Estrellar un vitral por hora)"
   ]
  },
  {
   "cell_type": "code",
   "execution_count": 19,
   "id": "c7dd61c3",
   "metadata": {},
   "outputs": [
    {
     "data": {
      "text/plain": [
       "0.14936120510359185"
      ]
     },
     "execution_count": 19,
     "metadata": {},
     "output_type": "execute_result"
    }
   ],
   "source": [
    "vitrales.pmf(1)"
   ]
  },
  {
   "cell_type": "markdown",
   "id": "b3f0f539",
   "metadata": {},
   "source": [
    "P(Estrellar entre 4 y 7 por hora)"
   ]
  },
  {
   "cell_type": "code",
   "execution_count": 20,
   "id": "f7b10f21",
   "metadata": {},
   "outputs": [
    {
     "data": {
      "text/plain": [
       "0.34086360736141147"
      ]
     },
     "execution_count": 20,
     "metadata": {},
     "output_type": "execute_result"
    }
   ],
   "source": [
    "vitrales.pmf([4,5,6,7]).sum()"
   ]
  },
  {
   "cell_type": "markdown",
   "id": "0160e8d8",
   "metadata": {},
   "source": [
    "P(Estrellar menos de 6 por hora)"
   ]
  },
  {
   "cell_type": "code",
   "execution_count": 21,
   "id": "70d14479",
   "metadata": {},
   "outputs": [
    {
     "data": {
      "text/plain": [
       "0.9160820579686966"
      ]
     },
     "execution_count": 21,
     "metadata": {},
     "output_type": "execute_result"
    }
   ],
   "source": [
    "vitrales.cdf(5)"
   ]
  },
  {
   "cell_type": "markdown",
   "id": "9c0f8279",
   "metadata": {},
   "source": [
    "Graficar la Función de Densidad de Probabilidad"
   ]
  },
  {
   "cell_type": "code",
   "execution_count": 22,
   "id": "4f66120c",
   "metadata": {},
   "outputs": [
    {
     "data": {
      "text/plain": [
       "<BarContainer object of 9 artists>"
      ]
     },
     "execution_count": 22,
     "metadata": {},
     "output_type": "execute_result"
    },
    {
     "data": {
      "image/png": "[encoded data removed]",
      "text/plain": [
       "<Figure size 432x288 with 1 Axes>"
      ]
     },
     "metadata": {
      "needs_background": "light"
     },
     "output_type": "display_data"
    }
   ],
   "source": [
    "plt.bar(range(1,10),vitrales.pmf(range(1,10)))"
   ]
  },
  {
   "cell_type": "markdown",
   "id": "1276b2c9",
   "metadata": {},
   "source": [
    "## Parte 4"
   ]
  },
  {
   "cell_type": "markdown",
   "id": "b248d831",
   "metadata": {},
   "source": [
    "El documento sqft.csv, contiene el área en pies cuadrados (sqft) de un conjunto de hogares, con esta información calcular:"
   ]
  },
  {
   "cell_type": "code",
   "execution_count": 23,
   "id": "25da863a",
   "metadata": {},
   "outputs": [
    {
     "data": {
      "text/html": [
       "<div>\n",
       "<style scoped>\n",
       "    .dataframe tbody tr th:only-of-type {\n",
       "        vertical-align: middle;\n",
       "    }\n",
       "\n",
       "    .dataframe tbody tr th {\n",
       "        vertical-align: top;\n",
       "    }\n",
       "\n",
       "    .dataframe thead th {\n",
       "        text-align: right;\n",
       "    }\n",
       "</style>\n",
       "<table border=\"1\" class=\"dataframe\">\n",
       "  <thead>\n",
       "    <tr style=\"text-align: right;\">\n",
       "      <th></th>\n",
       "      <th>sqft</th>\n",
       "    </tr>\n",
       "  </thead>\n",
       "  <tbody>\n",
       "    <tr>\n",
       "      <th>0</th>\n",
       "      <td>1788.733268</td>\n",
       "    </tr>\n",
       "    <tr>\n",
       "      <th>1</th>\n",
       "      <td>1763.827324</td>\n",
       "    </tr>\n",
       "    <tr>\n",
       "      <th>2</th>\n",
       "      <td>1651.993341</td>\n",
       "    </tr>\n",
       "    <tr>\n",
       "      <th>3</th>\n",
       "      <td>1603.205624</td>\n",
       "    </tr>\n",
       "    <tr>\n",
       "      <th>4</th>\n",
       "      <td>1472.958266</td>\n",
       "    </tr>\n",
       "  </tbody>\n",
       "</table>\n",
       "</div>"
      ],
      "text/plain": [
       "          sqft\n",
       "0  1788.733268\n",
       "1  1763.827324\n",
       "2  1651.993341\n",
       "3  1603.205624\n",
       "4  1472.958266"
      ]
     },
     "execution_count": 23,
     "metadata": {},
     "output_type": "execute_result"
    }
   ],
   "source": [
    "df=pd.read_csv(\"sqft.csv\")\n",
    "df.head()"
   ]
  },
  {
   "cell_type": "markdown",
   "id": "b4a3f275",
   "metadata": {},
   "source": [
    "P(Una casa posea 830 +/- 25 sqft)"
   ]
  },
  {
   "cell_type": "code",
   "execution_count": 24,
   "id": "a92c5430",
   "metadata": {},
   "outputs": [],
   "source": [
    "df1 = df[df[\"sqft\"] > 805] "
   ]
  },
  {
   "cell_type": "code",
   "execution_count": 25,
   "id": "582d2ecc",
   "metadata": {},
   "outputs": [],
   "source": [
    "df2 = df1[df1[\"sqft\"] < 855] "
   ]
  },
  {
   "cell_type": "code",
   "execution_count": 26,
   "id": "7ad6feae",
   "metadata": {},
   "outputs": [
    {
     "data": {
      "text/plain": [
       "sqft    0.00373\n",
       "dtype: float64"
      ]
     },
     "execution_count": 26,
     "metadata": {},
     "output_type": "execute_result"
    }
   ],
   "source": [
    "df3= (df2.count())/(df.count())\n",
    "df3"
   ]
  },
  {
   "cell_type": "markdown",
   "id": "cbdd379c",
   "metadata": {},
   "source": [
    "P(Una casa posea más de 3000 sqft)"
   ]
  },
  {
   "cell_type": "code",
   "execution_count": 27,
   "id": "2e296cc2",
   "metadata": {},
   "outputs": [
    {
     "data": {
      "text/plain": [
       "sqft    0.0\n",
       "dtype: float64"
      ]
     },
     "execution_count": 27,
     "metadata": {},
     "output_type": "execute_result"
    }
   ],
   "source": [
    "df421 = df[df[\"sqft\"] > 3000]\n",
    "df42 = df421.count()/df.count()\n",
    "df42"
   ]
  },
  {
   "cell_type": "markdown",
   "id": "882b66b0",
   "metadata": {},
   "source": [
    "P(Una casa posea menos de 275 sqft)"
   ]
  },
  {
   "cell_type": "code",
   "execution_count": 28,
   "id": "24af7a87",
   "metadata": {},
   "outputs": [
    {
     "data": {
      "text/plain": [
       "sqft    0.00002\n",
       "dtype: float64"
      ]
     },
     "execution_count": 28,
     "metadata": {},
     "output_type": "execute_result"
    }
   ],
   "source": [
    "df431 = df[df[\"sqft\"] < 275]\n",
    "df43 = df431.count()/df.count()\n",
    "df43"
   ]
  },
  {
   "cell_type": "markdown",
   "id": "f3d0978b",
   "metadata": {},
   "source": [
    "Graficar la Función de Densidad de Probabilidad"
   ]
  },
  {
   "cell_type": "code",
   "execution_count": 29,
   "id": "7a146544",
   "metadata": {},
   "outputs": [
    {
     "data": {
      "image/png": "[encoded data removed]",
      "text/plain": [
       "<Figure size 432x288 with 1 Axes>"
      ]
     },
     "metadata": {
      "needs_background": "light"
     },
     "output_type": "display_data"
    }
   ],
   "source": [
    "df.hist();"
   ]
  },
  {
   "cell_type": "markdown",
   "id": "a4a87d34",
   "metadata": {},
   "source": [
    "## Parte 5"
   ]
  },
  {
   "cell_type": "markdown",
   "id": "29954d3a",
   "metadata": {},
   "source": [
    "Un mecanógrafo comete una media de 2 errores por página ¿Cuál es la probabilidad de que una página concreta no tenga errores?\n",
    "Pista: Se trata de la tasa de errores por página."
   ]
  },
  {
   "cell_type": "code",
   "execution_count": 30,
   "id": "a2383a2a",
   "metadata": {},
   "outputs": [
    {
     "data": {
      "text/plain": [
       "<scipy.stats._distn_infrastructure.rv_frozen at 0x1cba4b5b7c0>"
      ]
     },
     "execution_count": 30,
     "metadata": {},
     "output_type": "execute_result"
    }
   ],
   "source": [
    "meca= stats.poisson(2)\n",
    "meca"
   ]
  },
  {
   "cell_type": "code",
   "execution_count": 31,
   "id": "34a6b89e",
   "metadata": {},
   "outputs": [
    {
     "data": {
      "text/plain": [
       "0.1353352832366127"
      ]
     },
     "execution_count": 31,
     "metadata": {},
     "output_type": "execute_result"
    }
   ],
   "source": [
    "meca.pmf(0)"
   ]
  },
  {
   "cell_type": "code",
   "execution_count": 32,
   "id": "7f5bb970",
   "metadata": {},
   "outputs": [
    {
     "data": {
      "text/plain": [
       "[<matplotlib.lines.Line2D at 0x1cba4c97be0>]"
      ]
     },
     "execution_count": 32,
     "metadata": {},
     "output_type": "execute_result"
    },
    {
     "data": {
      "image/png": "[encoded data removed]",
      "text/plain": [
       "<Figure size 432x288 with 1 Axes>"
      ]
     },
     "metadata": {
      "needs_background": "light"
     },
     "output_type": "display_data"
    }
   ],
   "source": [
    "plt.bar(range(0,10), meca.pmf(range(0,10)))\n",
    "plt.plot(range(0,10), meca.pmf(range(0,10)), marker=\"*\", c=\"r\")"
   ]
  },
  {
   "cell_type": "markdown",
   "id": "b10a55ac",
   "metadata": {},
   "source": [
    "Los componentes se embalan en cajas de 20. La probabilidad de que un componente individual sea defectuoso es del 10%. Calcula las siguientes probabilidades:"
   ]
  },
  {
   "cell_type": "code",
   "execution_count": 33,
   "id": "88f45099",
   "metadata": {},
   "outputs": [
    {
     "data": {
      "text/plain": [
       "<scipy.stats._distn_infrastructure.rv_frozen at 0x1cba4cc4d60>"
      ]
     },
     "execution_count": 33,
     "metadata": {},
     "output_type": "execute_result"
    }
   ],
   "source": [
    "caja= stats.binom(20,0.1)\n",
    "caja"
   ]
  },
  {
   "cell_type": "markdown",
   "id": "f0a6b677",
   "metadata": {},
   "source": [
    "Que una caja contenga exactamente 2 componentes defectuosos\n",
    "Pista: 20 componentes independientes con un estado binario: normal o defectuoso."
   ]
  },
  {
   "cell_type": "code",
   "execution_count": 34,
   "id": "5511bef5",
   "metadata": {},
   "outputs": [
    {
     "data": {
      "text/plain": [
       "0.3917469981251679"
      ]
     },
     "execution_count": 34,
     "metadata": {},
     "output_type": "execute_result"
    }
   ],
   "source": [
    "caja.cdf(1)"
   ]
  },
  {
   "cell_type": "markdown",
   "id": "8caaca1c",
   "metadata": {},
   "source": [
    "Qué una caja contenga máximo 2 componentes defectuosos\n",
    "Pista: Encuentra todas las posibilidades de que haya al menos 2 componentes defectuosos."
   ]
  },
  {
   "cell_type": "code",
   "execution_count": 35,
   "id": "fa6e3bb5",
   "metadata": {},
   "outputs": [
    {
     "data": {
      "text/plain": [
       "0.6769268051894659"
      ]
     },
     "execution_count": 35,
     "metadata": {},
     "output_type": "execute_result"
    }
   ],
   "source": [
    "caja.cdf(2)"
   ]
  },
  {
   "cell_type": "markdown",
   "id": "db74620f",
   "metadata": {},
   "source": [
    "Los clientes llegan a un bar local a un ritmo de 30 por hora. ¿Cuál es la probabilidad de que el portero pueda tomarse un descanso de tres minutos para ir al baño sin perder al siguiente cliente?\n",
    "Pista 1: Reducir la tasa de persona/hora a persona/minuto\n",
    "Pista 2: La probabilidad del tiempo antes de que ocurra el evento sigue una distribución exponencial."
   ]
  },
  {
   "cell_type": "code",
   "execution_count": 36,
   "id": "eac071c7",
   "metadata": {},
   "outputs": [
    {
     "data": {
      "text/plain": [
       "0.5"
      ]
     },
     "execution_count": 36,
     "metadata": {},
     "output_type": "execute_result"
    }
   ],
   "source": [
    "ppm = 30/1*(1/60)\n",
    "ppm"
   ]
  },
  {
   "cell_type": "code",
   "execution_count": 37,
   "id": "90f68eae",
   "metadata": {},
   "outputs": [
    {
     "data": {
      "text/plain": [
       "<scipy.stats._distn_infrastructure.rv_frozen at 0x1cba4c69ee0>"
      ]
     },
     "execution_count": 37,
     "metadata": {},
     "output_type": "execute_result"
    }
   ],
   "source": [
    "bar= stats.expon(ppm)\n",
    "bar"
   ]
  },
  {
   "cell_type": "code",
   "execution_count": 38,
   "id": "7f676838",
   "metadata": {},
   "outputs": [
    {
     "data": {
      "text/plain": [
       "0.0820849986238988"
      ]
     },
     "execution_count": 38,
     "metadata": {},
     "output_type": "execute_result"
    }
   ],
   "source": [
    "bar.pdf(3)"
   ]
  },
  {
   "cell_type": "code",
   "execution_count": 39,
   "id": "1a92de20",
   "metadata": {},
   "outputs": [
    {
     "data": {
      "text/plain": [
       "[<matplotlib.lines.Line2D at 0x1cba4d1a7f0>]"
      ]
     },
     "execution_count": 39,
     "metadata": {},
     "output_type": "execute_result"
    },
    {
     "data": {
      "image/png": "[encoded data removed]",
      "text/plain": [
       "<Figure size 432x288 with 1 Axes>"
      ]
     },
     "metadata": {
      "needs_background": "light"
     },
     "output_type": "display_data"
    }
   ],
   "source": [
    "t=30\n",
    "plt.plot(range(0,t), bar.pdf(range(0,t)))"
   ]
  },
  {
   "cell_type": "code",
   "execution_count": 40,
   "id": "62c3f343",
   "metadata": {},
   "outputs": [],
   "source": [
    "def draw_pdf(ax, dist, param_names, param_values, xpts):\n",
    "    '''Dibujar una PDF'''\n",
    "    label = generate_label(param_names, param_values)\n",
    "    ax.plot(xpts, [dist(*param_values).pdf(x) for x in xpts], label=label, linewidth=2)\n",
    "    \n",
    "def draw_cdf(ax, dist, param_names, param_values, xpts):\n",
    "    label = generate_label(param_names, param_values)\n",
    "    ax.plot(xpts, [dist(*param_values).cdf(x) for x in xpts], label=label, linewidth=2)  \n",
    "\n",
    "def draw_continuous_distributions(dist, param_names, param_values, xmin, xmax, figsize=(8,6)):\n",
    "    '''Dibujar varias PDFs'''   \n",
    "    fig, axs = plt.subplots(1, 2, figsize=(12, 4))\n",
    "    xpts = np.linspace(xmin, xmax, 200)\n",
    "    for pv in param_values:\n",
    "        draw_cdf(axs[0], dist, param_names, pv, xpts)\n",
    "        draw_pdf(axs[1], dist, param_names, pv, xpts)\n",
    "    axs[0].set_ylabel('Distribución Acumulada')\n",
    "    axs[1].set_ylabel('Densidad de Probabilidad')\n",
    "    axs[0].legend()\n",
    "    axs[1].legend()"
   ]
  },
  {
   "cell_type": "code",
   "execution_count": 41,
   "id": "896188d1",
   "metadata": {},
   "outputs": [],
   "source": [
    "def generate_label(param_names, param_values):\n",
    "    '''Generate parameter labels for the legend'''\n",
    "    params = [\"{}={}\".format(name,value) for name, value in zip(param_names, param_values)\n",
    "              if name is not None]\n",
    "    return \", \".join(params)\n",
    "\n",
    "def draw_pmf(ax, dist, param_names, param_values, xpts):\n",
    "    '''draw a pmf as part of a set of pmfs'''\n",
    "    label = generate_label(param_names, param_values)\n",
    "    ax.bar(xpts, \n",
    "           [dist(*param_values).pmf(x) for x in xpts], \n",
    "           label=label, \n",
    "           align='center',\n",
    "           color='grey')\n",
    "    \n",
    "def draw_pmf_grid(dist, param_names, param_values, xpts, height=2.5):\n",
    "    '''draw several pmfs for for various parameter values for a given distribution'''\n",
    "    figsize = (12, height * len(param_values))\n",
    "    fig = plt.figure(figsize=figsize)\n",
    "    for i, pv in enumerate(param_values, start=1):\n",
    "        if i == 1:\n",
    "            ax = ax1 = fig.add_subplot(len(param_values), 1, i)\n",
    "        else:\n",
    "            ax = fig.add_subplot(len(param_values), 1, i, sharey=ax1)\n",
    "        draw_pmf(ax, dist, param_names, pv, xpts)\n",
    "        ax.set_ylabel('p')\n",
    "        ax.set_ylim(bottom=0)\n",
    "        ax.set_xlim(left=min(xpts) - 0.5, right=max(xpts) + 0.5)\n",
    "        ax.legend(frameon=True)\n",
    "        plt.xticks(np.arange(min(xpts), np.ceil(max(xpts))+1)) ## force integer ticks\n",
    "    plt.show()"
   ]
  },
  {
   "cell_type": "code",
   "execution_count": 42,
   "id": "a16b2b3f",
   "metadata": {},
   "outputs": [
    {
     "data": {
      "image/png": "[encoded data removed]",
      "text/plain": [
       "<Figure size 864x288 with 2 Axes>"
      ]
     },
     "metadata": {
      "needs_background": "light"
     },
     "output_type": "display_data"
    }
   ],
   "source": [
    "draw_continuous_distributions(stats.expon, (None, r\"$\\theta$\"), [(0,0.5), (0,22)], 0, 60)"
   ]
  },
  {
   "cell_type": "code",
   "execution_count": 43,
   "id": "bee05b8e",
   "metadata": {},
   "outputs": [
    {
     "data": {
      "image/png": "[encoded data removed]",
      "text/plain": [
       "<Figure size 864x288 with 2 Axes>"
      ]
     },
     "metadata": {
      "needs_background": "light"
     },
     "output_type": "display_data"
    }
   ],
   "source": [
    "draw_continuous_distributions(stats.expon, (None, r\"$\\theta$\"), [(0,22)], 0, 60) #Ejemplo de estudiantes de la clase"
   ]
  },
  {
   "cell_type": "code",
   "execution_count": 44,
   "id": "cde439df",
   "metadata": {},
   "outputs": [
    {
     "data": {
      "image/png": "[encoded data removed]",
      "text/plain": [
       "<Figure size 864x288 with 2 Axes>"
      ]
     },
     "metadata": {
      "needs_background": "light"
     },
     "output_type": "display_data"
    }
   ],
   "source": [
    "draw_continuous_distributions(stats.expon, (None, r\"$\\theta$\"), [(0,0.5)], 0, 4)"
   ]
  },
  {
   "cell_type": "markdown",
   "id": "3ee8342a",
   "metadata": {},
   "source": [
    "¿Cuál es la probabilidad de que el portero pueda tomarse un descanso de tres minutos para ir al baño sin perder al siguiente cliente?"
   ]
  },
  {
   "cell_type": "code",
   "execution_count": 45,
   "id": "0c75793d",
   "metadata": {},
   "outputs": [
    {
     "data": {
      "text/plain": [
       "0.9975212478233336"
      ]
     },
     "execution_count": 45,
     "metadata": {},
     "output_type": "execute_result"
    }
   ],
   "source": [
    "stats.expon.cdf(3, scale=0.5) #P de que llegue alguien en t<=3 min"
   ]
  },
  {
   "cell_type": "markdown",
   "id": "c2e429a8",
   "metadata": {},
   "source": [
    "Probabilidad de que no llegue nadie "
   ]
  },
  {
   "cell_type": "code",
   "execution_count": 46,
   "id": "e59361fa",
   "metadata": {},
   "outputs": [
    {
     "data": {
      "text/plain": [
       "0.0024787521766663767"
      ]
     },
     "execution_count": 46,
     "metadata": {},
     "output_type": "execute_result"
    }
   ],
   "source": [
    "1 - (stats.expon.cdf(3, scale=0.5)) "
   ]
  },
  {
   "cell_type": "markdown",
   "id": "3e5a0b8b",
   "metadata": {},
   "source": [
    "## Parte 6"
   ]
  },
  {
   "cell_type": "markdown",
   "id": "b6aa120d",
   "metadata": {},
   "source": [
    "Tienes que encontrar a una persona alta, de al menos 1,80 metros, para que te ayude a alcanzar un tarro de galletas. El 8% de la población mide 1,80 m o más, y la gente pasa de la media dos veces por minuto. "
   ]
  },
  {
   "cell_type": "code",
   "execution_count": 47,
   "id": "5dfa869c",
   "metadata": {},
   "outputs": [],
   "source": [
    "alta = stats.expon(0, scale=2)"
   ]
  },
  {
   "cell_type": "code",
   "execution_count": 48,
   "id": "9e577265",
   "metadata": {},
   "outputs": [
    {
     "data": {
      "text/plain": [
       "<matplotlib.collections.PathCollection at 0x1cba4eb9700>"
      ]
     },
     "execution_count": 48,
     "metadata": {},
     "output_type": "execute_result"
    },
    {
     "data": {
      "image/png": "[encoded data removed]",
      "text/plain": [
       "<Figure size 432x288 with 1 Axes>"
      ]
     },
     "metadata": {
      "needs_background": "light"
     },
     "output_type": "display_data"
    }
   ],
   "source": [
    "plt.plot(range(0,15), alta.cdf(range(0,15)))\n",
    "plt.scatter(range(0,15), alta.cdf(range(0,15)), c=\"r\", marker=\"+\", s=200)"
   ]
  },
  {
   "cell_type": "code",
   "execution_count": 49,
   "id": "9637bec0",
   "metadata": {},
   "outputs": [
    {
     "data": {
      "text/plain": [
       "0.9932620530009145"
      ]
     },
     "execution_count": 49,
     "metadata": {},
     "output_type": "execute_result"
    }
   ],
   "source": [
    "alta.cdf(10)"
   ]
  },
  {
   "cell_type": "code",
   "execution_count": 50,
   "id": "80ab2e08",
   "metadata": {},
   "outputs": [
    {
     "data": {
      "text/plain": [
       "0.006737946999085476"
      ]
     },
     "execution_count": 50,
     "metadata": {},
     "output_type": "execute_result"
    }
   ],
   "source": [
    "1 - (alta.cdf(10))"
   ]
  },
  {
   "cell_type": "code",
   "execution_count": 51,
   "id": "9c2ee812",
   "metadata": {},
   "outputs": [
    {
     "data": {
      "text/plain": [
       "0.07946096424007316"
      ]
     },
     "execution_count": 51,
     "metadata": {},
     "output_type": "execute_result"
    }
   ],
   "source": [
    "(alta.cdf(10))*0.08"
   ]
  },
  {
   "cell_type": "markdown",
   "id": "71c04386",
   "metadata": {},
   "source": [
    "Si esperas en la acera, ¿cuál es la probabilidad de que tengas que esperar más de diez minutos para conseguir unas galletas?\n",
    "Pista 1: Halla la tasa de número de personas altas/minuto.\n",
    "Pista 2: El problema se reduce a una función de distribución exponencial."
   ]
  },
  {
   "cell_type": "code",
   "execution_count": 52,
   "id": "0115ab5d",
   "metadata": {},
   "outputs": [
    {
     "data": {
      "text/plain": [
       "0.000539035759926838"
      ]
     },
     "execution_count": 52,
     "metadata": {},
     "output_type": "execute_result"
    }
   ],
   "source": [
    "(1-alta.cdf(10))*0.08"
   ]
  },
  {
   "cell_type": "markdown",
   "id": "e1a42723",
   "metadata": {},
   "source": [
    "Un pasajero apresurado llegará varios minutos tarde a un vuelo programado para las 10 de la mañana a Nueva York. Sin embargo, es posible que llegue al vuelo, ya que el embarque siempre se permite hasta las 10:10 A.M., y a veces se permite el embarque hasta las 10:30 AM. Suponiendo que la hora de finalización del intervalo de embarque se distribuye uniformemente sobre los límites anteriores, encuentre la probabilidad de que el pasajero llegue a su vuelo, suponiendo que llega a la puerta de embarque a las 10:25."
   ]
  },
  {
   "cell_type": "code",
   "execution_count": 53,
   "id": "87d295fc",
   "metadata": {},
   "outputs": [
    {
     "data": {
      "text/plain": [
       "<scipy.stats._distn_infrastructure.rv_frozen at 0x1cba4db8340>"
      ]
     },
     "execution_count": 53,
     "metadata": {},
     "output_type": "execute_result"
    }
   ],
   "source": [
    "vuelo = stats.randint(low=10, high=30) #El cero es equivalente a las 10:00\n",
    "vuelo"
   ]
  },
  {
   "cell_type": "code",
   "execution_count": 54,
   "id": "ea4658c8",
   "metadata": {},
   "outputs": [
    {
     "data": {
      "text/plain": [
       "0.05"
      ]
     },
     "execution_count": 54,
     "metadata": {},
     "output_type": "execute_result"
    }
   ],
   "source": [
    "vuelo.pmf(25)"
   ]
  },
  {
   "cell_type": "code",
   "execution_count": 55,
   "id": "1c47860e",
   "metadata": {},
   "outputs": [
    {
     "data": {
      "text/plain": [
       "[<matplotlib.lines.Line2D at 0x1cba4941250>]"
      ]
     },
     "execution_count": 55,
     "metadata": {},
     "output_type": "execute_result"
    },
    {
     "data": {
      "image/png": "[encoded data removed]",
      "text/plain": [
       "<Figure size 432x288 with 1 Axes>"
      ]
     },
     "metadata": {
      "needs_background": "light"
     },
     "output_type": "display_data"
    }
   ],
   "source": [
    "plt.plot(range(0,35), vuelo.cdf(range(0,35)))"
   ]
  },
  {
   "cell_type": "code",
   "execution_count": 56,
   "id": "1c7602b2",
   "metadata": {},
   "outputs": [
    {
     "data": {
      "text/plain": [
       "(0.0, 1.0)"
      ]
     },
     "execution_count": 56,
     "metadata": {},
     "output_type": "execute_result"
    },
    {
     "data": {
      "image/png": "[encoded data removed]",
      "text/plain": [
       "<Figure size 432x288 with 1 Axes>"
      ]
     },
     "metadata": {
      "needs_background": "light"
     },
     "output_type": "display_data"
    }
   ],
   "source": [
    "plt.bar(range(0,35), vuelo.pmf(range(0,35)))\n",
    "plt.ylim([0,1])"
   ]
  },
  {
   "cell_type": "code",
   "execution_count": 57,
   "id": "80c42d24",
   "metadata": {},
   "outputs": [
    {
     "data": {
      "text/plain": [
       "[<matplotlib.lines.Line2D at 0x1cba603c7c0>]"
      ]
     },
     "execution_count": 57,
     "metadata": {},
     "output_type": "execute_result"
    },
    {
     "data": {
      "image/png": "[encoded data removed]",
      "text/plain": [
       "<Figure size 432x288 with 1 Axes>"
      ]
     },
     "metadata": {
      "needs_background": "light"
     },
     "output_type": "display_data"
    }
   ],
   "source": [
    "plt.plot(range(0,35),vuelo.ppf(range(0,35)))"
   ]
  },
  {
   "cell_type": "code",
   "execution_count": 58,
   "id": "58519b16",
   "metadata": {},
   "outputs": [],
   "source": [
    "vuelo2=stats.uniform(loc=10, scale=20) \n",
    "#Scale es prueba y error --> Desviación estándar"
   ]
  },
  {
   "cell_type": "code",
   "execution_count": 59,
   "id": "9f7f8b04",
   "metadata": {},
   "outputs": [
    {
     "data": {
      "text/plain": [
       "(-0.1, 35.0)"
      ]
     },
     "execution_count": 59,
     "metadata": {},
     "output_type": "execute_result"
    },
    {
     "data": {
      "image/png": "[encoded data removed]",
      "text/plain": [
       "<Figure size 432x288 with 1 Axes>"
      ]
     },
     "metadata": {
      "needs_background": "light"
     },
     "output_type": "display_data"
    }
   ],
   "source": [
    "plt.plot(range(0,35), vuelo2.cdf(range(0,35)))\n",
    "plt.ylim([-0.1,1.1])\n",
    "plt.xlim([-0.1,35])"
   ]
  },
  {
   "cell_type": "code",
   "execution_count": 60,
   "id": "2f478751",
   "metadata": {},
   "outputs": [
    {
     "data": {
      "text/plain": [
       "0.05"
      ]
     },
     "execution_count": 60,
     "metadata": {},
     "output_type": "execute_result"
    }
   ],
   "source": [
    "vuelo2.pdf(25)"
   ]
  },
  {
   "cell_type": "markdown",
   "id": "bc48b26a",
   "metadata": {},
   "source": [
    "Tu gato empieza a pedir la cena a las 3:30 todos los días, y sospechas que maúlla a un ritmo fijo. Has observado que aproximadamente una quinta parte de las veces tu gato no maúlla hasta las 3:40, lo que te da 10 minutos inesperados de tranquilidad. ¿Cuál es la probabilidad de que tu gato te deje tranquilo durante 30 minutos?\n",
    "Pista : Primero encuentra el parámetro de la distribución, y luego utiliza el parámetro que has encontrado para calcular la probabilidad desconocida."
   ]
  },
  {
   "cell_type": "code",
   "execution_count": 61,
   "id": "a96b061d",
   "metadata": {},
   "outputs": [
    {
     "data": {
      "text/plain": [
       "<scipy.stats._distn_infrastructure.rv_frozen at 0x1cba4daa5e0>"
      ]
     },
     "execution_count": 61,
     "metadata": {},
     "output_type": "execute_result"
    }
   ],
   "source": [
    "NM=1/5 \n",
    "gato= stats.poisson(NM)\n",
    "gato"
   ]
  },
  {
   "cell_type": "code",
   "execution_count": 62,
   "id": "6c84d3d6",
   "metadata": {},
   "outputs": [
    {
     "data": {
      "text/plain": [
       "0.0010916410041039767"
      ]
     },
     "execution_count": 62,
     "metadata": {},
     "output_type": "execute_result"
    }
   ],
   "source": [
    "gato.pmf(3)"
   ]
  },
  {
   "cell_type": "markdown",
   "id": "718b4778",
   "metadata": {},
   "source": [
    "De alguna manera, has acabado con dos tipos de tenedores. Están los tenedores buenos, que son grandes y sirven para un bocado sano, pero también están estos pequeños y finos que no entiendes muy bien para qué sirven, probablemente deberías deshacerte de ellos. Necesitas dos tenedores para ti y tu pareja, y coge un puñado de 5. Si hay 14 tenedores en el cajón, de los cuales la mitad son del tipo bueno, ¿cuál es la probabilidad de que tengas al menos los dos tenedores buenos que necesitas?\n",
    "Pista 1: Este es un problema de distribución hipogeométrica.\n",
    "Pista 2: Descomponga todas las posibilidades de tener al menos dos tenedores buenos, es decir, 2 tenedores buenos, 3, 4 y 5."
   ]
  },
  {
   "cell_type": "code",
   "execution_count": 63,
   "id": "ac4987ec",
   "metadata": {},
   "outputs": [
    {
     "data": {
      "text/plain": [
       "<scipy.stats._distn_infrastructure.rv_frozen at 0x1cba60e19d0>"
      ]
     },
     "execution_count": 63,
     "metadata": {},
     "output_type": "execute_result"
    }
   ],
   "source": [
    "tenedores = stats.nhypergeom(M=14, n=7, r=5)\n",
    "tenedores\n",
    "#M -- Totales\n"
   ]
  },
  {
   "cell_type": "code",
   "execution_count": 64,
   "id": "ba099fab",
   "metadata": {},
   "outputs": [
    {
     "data": {
      "text/plain": [
       "0.0917832167832168"
      ]
     },
     "execution_count": 64,
     "metadata": {},
     "output_type": "execute_result"
    }
   ],
   "source": [
    "tenedores.pmf(2)"
   ]
  },
  {
   "cell_type": "code",
   "execution_count": 65,
   "id": "83356deb",
   "metadata": {},
   "outputs": [
    {
     "data": {
      "text/plain": [
       "0.15297202797202797"
      ]
     },
     "execution_count": 65,
     "metadata": {},
     "output_type": "execute_result"
    }
   ],
   "source": [
    "tenedores.pmf(3)"
   ]
  },
  {
   "cell_type": "code",
   "execution_count": 66,
   "id": "8d4021ba",
   "metadata": {},
   "outputs": [
    {
     "data": {
      "text/plain": [
       "0.2039627039627041"
      ]
     },
     "execution_count": 66,
     "metadata": {},
     "output_type": "execute_result"
    }
   ],
   "source": [
    "tenedores.pmf(4)"
   ]
  },
  {
   "cell_type": "code",
   "execution_count": 67,
   "id": "517ebdad",
   "metadata": {},
   "outputs": [
    {
     "data": {
      "text/plain": [
       "0.2202797202797206"
      ]
     },
     "execution_count": 67,
     "metadata": {},
     "output_type": "execute_result"
    }
   ],
   "source": [
    "tenedores.pmf(5)"
   ]
  },
  {
   "cell_type": "code",
   "execution_count": 68,
   "id": "19f89393",
   "metadata": {},
   "outputs": [
    {
     "data": {
      "text/plain": [
       "0.6689976689976695"
      ]
     },
     "execution_count": 68,
     "metadata": {},
     "output_type": "execute_result"
    }
   ],
   "source": [
    "tenedores.pmf([2,3,4,5]).sum()"
   ]
  },
  {
   "cell_type": "markdown",
   "id": "db40e3a4",
   "metadata": {},
   "source": [
    "De los alumnos de una clase, el 60% son genios, el 70% aman el chocolate y el 40% entran en ambas categorías. Determina la probabilidad de que un alumno seleccionado al azar no sea ni un genio ni un amante del chocolate.\n",
    "Pista: Es de tipo conjunto\n",
    "Probabilidad condicional"
   ]
  },
  {
   "cell_type": "code",
   "execution_count": 69,
   "id": "bd3f659a",
   "metadata": {},
   "outputs": [],
   "source": [
    "alumnos=60"
   ]
  },
  {
   "cell_type": "code",
   "execution_count": 70,
   "id": "9a072819",
   "metadata": {},
   "outputs": [],
   "source": [
    "P_AB = 40/70"
   ]
  },
  {
   "cell_type": "code",
   "execution_count": 71,
   "id": "3e0f751a",
   "metadata": {},
   "outputs": [
    {
     "data": {
      "text/plain": [
       "0.4285714285714286"
      ]
     },
     "execution_count": 71,
     "metadata": {},
     "output_type": "execute_result"
    }
   ],
   "source": [
    "Prob = 1-(P_AB)\n",
    "Prob"
   ]
  },
  {
   "cell_type": "code",
   "execution_count": 83,
   "id": "ff7c429f",
   "metadata": {},
   "outputs": [
    {
     "data": {
      "text/plain": [
       "(0.33333333333333337, 0.25)"
      ]
     },
     "execution_count": 83,
     "metadata": {},
     "output_type": "execute_result"
    }
   ],
   "source": [
    "#Probabilidad de que no sea genio ni ame el chocolate es 10%\n",
    "P1= 0.1/0.3 #P de no ser genio dado que no ama el chocolate \n",
    "P2= 0.1/0.4 #P de no amar el chocolate dado que es un genio\n",
    "P1, P2"
   ]
  },
  {
   "cell_type": "markdown",
   "id": "fdc37501",
   "metadata": {},
   "source": [
    "Se lanza tres veces, de forma independiente, un dado justo de 6 caras. ¿Qué es más probable: una suma de 11 o una suma de 12?"
   ]
  },
  {
   "cell_type": "code",
   "execution_count": 85,
   "id": "2d703947",
   "metadata": {
    "collapsed": true
   },
   "outputs": [
    {
     "name": "stdout",
     "output_type": "stream",
     "text": [
      "lanzamiento  0 : 5\n",
      "lanzamiento  1 : 5\n",
      "lanzamiento  2 : 5\n",
      "lanzamiento  3 : 3\n",
      "lanzamiento  4 : 5\n",
      "lanzamiento  5 : 4\n",
      "lanzamiento  6 : 2\n",
      "lanzamiento  7 : 3\n",
      "lanzamiento  8 : 1\n",
      "lanzamiento  9 : 4\n",
      "lanzamiento  10 : 3\n",
      "lanzamiento  11 : 3\n",
      "lanzamiento  12 : 5\n",
      "lanzamiento  13 : 4\n",
      "lanzamiento  14 : 5\n",
      "lanzamiento  15 : 3\n",
      "lanzamiento  16 : 4\n",
      "lanzamiento  17 : 5\n",
      "lanzamiento  18 : 3\n",
      "lanzamiento  19 : 2\n",
      "lanzamiento  20 : 3\n",
      "lanzamiento  21 : 4\n",
      "lanzamiento  22 : 4\n",
      "lanzamiento  23 : 3\n",
      "lanzamiento  24 : 4\n",
      "lanzamiento  25 : 3\n",
      "lanzamiento  26 : 4\n",
      "lanzamiento  27 : 2\n",
      "lanzamiento  28 : 2\n",
      "lanzamiento  29 : 5\n",
      "lanzamiento  30 : 1\n",
      "lanzamiento  31 : 2\n",
      "lanzamiento  32 : 3\n",
      "lanzamiento  33 : 4\n",
      "lanzamiento  34 : 2\n",
      "lanzamiento  35 : 3\n",
      "lanzamiento  36 : 3\n",
      "lanzamiento  37 : 3\n",
      "lanzamiento  38 : 4\n",
      "lanzamiento  39 : 4\n",
      "lanzamiento  40 : 3\n",
      "lanzamiento  41 : 1\n",
      "lanzamiento  42 : 5\n",
      "lanzamiento  43 : 1\n",
      "lanzamiento  44 : 5\n",
      "lanzamiento  45 : 5\n",
      "lanzamiento  46 : 4\n",
      "lanzamiento  47 : 5\n",
      "lanzamiento  48 : 3\n",
      "lanzamiento  49 : 5\n",
      "lanzamiento  50 : 2\n",
      "lanzamiento  51 : 5\n",
      "lanzamiento  52 : 2\n",
      "lanzamiento  53 : 2\n",
      "lanzamiento  54 : 1\n",
      "lanzamiento  55 : 2\n",
      "lanzamiento  56 : 4\n",
      "lanzamiento  57 : 1\n",
      "lanzamiento  58 : 2\n",
      "lanzamiento  59 : 1\n",
      "lanzamiento  60 : 5\n",
      "lanzamiento  61 : 1\n",
      "lanzamiento  62 : 4\n",
      "lanzamiento  63 : 1\n",
      "lanzamiento  64 : 5\n",
      "lanzamiento  65 : 4\n",
      "lanzamiento  66 : 4\n",
      "lanzamiento  67 : 1\n",
      "lanzamiento  68 : 1\n",
      "lanzamiento  69 : 1\n",
      "lanzamiento  70 : 5\n",
      "lanzamiento  71 : 5\n",
      "lanzamiento  72 : 4\n",
      "lanzamiento  73 : 2\n",
      "lanzamiento  74 : 3\n",
      "lanzamiento  75 : 1\n",
      "lanzamiento  76 : 2\n",
      "lanzamiento  77 : 1\n",
      "lanzamiento  78 : 3\n",
      "lanzamiento  79 : 5\n",
      "lanzamiento  80 : 4\n",
      "lanzamiento  81 : 5\n",
      "lanzamiento  82 : 3\n",
      "lanzamiento  83 : 3\n",
      "lanzamiento  84 : 3\n",
      "lanzamiento  85 : 3\n",
      "lanzamiento  86 : 1\n",
      "lanzamiento  87 : 4\n",
      "lanzamiento  88 : 4\n",
      "lanzamiento  89 : 3\n",
      "lanzamiento  90 : 5\n",
      "lanzamiento  91 : 5\n",
      "lanzamiento  92 : 5\n",
      "lanzamiento  93 : 3\n",
      "lanzamiento  94 : 4\n",
      "lanzamiento  95 : 2\n",
      "lanzamiento  96 : 2\n",
      "lanzamiento  97 : 2\n",
      "lanzamiento  98 : 1\n",
      "lanzamiento  99 : 4\n",
      "lanzamiento  100 : 2\n",
      "lanzamiento  101 : 3\n",
      "lanzamiento  102 : 2\n",
      "lanzamiento  103 : 2\n",
      "lanzamiento  104 : 2\n",
      "lanzamiento  105 : 3\n",
      "lanzamiento  106 : 5\n",
      "lanzamiento  107 : 2\n",
      "lanzamiento  108 : 5\n",
      "lanzamiento  109 : 4\n",
      "lanzamiento  110 : 3\n",
      "lanzamiento  111 : 1\n",
      "lanzamiento  112 : 4\n",
      "lanzamiento  113 : 3\n",
      "lanzamiento  114 : 5\n",
      "lanzamiento  115 : 3\n",
      "lanzamiento  116 : 5\n",
      "lanzamiento  117 : 2\n",
      "lanzamiento  118 : 3\n",
      "lanzamiento  119 : 3\n",
      "lanzamiento  120 : 3\n",
      "lanzamiento  121 : 4\n",
      "lanzamiento  122 : 5\n",
      "lanzamiento  123 : 1\n",
      "lanzamiento  124 : 4\n",
      "lanzamiento  125 : 1\n",
      "lanzamiento  126 : 2\n",
      "lanzamiento  127 : 4\n",
      "lanzamiento  128 : 5\n",
      "lanzamiento  129 : 4\n",
      "lanzamiento  130 : 4\n",
      "lanzamiento  131 : 4\n",
      "lanzamiento  132 : 4\n",
      "lanzamiento  133 : 1\n",
      "lanzamiento  134 : 3\n",
      "lanzamiento  135 : 3\n",
      "lanzamiento  136 : 4\n",
      "lanzamiento  137 : 2\n",
      "lanzamiento  138 : 2\n",
      "lanzamiento  139 : 2\n",
      "lanzamiento  140 : 4\n",
      "lanzamiento  141 : 1\n",
      "lanzamiento  142 : 2\n",
      "lanzamiento  143 : 2\n",
      "lanzamiento  144 : 3\n",
      "lanzamiento  145 : 3\n",
      "lanzamiento  146 : 2\n",
      "lanzamiento  147 : 5\n",
      "lanzamiento  148 : 4\n",
      "lanzamiento  149 : 1\n",
      "lanzamiento  150 : 4\n",
      "lanzamiento  151 : 3\n",
      "lanzamiento  152 : 5\n",
      "lanzamiento  153 : 5\n",
      "lanzamiento  154 : 4\n",
      "lanzamiento  155 : 3\n",
      "lanzamiento  156 : 1\n",
      "lanzamiento  157 : 5\n",
      "lanzamiento  158 : 3\n",
      "lanzamiento  159 : 4\n",
      "lanzamiento  160 : 2\n",
      "lanzamiento  161 : 2\n",
      "lanzamiento  162 : 2\n",
      "lanzamiento  163 : 5\n",
      "lanzamiento  164 : 2\n",
      "lanzamiento  165 : 3\n",
      "lanzamiento  166 : 2\n",
      "lanzamiento  167 : 5\n",
      "lanzamiento  168 : 2\n",
      "lanzamiento  169 : 3\n",
      "lanzamiento  170 : 1\n",
      "lanzamiento  171 : 5\n",
      "lanzamiento  172 : 4\n",
      "lanzamiento  173 : 4\n",
      "lanzamiento  174 : 2\n",
      "lanzamiento  175 : 5\n",
      "lanzamiento  176 : 1\n",
      "lanzamiento  177 : 1\n",
      "lanzamiento  178 : 1\n",
      "lanzamiento  179 : 1\n",
      "lanzamiento  180 : 4\n",
      "lanzamiento  181 : 5\n",
      "lanzamiento  182 : 2\n",
      "lanzamiento  183 : 1\n",
      "lanzamiento  184 : 4\n",
      "lanzamiento  185 : 5\n",
      "lanzamiento  186 : 3\n",
      "lanzamiento  187 : 1\n",
      "lanzamiento  188 : 4\n",
      "lanzamiento  189 : 3\n",
      "lanzamiento  190 : 2\n",
      "lanzamiento  191 : 2\n",
      "lanzamiento  192 : 1\n",
      "lanzamiento  193 : 3\n",
      "lanzamiento  194 : 5\n",
      "lanzamiento  195 : 2\n",
      "lanzamiento  196 : 4\n",
      "lanzamiento  197 : 3\n",
      "lanzamiento  198 : 5\n",
      "lanzamiento  199 : 4\n",
      "lanzamiento  200 : 3\n",
      "lanzamiento  201 : 1\n",
      "lanzamiento  202 : 3\n",
      "lanzamiento  203 : 5\n",
      "lanzamiento  204 : 1\n",
      "lanzamiento  205 : 2\n",
      "lanzamiento  206 : 4\n",
      "lanzamiento  207 : 4\n",
      "lanzamiento  208 : 4\n",
      "lanzamiento  209 : 1\n",
      "lanzamiento  210 : 2\n",
      "lanzamiento  211 : 2\n",
      "lanzamiento  212 : 5\n",
      "lanzamiento  213 : 1\n",
      "lanzamiento  214 : 1\n",
      "lanzamiento  215 : 5\n"
     ]
    }
   ],
   "source": [
    "dado2= stats.randint(low=1, high=6)\n",
    "for i in range (216):\n",
    "    print('lanzamiento ',i,':', dado2.rvs())"
   ]
  },
  {
   "cell_type": "code",
   "execution_count": 87,
   "id": "8bb6ecb2",
   "metadata": {},
   "outputs": [
    {
     "name": "stdout",
     "output_type": "stream",
     "text": [
      "Es mas probable obtener la suma de 11: 12.5% que la suma de 12: 11.6%\n"
     ]
    }
   ],
   "source": [
    "suma11=[]\n",
    "suma12=[]\n",
    "\n",
    "for i in range(1,7):\n",
    "    for j in range(1,7):\n",
    "        for k in range (1,7):\n",
    "            suma= i+j+k\n",
    "            if suma ==11:\n",
    "                suma11.append(suma)\n",
    "            elif suma==12:\n",
    "                suma12.append(suma)\n",
    "                \n",
    "total=6**3\n",
    "prob11=np.round(len(suma11)/total*100,1)\n",
    "prob12=np.round(len(suma12)/total*100,1)\n",
    "\n",
    "if prob11>prob12:\n",
    "    print(f'Es mas probable obtener la suma de 11: {prob11}% que la suma de 12: {prob12}%')\n",
    "else: \n",
    "    print(f'Es mas probable obtener la suma de 12: {prob12}% que la suma de 11: {prob11}%')"
   ]
  },
  {
   "cell_type": "markdown",
   "id": "f98cd660",
   "metadata": {},
   "source": [
    "Hay que repartir 90 alumnos al azar en 3 clases de igual tamaño. Joe y Jane son dos de los estudiantes. ¿Cuál es la probabilidad de que acaben en la misma clase?"
   ]
  },
  {
   "cell_type": "code",
   "execution_count": 88,
   "id": "c9f36426",
   "metadata": {},
   "outputs": [],
   "source": [
    "total=90\n",
    "grupos=3\n",
    "EpC=total/grupos\n",
    "JJ=2\n",
    "\n",
    "def factorial(n):\n",
    "    if n==0:\n",
    "        res=1\n",
    "    else:\n",
    "        res=n*factorial(n-1)\n",
    "    return res"
   ]
  },
  {
   "cell_type": "code",
   "execution_count": 89,
   "id": "63c1a3a1",
   "metadata": {},
   "outputs": [
    {
     "data": {
      "text/plain": [
       "120"
      ]
     },
     "execution_count": 89,
     "metadata": {},
     "output_type": "execute_result"
    }
   ],
   "source": [
    "factorial(5)"
   ]
  },
  {
   "cell_type": "code",
   "execution_count": 90,
   "id": "12089c51",
   "metadata": {},
   "outputs": [
    {
     "name": "stdout",
     "output_type": "stream",
     "text": [
      "La probabilidad de que Joe y Jane esten juntos es de: 32.58%\n"
     ]
    }
   ],
   "source": [
    "combinaciones=factorial(total)/(factorial(total-EpC)*factorial(EpC))\n",
    "DosJ=factorial(total-JJ)/(factorial((total-JJ)-(EpC-JJ))*factorial(EpC-JJ))\n",
    "print(f'La probabilidad de que Joe y Jane esten juntos es de: {np.round(3*(DosJ/combinaciones)*100,2)}%')"
   ]
  },
  {
   "cell_type": "markdown",
   "id": "c60b0302",
   "metadata": {},
   "source": [
    "Se reparte una baraja bien barajada de 52 cartas a 4 jugadores. Encuentra la probabilidad de que cada uno de los jugadores obtenga un as.\n",
    "Pista: Los últimos tres son de tipo combinatoria"
   ]
  },
  {
   "cell_type": "code",
   "execution_count": 91,
   "id": "e42d7417",
   "metadata": {},
   "outputs": [
    {
     "name": "stdout",
     "output_type": "stream",
     "text": [
      "La probabilidad de que cada jugador posea un As es de:10.55%\n"
     ]
    }
   ],
   "source": [
    "total=52\n",
    "manos=4\n",
    "CpM=total/manos\n",
    "As=1\n",
    "\n",
    "combinaciones=factorial(total)/(factorial(manos)*factorial(total-manos))\n",
    "As=factorial(CpM)/(factorial(As)*factorial(CpM-As))\n",
    "print(f'La probabilidad de que cada jugador posea un As es de:{np.round((As**manos/combinaciones)*100,2)}%')"
   ]
  }
 ],
 "metadata": {
  "kernelspec": {
   "display_name": "Python 3 (ipykernel)",
   "language": "python",
   "name": "python3"
  },
  "language_info": {
   "codemirror_mode": {
    "name": "ipython",
    "version": 3
   },
   "file_extension": ".py",
   "mimetype": "text/x-python",
   "name": "python",
   "nbconvert_exporter": "python",
   "pygments_lexer": "ipython3",
   "version": "3.9.12"
  }
 },
 "nbformat": 4,
 "nbformat_minor": 5
}
