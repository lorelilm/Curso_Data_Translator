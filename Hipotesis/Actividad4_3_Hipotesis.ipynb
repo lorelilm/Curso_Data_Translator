{
 "cells": [
  {
   "cell_type": "code",
   "execution_count": 3,
   "id": "38b74d44",
   "metadata": {},
   "outputs": [],
   "source": [
    "import numpy as np\n",
    "import pandas as pd\n",
    "import scipy.stats as stats\n",
    "import matplotlib.pyplot as plt\n",
    "import math\n",
    "%matplotlib inline"
   ]
  },
  {
   "cell_type": "markdown",
   "id": "f25bfad8",
   "metadata": {},
   "source": [
    "Un inventor ha desarrollado un nuevo motor para podadoras de bajo consumo energético. Afirma que el motor funcionará continuamente durante más de 5 horas (300 minutos) con un solo galón de gasolina.\n",
    "El motor de podadoras de la marca líder funciona durante 300 minutos con un galón de gasolina. \n",
    "De su stock de motores, el inventor selecciona una muestra aleatoria de 50 motores para probarlos. Los motores seleccionados funcionan en promedio 305 minutos, con una desviación estándar de 30 minutos.\n",
    "Probar la hipótesis de que el tiempo medio de funcionamiento es superior a 300 minutos. Utilizar un nivel de significación de 0.05."
   ]
  },
  {
   "cell_type": "code",
   "execution_count": 2,
   "id": "dfd42a44",
   "metadata": {},
   "outputs": [
    {
     "data": {
      "text/plain": [
       "(1.1785113019775793, 1.6448536269514722, 0.11929641465821783)"
      ]
     },
     "execution_count": 2,
     "metadata": {},
     "output_type": "execute_result"
    }
   ],
   "source": [
    "sig=0.05\n",
    "t=300\n",
    "n=50\n",
    "m=305\n",
    "s=30\n",
    "\n",
    "den=s/(n**0.5)\n",
    "\n",
    "z_score = (m-t)/den\n",
    "ppf=stats.norm(0,1).ppf(1-sig)\n",
    "p_value= 1-stats.norm(0,1).cdf(z_score)\n",
    "z_score, ppf, p_value"
   ]
  },
  {
   "cell_type": "code",
   "execution_count": 3,
   "id": "2d783db1",
   "metadata": {},
   "outputs": [
    {
     "data": {
      "text/plain": [
       "(1.1785113019775793, 308.2242681347574, 1.0)"
      ]
     },
     "execution_count": 3,
     "metadata": {},
     "output_type": "execute_result"
    }
   ],
   "source": [
    "sig=0.05\n",
    "t=300\n",
    "n=50\n",
    "m=305\n",
    "s=30\n",
    "desv=m-t\n",
    "den=s/(n**0.5)\n",
    "\n",
    "\n",
    "z_score = (m-t)/den\n",
    "ppf=stats.norm(t,desv).ppf(1-sig)\n",
    "p_value= 1-stats.norm(t,desv).cdf(z_score)\n",
    "z_score, ppf, p_value"
   ]
  },
  {
   "cell_type": "markdown",
   "id": "1731c1ec",
   "metadata": {},
   "source": [
    "Un fabricante de aderezos para ensaladas utiliza una máquina para dispensar los ingredientes líquidos en botellas que se mueven a lo largo de una línea de llenado. La dispensadora funciona correctamente con una cantidad de 8 onzas.\n",
    "Supongamos que la cantidad media dispensada en una muestra de 35 botellas es de 7.91 onzas con una varianza de 0.03 onzas al cuadrado. \n",
    "Determinar si la máquina debe detenerse y la producción debe esperar hasta que se repare la máquina\n",
    "La pérdida de producción derivada de una parada es tan grande que la dirección cree que el nivel de significación en el análisis debe ser del 99%.\n"
   ]
  },
  {
   "cell_type": "code",
   "execution_count": 4,
   "id": "3b09261d",
   "metadata": {},
   "outputs": [
    {
     "data": {
      "text/plain": [
       "(-0.7414616384229906, 308.2242681347574, 0.7707932083800966)"
      ]
     },
     "execution_count": 4,
     "metadata": {},
     "output_type": "execute_result"
    }
   ],
   "source": [
    "sig=0.01\n",
    "t=8\n",
    "n=35\n",
    "m=7.91\n",
    "s=math.sqrt(0.03)\n",
    "\n",
    "den=s/(n**0.1)\n",
    "\n",
    "z_score = (m-t)/den\n",
    "ppf_lower=stats.norm(0,1).ppf(sig/2)\n",
    "ppf_upper=stats.norm(0,1).ppf(1-sig/2)\n",
    "p_value= 1-stats.norm(0,1).cdf(z_score)\n",
    "z_score, ppf, p_value"
   ]
  },
  {
   "cell_type": "markdown",
   "id": "bf100530",
   "metadata": {},
   "source": [
    "Una empresa de bebidas afirma que sus botellas de agua tienen exactamente 16 onzas. Las muestras se encuentran en el documento “wáter.csv”\n",
    "Elaborar una prueba de hipótesis con alfa = 1%.\n",
    "Calcular manualmente y con API para comparar ambos resultados"
   ]
  },
  {
   "cell_type": "code",
   "execution_count": 6,
   "id": "87132129",
   "metadata": {},
   "outputs": [
    {
     "data": {
      "text/html": [
       "<div>\n",
       "<style scoped>\n",
       "    .dataframe tbody tr th:only-of-type {\n",
       "        vertical-align: middle;\n",
       "    }\n",
       "\n",
       "    .dataframe tbody tr th {\n",
       "        vertical-align: top;\n",
       "    }\n",
       "\n",
       "    .dataframe thead th {\n",
       "        text-align: right;\n",
       "    }\n",
       "</style>\n",
       "<table border=\"1\" class=\"dataframe\">\n",
       "  <thead>\n",
       "    <tr style=\"text-align: right;\">\n",
       "      <th></th>\n",
       "      <th>Unnamed: 0</th>\n",
       "      <th>0</th>\n",
       "    </tr>\n",
       "  </thead>\n",
       "  <tbody>\n",
       "    <tr>\n",
       "      <th>0</th>\n",
       "      <td>0</td>\n",
       "      <td>16.357251</td>\n",
       "    </tr>\n",
       "    <tr>\n",
       "      <th>1</th>\n",
       "      <td>1</td>\n",
       "      <td>14.775995</td>\n",
       "    </tr>\n",
       "    <tr>\n",
       "      <th>2</th>\n",
       "      <td>2</td>\n",
       "      <td>16.220070</td>\n",
       "    </tr>\n",
       "    <tr>\n",
       "      <th>3</th>\n",
       "      <td>3</td>\n",
       "      <td>15.826246</td>\n",
       "    </tr>\n",
       "    <tr>\n",
       "      <th>4</th>\n",
       "      <td>4</td>\n",
       "      <td>15.169998</td>\n",
       "    </tr>\n",
       "  </tbody>\n",
       "</table>\n",
       "</div>"
      ],
      "text/plain": [
       "   Unnamed: 0          0\n",
       "0           0  16.357251\n",
       "1           1  14.775995\n",
       "2           2  16.220070\n",
       "3           3  15.826246\n",
       "4           4  15.169998"
      ]
     },
     "execution_count": 6,
     "metadata": {},
     "output_type": "execute_result"
    }
   ],
   "source": [
    "dfwater = pd.read_csv(\"water.csv\")\n",
    "dfwater.head()"
   ]
  },
  {
   "cell_type": "code",
   "execution_count": 7,
   "id": "e5124603",
   "metadata": {},
   "outputs": [
    {
     "name": "stdout",
     "output_type": "stream",
     "text": [
      "15.914423065819395 0.9944448381951315 850\n"
     ]
    }
   ],
   "source": [
    "sig= .005\n",
    "media = dfwater['0'].mean()\n",
    "desviacion = dfwater['0'].std()\n",
    "muestra = dfwater['0'].count()\n",
    "H0 = 16\n",
    "print(media, desviacion, muestra)"
   ]
  },
  {
   "cell_type": "code",
   "execution_count": 8,
   "id": "a1436a27",
   "metadata": {},
   "outputs": [
    {
     "name": "stdout",
     "output_type": "stream",
     "text": [
      "-2.5089123466169267 -2.575829303548901 0.006055176555648026\n"
     ]
    }
   ],
   "source": [
    "denominador = desviacion / (muestra**.5)\n",
    "z_score = (media - H0) / denominador\n",
    "ppf = stats.norm(0,1).ppf(sig)\n",
    "p_value = stats.norm(0,1).cdf(z_score)\n",
    "print(z_score, ppf, p_value)"
   ]
  },
  {
   "cell_type": "markdown",
   "id": "6778e626",
   "metadata": {},
   "source": [
    "La escala Brinell es una medida de la dureza de un material. Un ingeniero supone que la puntuación Brinell media de todas las piezas de cierto tipo de material (hierro dúctil recocido subcríticamente) no es igual a 170. \n",
    "El ingeniero mide 25 piezas de este tipo de material y calcula que la media de la muestra es de 174.52 y la desviación estándar de la muestra es de 10.31. \n",
    "Elaborar una prueba de hipótesis de que la verdadera puntuación Brinell media no es igual a 170, así como el correspondiente intervalo de confianza con alfa = 0.01.\n"
   ]
  },
  {
   "cell_type": "code",
   "execution_count": 20,
   "id": "130f15af",
   "metadata": {},
   "outputs": [
    {
     "name": "stdout",
     "output_type": "stream",
     "text": [
      "2.1920465567410328 2.796939504772804 1.9517970286733597\n"
     ]
    }
   ],
   "source": [
    "sig1 = .005\n",
    "media1 = 174.52\n",
    "desviacion1= 10.31\n",
    "muestra1 = 25\n",
    "Mu = 170\n",
    "\n",
    "t1 = (media1 - Mu) / (desviacion1/(muestra1)**.5)\n",
    "t21= stats.t.ppf(q=1-sig1, df=24)\n",
    "p_value1 = 2*(1-stats.t.cdf(x=t, df=24))\n",
    "\n",
    "print(t1, t21, p_value1)"
   ]
  },
  {
   "cell_type": "markdown",
   "id": "feb7542b",
   "metadata": {},
   "source": [
    "P es mayor que alpha entonces se acepta la hipotesis"
   ]
  },
  {
   "cell_type": "markdown",
   "id": "bec6ce73",
   "metadata": {},
   "source": [
    "Matías tiene ocho años, y estableció un tiempo medio de 16.43 segundos para nadar 22 metros de estilo libre. Su padre, Paco, pensaba que Jeffrey podría disminuir este tiempo usando goggles. Paco le compró a Jeffrey un nuevo par de goggles y cronometró a Matías durante 15 pruebas de 22 metros estilo libre.\n",
    "En las 15 pruebas, el tiempo medio de Matías fue de 16 segundos, con una desviación estándar de 0.8 segundos. \n",
    "Paco pensó que las gafas ayudaban a Matías a nadar más rápido que antes. \n",
    "Elaborar una prueba de hipótesis utilizando un alfa= 0.05."
   ]
  },
  {
   "cell_type": "code",
   "execution_count": 19,
   "id": "501c659e",
   "metadata": {},
   "outputs": [
    {
     "name": "stdout",
     "output_type": "stream",
     "text": [
      "-2.081728548586485 18.06066344283912 0.9998506043625655\n"
     ]
    }
   ],
   "source": [
    "sig2 = .005\n",
    "media2 = 16\n",
    "desviacion2= 0.8\n",
    "muestra2 = 15\n",
    "Mu2 = 16.43\n",
    "\n",
    "t2 = (media2 - Mu2) / (desviacion2/(muestra2)**.5)\n",
    "ppf2=stats.norm(media2,desviacion2).ppf(1-sig2)\n",
    "p_value2= 1-stats.norm(media2,desv).cdf(t2)\n",
    "\n",
    "print(t2, ppf2, p_value2)"
   ]
  },
  {
   "cell_type": "code",
   "execution_count": 4,
   "id": "afcd4f7a",
   "metadata": {},
   "outputs": [],
   "source": [
    "class Ttest:\n",
    "    def __init__(self, h0, n, sample_mean, sd, alpha, is_two):\n",
    "        self.sample_mean = sample_mean\n",
    "        self.alpha = alpha\n",
    "        self.is_two = is_two\n",
    "        self.t = stats.t(df=n, loc=h0, scale=sd/(n**0.5))\n",
    "    def pvalue(self, should_substract_1):\n",
    "        if should_substract_1:\n",
    "            return (1 - self.t.cdf(self.sample_mean))\n",
    "        else: \n",
    "            return self.t.cdf(self.sample_mean)\n",
    "    def should_reject_null(self, pvalue):\n",
    "        alpha = self.alpha\n",
    "        if self.is_two:\n",
    "            alpha = self.alpha / 2\n",
    "        return pvalue < alpha "
   ]
  },
  {
   "cell_type": "code",
   "execution_count": 5,
   "id": "940f81d2",
   "metadata": {},
   "outputs": [],
   "source": [
    "t1 = Ttest(h0=16, n=15, sample_mean=16.43, sd=0.8, alpha=0.05, is_two=True)"
   ]
  },
  {
   "cell_type": "code",
   "execution_count": 9,
   "id": "39086fbb",
   "metadata": {},
   "outputs": [
    {
     "data": {
      "text/plain": [
       "0.027454140554840523"
      ]
     },
     "execution_count": 9,
     "metadata": {},
     "output_type": "execute_result"
    }
   ],
   "source": [
    "t1.pvalue(True)"
   ]
  },
  {
   "cell_type": "code",
   "execution_count": 10,
   "id": "9bae70f1",
   "metadata": {},
   "outputs": [
    {
     "data": {
      "text/plain": [
       "False"
      ]
     },
     "execution_count": 10,
     "metadata": {},
     "output_type": "execute_result"
    }
   ],
   "source": [
    "t1.should_reject_null(t1.pvalue(True))"
   ]
  },
  {
   "cell_type": "markdown",
   "id": "f362e808",
   "metadata": {},
   "source": [
    "P es mayor que alpha entonces se acepta la hipotesis"
   ]
  },
  {
   "cell_type": "markdown",
   "id": "60a23e82",
   "metadata": {},
   "source": [
    "El corcho natural de las botellas de vino se deteriora, por lo que el vino de las botellas puede contaminarse. El artículo \"Effects of Bottle Closure Type on Consumer Perceptions of Wine Quality\" (Amer. J. of Enology and Viticulture, 2007: 182-191) informó de que, en una cata de chardonnays comerciales, 16 de 91 botellas se consideraron estropeadas en cierta medida por características asociadas al corcho.\n",
    "¿Esta información es suficiente para concluir que más del 15% de todas esas botellas están contaminadas de esta manera? \n",
    "Utilizar un nivel de significancia igual a 0.10."
   ]
  },
  {
   "cell_type": "code",
   "execution_count": 18,
   "id": "e86100d5",
   "metadata": {},
   "outputs": [
    {
     "name": "stdout",
     "output_type": "stream",
     "text": [
      "-2.081728548586485 18.06066344283912 0.9998506043625655\n"
     ]
    }
   ],
   "source": [
    "sig3 = .005\n",
    "media3 = 16\n",
    "desviacion3= 0.8\n",
    "muestra3 = 15\n",
    "Mu3 = 16.43\n",
    "\n",
    "t3 = (media3 - Mu3) / (desviacion3/(muestra3)**.5)\n",
    "ppf3 =stats.norm(media3,desviacion3).ppf(1-sig2)\n",
    "p_value3 = 1-stats.norm(media3,desv).cdf(t3)\n",
    "\n",
    "print(t3, ppf3, p_value3)"
   ]
  },
  {
   "cell_type": "code",
   "execution_count": 11,
   "id": "641da18e",
   "metadata": {},
   "outputs": [],
   "source": [
    "t2= Ttest(h0=16, n=91, sample_mean=13.65, sd=0.1, alpha=0.1, is_two=True)"
   ]
  },
  {
   "cell_type": "code",
   "execution_count": 12,
   "id": "eb7e5d0d",
   "metadata": {},
   "outputs": [
    {
     "data": {
      "text/plain": [
       "False"
      ]
     },
     "execution_count": 12,
     "metadata": {},
     "output_type": "execute_result"
    }
   ],
   "source": [
    "t2.should_reject_null(t2.pvalue(True))"
   ]
  },
  {
   "cell_type": "code",
   "execution_count": null,
   "id": "d915f92e",
   "metadata": {},
   "outputs": [],
   "source": []
  }
 ],
 "metadata": {
  "kernelspec": {
   "display_name": "Python 3 (ipykernel)",
   "language": "python",
   "name": "python3"
  },
  "language_info": {
   "codemirror_mode": {
    "name": "ipython",
    "version": 3
   },
   "file_extension": ".py",
   "mimetype": "text/x-python",
   "name": "python",
   "nbconvert_exporter": "python",
   "pygments_lexer": "ipython3",
   "version": "3.9.12"
  }
 },
 "nbformat": 4,
 "nbformat_minor": 5
}
