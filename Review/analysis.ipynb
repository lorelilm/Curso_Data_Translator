{
 "cells": [
  {
   "cell_type": "code",
   "execution_count": 1,
   "id": "1e27bf96-3586-4387-90a7-8028221ab85a",
   "metadata": {},
   "outputs": [],
   "source": [
    "%run common.ipy\n",
    "from functions import get_raw_data, fix_col_names, Cleaner"
   ]
  },
  {
   "cell_type": "markdown",
   "id": "4cb46554-5268-4604-8748-f529c7e226b3",
   "metadata": {},
   "source": [
    "# Loading"
   ]
  },
  {
   "cell_type": "code",
   "execution_count": 2,
   "id": "b8342344-7169-4253-a8e4-1b62bb5891c1",
   "metadata": {},
   "outputs": [],
   "source": [
    "X_train_raw, X_test_raw, y_train, y_test = get_raw_data()\n",
    "X_train_raw_col_fix = fix_col_names(X_train_raw)\n",
    "X_test_raw_col_fix = fix_col_names(X_test_raw)"
   ]
  },
  {
   "cell_type": "markdown",
   "id": "4a896f9f-3cee-41ec-984f-8ebd6095a8e8",
   "metadata": {},
   "source": [
    "# EDA "
   ]
  },
  {
   "cell_type": "code",
   "execution_count": 3,
   "id": "fbdd4b86-b37a-468c-8654-0e0860783d6a",
   "metadata": {},
   "outputs": [],
   "source": [
    "cols = ['p_class', 'sex', 'age', 'sib_sp', 'parch', 'fare', 'embarked']\n",
    "clean = Cleaner(cols)\n",
    "clean.fit(X_train_raw_col_fix)\n",
    "X_train = clean.transform(X_train_raw_col_fix)\n",
    "X_test = clean.transform(X_test_raw_col_fix)"
   ]
  },
  {
   "cell_type": "markdown",
   "id": "07566e0a-011b-46a3-85d8-8cd61bfe16b3",
   "metadata": {},
   "source": [
    "# Analysis"
   ]
  },
  {
   "cell_type": "code",
   "execution_count": 5,
   "id": "260f46f3-6254-4e52-8398-d9fa9a00d9e7",
   "metadata": {},
   "outputs": [
    {
     "name": "stdout",
     "output_type": "stream",
     "text": [
      "<class 'pandas.core.frame.DataFrame'>\n",
      "Int64Index: 596 entries, 6 to 102\n",
      "Data columns (total 8 columns):\n",
      " #   Column      Non-Null Count  Dtype  \n",
      "---  ------      --------------  -----  \n",
      " 0   p_class     596 non-null    int64  \n",
      " 1   age         596 non-null    float64\n",
      " 2   sib_sp      596 non-null    int64  \n",
      " 3   parch       596 non-null    int64  \n",
      " 4   fare        596 non-null    float64\n",
      " 5   is_male     596 non-null    bool   \n",
      " 6   embarked_Q  596 non-null    uint8  \n",
      " 7   embarked_S  596 non-null    uint8  \n",
      "dtypes: bool(1), float64(2), int64(3), uint8(2)\n",
      "memory usage: 29.7 KB\n"
     ]
    }
   ],
   "source": [
    "X_train.info()"
   ]
  },
  {
   "cell_type": "code",
   "execution_count": 6,
   "id": "729e0a9f-81b6-4839-97c3-7060270e43c9",
   "metadata": {},
   "outputs": [
    {
     "data": {
      "text/html": [
       "<div>\n",
       "<style scoped>\n",
       "    .dataframe tbody tr th:only-of-type {\n",
       "        vertical-align: middle;\n",
       "    }\n",
       "\n",
       "    .dataframe tbody tr th {\n",
       "        vertical-align: top;\n",
       "    }\n",
       "\n",
       "    .dataframe thead th {\n",
       "        text-align: right;\n",
       "    }\n",
       "</style>\n",
       "<table border=\"1\" class=\"dataframe\">\n",
       "  <thead>\n",
       "    <tr style=\"text-align: right;\">\n",
       "      <th></th>\n",
       "      <th>count</th>\n",
       "      <th>mean</th>\n",
       "      <th>std</th>\n",
       "      <th>min</th>\n",
       "      <th>25%</th>\n",
       "      <th>50%</th>\n",
       "      <th>75%</th>\n",
       "      <th>max</th>\n",
       "    </tr>\n",
       "  </thead>\n",
       "  <tbody>\n",
       "    <tr>\n",
       "      <th>p_class</th>\n",
       "      <td>596.0</td>\n",
       "      <td>2.337248</td>\n",
       "      <td>0.823207</td>\n",
       "      <td>1.00</td>\n",
       "      <td>2.000</td>\n",
       "      <td>3.000000</td>\n",
       "      <td>3.000</td>\n",
       "      <td>3.0000</td>\n",
       "    </tr>\n",
       "    <tr>\n",
       "      <th>age</th>\n",
       "      <td>596.0</td>\n",
       "      <td>29.525983</td>\n",
       "      <td>12.944701</td>\n",
       "      <td>0.42</td>\n",
       "      <td>22.000</td>\n",
       "      <td>29.525983</td>\n",
       "      <td>35.000</td>\n",
       "      <td>80.0000</td>\n",
       "    </tr>\n",
       "    <tr>\n",
       "      <th>sib_sp</th>\n",
       "      <td>596.0</td>\n",
       "      <td>0.577181</td>\n",
       "      <td>1.229504</td>\n",
       "      <td>0.00</td>\n",
       "      <td>0.000</td>\n",
       "      <td>0.000000</td>\n",
       "      <td>1.000</td>\n",
       "      <td>8.0000</td>\n",
       "    </tr>\n",
       "    <tr>\n",
       "      <th>parch</th>\n",
       "      <td>596.0</td>\n",
       "      <td>0.374161</td>\n",
       "      <td>0.807072</td>\n",
       "      <td>0.00</td>\n",
       "      <td>0.000</td>\n",
       "      <td>0.000000</td>\n",
       "      <td>0.000</td>\n",
       "      <td>6.0000</td>\n",
       "    </tr>\n",
       "    <tr>\n",
       "      <th>fare</th>\n",
       "      <td>596.0</td>\n",
       "      <td>31.912786</td>\n",
       "      <td>51.480961</td>\n",
       "      <td>0.00</td>\n",
       "      <td>7.925</td>\n",
       "      <td>14.454200</td>\n",
       "      <td>31.275</td>\n",
       "      <td>512.3292</td>\n",
       "    </tr>\n",
       "    <tr>\n",
       "      <th>embarked_Q</th>\n",
       "      <td>596.0</td>\n",
       "      <td>0.088926</td>\n",
       "      <td>0.284876</td>\n",
       "      <td>0.00</td>\n",
       "      <td>0.000</td>\n",
       "      <td>0.000000</td>\n",
       "      <td>0.000</td>\n",
       "      <td>1.0000</td>\n",
       "    </tr>\n",
       "    <tr>\n",
       "      <th>embarked_S</th>\n",
       "      <td>596.0</td>\n",
       "      <td>0.734899</td>\n",
       "      <td>0.441758</td>\n",
       "      <td>0.00</td>\n",
       "      <td>0.000</td>\n",
       "      <td>1.000000</td>\n",
       "      <td>1.000</td>\n",
       "      <td>1.0000</td>\n",
       "    </tr>\n",
       "  </tbody>\n",
       "</table>\n",
       "</div>"
      ]
     },
     "execution_count": 6,
     "metadata": {},
     "output_type": "execute_result"
    }
   ],
   "source": [
    "X_train.describe().T"
   ]
  },
  {
   "cell_type": "code",
   "execution_count": 9,
   "id": "fca75ac6-e8da-408d-9790-8b16161dafa6",
   "metadata": {},
   "outputs": [
    {
     "data": {
      "text/html": [
       "<pre style=\"white-space:pre;overflow-x:auto;line-height:normal;font-family:Menlo,'DejaVu Sans Mono',consolas,'Courier New',monospace\"><span style=\"font-weight: bold\">&lt;</span><span style=\"color: #ff00ff; text-decoration-color: #ff00ff; font-weight: bold\">Figure</span><span style=\"color: #000000; text-decoration-color: #000000\"> size 864x504 with </span><span style=\"color: #008080; text-decoration-color: #008080; font-weight: bold\">9</span><span style=\"color: #000000; text-decoration-color: #000000\"> Axes</span><span style=\"font-weight: bold\">&gt;</span>\n",
       "</pre>\n"
      ],
      "text/plain": [
       "\u001b[1m<\u001b[0m\u001b[1;95mFigure\u001b[0m\u001b[39m size 864x504 with \u001b[0m\u001b[1;36m9\u001b[0m\u001b[39m Axes\u001b[0m\u001b[1m>\u001b[0m\n"
      ]
     },
     "metadata": {},
     "output_type": "display_data"
    },
    {
     "data": {
      "image/png": "[encoded data removed]"
     },
     "metadata": {
      "needs_background": "light"
     },
     "output_type": "display_data"
    }
   ],
   "source": [
    "X_train.hist(figsize=(12,7));"
   ]
  },
  {
   "cell_type": "code",
   "execution_count": 10,
   "id": "9c7b0f5f-412b-4a0c-a296-2f41aa0e432d",
   "metadata": {},
   "outputs": [
    {
     "data": {
      "text/html": [
       "<pre style=\"white-space:pre;overflow-x:auto;line-height:normal;font-family:Menlo,'DejaVu Sans Mono',consolas,'Courier New',monospace\"><span style=\"font-weight: bold\">&lt;</span><span style=\"color: #ff00ff; text-decoration-color: #ff00ff; font-weight: bold\">Figure</span><span style=\"color: #000000; text-decoration-color: #000000\"> size 864x504 with </span><span style=\"color: #008080; text-decoration-color: #008080; font-weight: bold\">1</span><span style=\"color: #000000; text-decoration-color: #000000\"> Axes</span><span style=\"font-weight: bold\">&gt;</span>\n",
       "</pre>\n"
      ],
      "text/plain": [
       "\u001b[1m<\u001b[0m\u001b[1;95mFigure\u001b[0m\u001b[39m size 864x504 with \u001b[0m\u001b[1;36m1\u001b[0m\u001b[39m Axes\u001b[0m\u001b[1m>\u001b[0m\n"
      ]
     },
     "metadata": {},
     "output_type": "display_data"
    },
    {
     "data": {
      "image/png": "[encoded data removed]"
     },
     "metadata": {
      "needs_background": "light"
     },
     "output_type": "display_data"
    }
   ],
   "source": [
    "X_train.boxplot(figsize=(12,7));"
   ]
  },
  {
   "cell_type": "code",
   "execution_count": null,
   "id": "2d3d19e3-a760-42ca-b2b6-01bf8587e8a7",
   "metadata": {},
   "outputs": [],
   "source": []
  }
 ],
 "metadata": {
  "kernelspec": {
   "display_name": "Python 3 (ipykernel)",
   "language": "python",
   "name": "python3"
  },
  "language_info": {
   "codemirror_mode": {
    "name": "ipython",
    "version": 3
   },
   "file_extension": ".py",
   "mimetype": "text/x-python",
   "name": "python",
   "nbconvert_exporter": "python",
   "pygments_lexer": "ipython3",
   "version": "3.10.0"
  }
 },
 "nbformat": 4,
 "nbformat_minor": 5
}
