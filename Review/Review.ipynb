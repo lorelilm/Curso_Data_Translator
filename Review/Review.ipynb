{
 "cells": [
  {
   "cell_type": "code",
   "execution_count": 1,
   "id": "1e27bf96-3586-4387-90a7-8028221ab85a",
   "metadata": {},
   "outputs": [],
   "source": [
    "%run common.ipy\n",
    "from functions import get_raw_data, fix_col_names, Cleaner, get_final_data\n",
    "from sklearn.dummy import DummyClassifier\n",
    "import pickle"
   ]
  },
  {
   "cell_type": "markdown",
   "id": "4cb46554-5268-4604-8748-f529c7e226b3",
   "metadata": {},
   "source": [
    "# Cargamos los Datos & EDA"
   ]
  },
  {
   "cell_type": "code",
   "execution_count": 2,
   "id": "b8342344-7169-4253-a8e4-1b62bb5891c1",
   "metadata": {},
   "outputs": [],
   "source": [
    "X_train, X_test, y_train, y_test = get_final_data()"
   ]
  },
  {
   "cell_type": "markdown",
   "id": "07566e0a-011b-46a3-85d8-8cd61bfe16b3",
   "metadata": {},
   "source": [
    "# Analysis\n",
    "\n",
    "Esto es *italic* y esto es **bold**\n",
    "\n",
    "- Go [here](analysis.ipynb) to see the analysis!\n",
    "- See the [func](functions.py)\n",
    "- See the [readme](README.md)"
   ]
  },
  {
   "cell_type": "markdown",
   "id": "6136e04f-2d57-4f7b-b672-5ea969c5107b",
   "metadata": {},
   "source": [
    "# Determinamos la Metrica\n",
    "\n",
    "- accuracy\n",
    "- precision\n",
    "- recall\n",
    "- f1\n",
    "- auc\n",
    "\n",
    "Voy a elegir **accuracy**"
   ]
  },
  {
   "cell_type": "markdown",
   "id": "9172abdc-d3e1-4a37-90e9-76aab3d1f08a",
   "metadata": {},
   "source": [
    "# Baseline Model\n",
    "\n",
    "Es un modelo muy simple, si embargo nos da la predicción. Compararemos los demas modelos a este!"
   ]
  },
  {
   "cell_type": "code",
   "execution_count": 3,
   "id": "f63b1d29-beb2-48c8-95ed-76a3f3d09f0b",
   "metadata": {},
   "outputs": [
    {
     "data": {
      "text/html": [
       "<pre style=\"white-space:pre;overflow-x:auto;line-height:normal;font-family:Menlo,'DejaVu Sans Mono',consolas,'Courier New',monospace\">\n",
       "<span style=\"color: #008080; text-decoration-color: #008080; font-weight: bold\">0</span>    <span style=\"color: #008080; text-decoration-color: #008080; font-weight: bold\">0.627517</span>\n",
       "<span style=\"color: #008080; text-decoration-color: #008080; font-weight: bold\">1</span>    <span style=\"color: #008080; text-decoration-color: #008080; font-weight: bold\">0.372483</span>\n",
       "dtype: float64\n",
       "</pre>\n"
      ],
      "text/plain": [
       "\n",
       "\u001b[1;36m0\u001b[0m    \u001b[1;36m0.627517\u001b[0m\n",
       "\u001b[1;36m1\u001b[0m    \u001b[1;36m0.372483\u001b[0m\n",
       "dtype: float64\n"
      ]
     },
     "metadata": {},
     "output_type": "display_data"
    }
   ],
   "source": [
    "pd.Series(y_train).value_counts(normalize=True)"
   ]
  },
  {
   "cell_type": "markdown",
   "id": "80b53396-61ef-466a-890c-0f540173ca40",
   "metadata": {},
   "source": [
    "¿Que pasaria si usamos un modelo simple o un modelo base?\n",
    "\n",
    "¿Cual seria mi 'accuracy'?"
   ]
  },
  {
   "cell_type": "code",
   "execution_count": 4,
   "id": "c6f4fb90-9f39-4231-86de-057d35863354",
   "metadata": {},
   "outputs": [
    {
     "data": {
      "text/html": [
       "<pre style=\"white-space:pre;overflow-x:auto;line-height:normal;font-family:Menlo,'DejaVu Sans Mono',consolas,'Courier New',monospace\"><span style=\"color: #008080; text-decoration-color: #008080; font-weight: bold\">0.62751677852349</span>\n",
       "</pre>\n"
      ],
      "text/plain": [
       "\u001b[1;36m0.62751677852349\u001b[0m\n"
      ]
     },
     "metadata": {},
     "output_type": "display_data"
    }
   ],
   "source": [
    "accuracy_score(y_train, np.zeros(596))"
   ]
  },
  {
   "cell_type": "code",
   "execution_count": 5,
   "id": "f842fc51-aea9-44a4-a0c1-47bf32c68238",
   "metadata": {},
   "outputs": [],
   "source": [
    "dc = DummyClassifier(strategy='uniform').fit(X_train, y_train)\n",
    "yhat_dc = dc.predict(X_train)"
   ]
  },
  {
   "cell_type": "code",
   "execution_count": 6,
   "id": "24172d5d-c9ab-4404-a246-a04be530e9e9",
   "metadata": {},
   "outputs": [
    {
     "data": {
      "text/html": [
       "<pre style=\"white-space:pre;overflow-x:auto;line-height:normal;font-family:Menlo,'DejaVu Sans Mono',consolas,'Courier New',monospace\"><span style=\"font-weight: bold\">(</span><span style=\"color: #008080; text-decoration-color: #008080; font-weight: bold\">0.4815436241610738</span>, <span style=\"color: #008080; text-decoration-color: #008080; font-weight: bold\">0.36936936936936937</span>, <span style=\"color: #008080; text-decoration-color: #008080; font-weight: bold\">0.5540540540540541</span><span style=\"font-weight: bold\">)</span>\n",
       "</pre>\n"
      ],
      "text/plain": [
       "\u001b[1m(\u001b[0m\u001b[1;36m0.4815436241610738\u001b[0m, \u001b[1;36m0.36936936936936937\u001b[0m, \u001b[1;36m0.5540540540540541\u001b[0m\u001b[1m)\u001b[0m\n"
      ]
     },
     "metadata": {},
     "output_type": "display_data"
    }
   ],
   "source": [
    "accuracy_score(y_train, yhat_dc), precision_score(y_train, yhat_dc), recall_score(y_train, yhat_dc)"
   ]
  },
  {
   "cell_type": "markdown",
   "id": "bf34d050-6316-4ae6-b8d8-45c297ef99af",
   "metadata": {},
   "source": [
    "# Construir modelos predeterminados"
   ]
  },
  {
   "cell_type": "code",
   "execution_count": 7,
   "id": "14c4807e-fea7-4bf9-92dc-be302a125600",
   "metadata": {},
   "outputs": [],
   "source": [
    "candidates = [KNeighborsClassifier, LogisticRegression, DecisionTreeClassifier, RandomForestClassifier, xgb.XGBClassifier]"
   ]
  },
  {
   "cell_type": "code",
   "execution_count": 8,
   "id": "faa6ecca-ccfa-4995-8cd7-abb61a34f8c3",
   "metadata": {},
   "outputs": [],
   "source": [
    "%%capture\n",
    "accuracies = np.zeros(len(candidates))\n",
    "for i, Model in enumerate(candidates):\n",
    "    model = Model().fit(X_train, y_train)\n",
    "    yhat = model.predict(X_test)\n",
    "    score = accuracy_score(y_test, yhat)\n",
    "    accuracies[i] = score"
   ]
  },
  {
   "cell_type": "code",
   "execution_count": 9,
   "id": "a287d5d3-6736-464d-82ab-1265e187e9ed",
   "metadata": {},
   "outputs": [
    {
     "data": {
      "text/html": [
       "<pre style=\"white-space:pre;overflow-x:auto;line-height:normal;font-family:Menlo,'DejaVu Sans Mono',consolas,'Courier New',monospace\"><span style=\"font-weight: bold\">&lt;</span><span style=\"color: #ff00ff; text-decoration-color: #ff00ff; font-weight: bold\">Figure</span><span style=\"color: #000000; text-decoration-color: #000000\"> size 432x288 with </span><span style=\"color: #008080; text-decoration-color: #008080; font-weight: bold\">1</span><span style=\"color: #000000; text-decoration-color: #000000\"> Axes</span><span style=\"font-weight: bold\">&gt;</span>\n",
       "</pre>\n"
      ],
      "text/plain": [
       "\u001b[1m<\u001b[0m\u001b[1;95mFigure\u001b[0m\u001b[39m size 432x288 with \u001b[0m\u001b[1;36m1\u001b[0m\u001b[39m Axes\u001b[0m\u001b[1m>\u001b[0m\n"
      ]
     },
     "metadata": {},
     "output_type": "display_data"
    },
    {
     "data": {
      "image/png": "[encoded data removed]"
     },
     "metadata": {
      "needs_background": "light"
     },
     "output_type": "display_data"
    }
   ],
   "source": [
    "plt.bar([c.__name__ for c in candidates], accuracies, color='#ff33cc', alpha=0.7)\n",
    "plt.axhline(y=0.63, linewidth=1, color='k')\n",
    "plt.xticks(rotation=45);"
   ]
  },
  {
   "cell_type": "markdown",
   "id": "0afbc05a-96c5-4acc-b95e-1a7a3939febf",
   "metadata": {},
   "source": [
    "# GridSearch\n",
    "\n",
    "- [Decison Tree](gs_dt.ipynb)\n",
    "- Logistic Regression\n",
    "- KNN\n",
    "- Random Forest\n",
    "- XGBoost\n"
   ]
  },
  {
   "cell_type": "markdown",
   "id": "c07d33fb-e0b1-4678-842b-9a78450cd1a0",
   "metadata": {},
   "source": [
    "# Construir modelo final"
   ]
  },
  {
   "cell_type": "code",
   "execution_count": 10,
   "id": "1da048b3-eb6f-496d-b7a0-a28d9728a2bf",
   "metadata": {},
   "outputs": [],
   "source": [
    "hyperparams = {\n",
    "        'criterion': 'entropy',\n",
    "        'max_depth': 10,\n",
    "        'max_features': 'log2',\n",
    "        'min_samples_split': 5\n",
    "        }\n",
    "\n",
    "model = DecisionTreeClassifier(**hyperparams).fit(X_train, y_train)"
   ]
  },
  {
   "cell_type": "markdown",
   "id": "cd3acc1c-0af0-4663-a8a7-1228d85c765e",
   "metadata": {},
   "source": [
    "# Elija Umbral"
   ]
  },
  {
   "cell_type": "code",
   "execution_count": 11,
   "id": "e8d33934-0766-47f5-abd4-a3e461ea6888",
   "metadata": {},
   "outputs": [],
   "source": [
    "metrics = pd.DataFrame(np.zeros((100,3)), columns=['accuracy', 'precision', 'recall'])\n",
    "thresholds = range(100)\n",
    "for t in thresholds:\n",
    "    yhat = model.predict_proba(X_test)[:,1] > (t/100)\n",
    "    metrics.iloc[t] = accuracy_score(y_test, yhat), precision_score(y_test, yhat), recall_score(y_test, yhat)"
   ]
  },
  {
   "cell_type": "code",
   "execution_count": 12,
   "id": "348c4e2a-ac0a-4ce4-aeed-a3799ac5654a",
   "metadata": {},
   "outputs": [
    {
     "data": {
      "text/html": [
       "<pre style=\"white-space:pre;overflow-x:auto;line-height:normal;font-family:Menlo,'DejaVu Sans Mono',consolas,'Courier New',monospace\"><span style=\"font-weight: bold\">&lt;</span><span style=\"color: #ff00ff; text-decoration-color: #ff00ff; font-weight: bold\">Figure</span><span style=\"color: #000000; text-decoration-color: #000000\"> size 864x504 with </span><span style=\"color: #008080; text-decoration-color: #008080; font-weight: bold\">1</span><span style=\"color: #000000; text-decoration-color: #000000\"> Axes</span><span style=\"font-weight: bold\">&gt;</span>\n",
       "</pre>\n"
      ],
      "text/plain": [
       "\u001b[1m<\u001b[0m\u001b[1;95mFigure\u001b[0m\u001b[39m size 864x504 with \u001b[0m\u001b[1;36m1\u001b[0m\u001b[39m Axes\u001b[0m\u001b[1m>\u001b[0m\n"
      ]
     },
     "metadata": {},
     "output_type": "display_data"
    },
    {
     "data": {
      "image/png": "[encoded data removed]"
     },
     "metadata": {
      "needs_background": "light"
     },
     "output_type": "display_data"
    }
   ],
   "source": [
    "metrics.plot(figsize=(12, 7));"
   ]
  },
  {
   "cell_type": "markdown",
   "id": "515f0147-18b3-4b99-89a4-72eb2255cb9a",
   "metadata": {},
   "source": [
    "# Evaluar modelo final\n",
    "\n",
    "- Parece que somos 17% más altas que la línea de base, ¡buen trabajo!"
   ]
  },
  {
   "cell_type": "code",
   "execution_count": 13,
   "id": "b9124a46-9155-4d12-a725-f10519e07c65",
   "metadata": {},
   "outputs": [
    {
     "data": {
      "text/html": [
       "<pre style=\"white-space:pre;overflow-x:auto;line-height:normal;font-family:Menlo,'DejaVu Sans Mono',consolas,'Courier New',monospace\"><span style=\"color: #008080; text-decoration-color: #008080; font-weight: bold\">0.8101694915254237</span>\n",
       "</pre>\n"
      ],
      "text/plain": [
       "\u001b[1;36m0.8101694915254237\u001b[0m\n"
      ]
     },
     "metadata": {},
     "output_type": "display_data"
    }
   ],
   "source": [
    "model.score(X_test, y_test)"
   ]
  },
  {
   "cell_type": "markdown",
   "id": "b4ff5c0f-9f90-4933-b1fe-6ff1fbf0c4c4",
   "metadata": {},
   "source": [
    "# Modelo de explicación"
   ]
  },
  {
   "cell_type": "code",
   "execution_count": 14,
   "id": "fbc029d8-b794-4ea9-b689-c922a5186728",
   "metadata": {},
   "outputs": [
    {
     "data": {
      "text/html": [
       "<pre style=\"white-space:pre;overflow-x:auto;line-height:normal;font-family:Menlo,'DejaVu Sans Mono',consolas,'Courier New',monospace\"><span style=\"font-weight: bold\">&lt;</span><span style=\"color: #ff00ff; text-decoration-color: #ff00ff; font-weight: bold\">Figure</span><span style=\"color: #000000; text-decoration-color: #000000\"> size 432x288 with </span><span style=\"color: #008080; text-decoration-color: #008080; font-weight: bold\">1</span><span style=\"color: #000000; text-decoration-color: #000000\"> Axes</span><span style=\"font-weight: bold\">&gt;</span>\n",
       "</pre>\n"
      ],
      "text/plain": [
       "\u001b[1m<\u001b[0m\u001b[1;95mFigure\u001b[0m\u001b[39m size 432x288 with \u001b[0m\u001b[1;36m1\u001b[0m\u001b[39m Axes\u001b[0m\u001b[1m>\u001b[0m\n"
      ]
     },
     "metadata": {},
     "output_type": "display_data"
    },
    {
     "data": {
      "image/png": "[encoded data removed]"
     },
     "metadata": {
      "needs_background": "light"
     },
     "output_type": "display_data"
    }
   ],
   "source": [
    "plt.barh(X_test.columns, model.feature_importances_, color='purple');"
   ]
  },
  {
   "cell_type": "markdown",
   "id": "c32c0bea-b60a-42a8-8b15-bd94f99c69cd",
   "metadata": {},
   "source": [
    "# Modelo de producción"
   ]
  },
  {
   "cell_type": "code",
   "execution_count": 15,
   "id": "5032cfd7-e79f-4b7b-b570-6acf04cb1a0e",
   "metadata": {},
   "outputs": [],
   "source": [
    "with open('model.p', 'wb') as f:\n",
    "    pickle.dump(model, f, protocol=pickle.HIGHEST_PROTOCOL)"
   ]
  },
  {
   "cell_type": "code",
   "execution_count": 16,
   "id": "929c48d5-7818-4915-a9d8-f785fc8c30a3",
   "metadata": {},
   "outputs": [],
   "source": [
    "with open('model.p', 'rb') as f:\n",
    "    reanimated = pickle.load(f)"
   ]
  },
  {
   "cell_type": "code",
   "execution_count": 17,
   "id": "4c93d7de-c484-4a40-865f-eabd03e1474e",
   "metadata": {},
   "outputs": [
    {
     "data": {
      "text/html": [
       "<pre style=\"white-space:pre;overflow-x:auto;line-height:normal;font-family:Menlo,'DejaVu Sans Mono',consolas,'Courier New',monospace\"><span style=\"color: #008080; text-decoration-color: #008080; font-weight: bold\">0.8101694915254237</span>\n",
       "</pre>\n"
      ],
      "text/plain": [
       "\u001b[1;36m0.8101694915254237\u001b[0m\n"
      ]
     },
     "metadata": {},
     "output_type": "display_data"
    }
   ],
   "source": [
    "model.score(X_test, y_test)"
   ]
  },
  {
   "cell_type": "code",
   "execution_count": 18,
   "id": "2f74d67e-34ae-4cc9-aaaa-9c29b6fb8b92",
   "metadata": {},
   "outputs": [
    {
     "data": {
      "text/html": [
       "<pre style=\"white-space:pre;overflow-x:auto;line-height:normal;font-family:Menlo,'DejaVu Sans Mono',consolas,'Courier New',monospace\"><span style=\"color: #008080; text-decoration-color: #008080; font-weight: bold\">0.8101694915254237</span>\n",
       "</pre>\n"
      ],
      "text/plain": [
       "\u001b[1;36m0.8101694915254237\u001b[0m\n"
      ]
     },
     "metadata": {},
     "output_type": "display_data"
    }
   ],
   "source": [
    "reanimated.score(X_test, y_test)"
   ]
  },
  {
   "cell_type": "code",
   "execution_count": null,
   "id": "6c75adc6-aaca-46b8-ba6b-5daeaf2b94be",
   "metadata": {},
   "outputs": [],
   "source": []
  }
 ],
 "metadata": {
  "kernelspec": {
   "display_name": "Python 3 (ipykernel)",
   "language": "python",
   "name": "python3"
  },
  "language_info": {
   "codemirror_mode": {
    "name": "ipython",
    "version": 3
   },
   "file_extension": ".py",
   "mimetype": "text/x-python",
   "name": "python",
   "nbconvert_exporter": "python",
   "pygments_lexer": "ipython3",
   "version": "3.9.12"
  }
 },
 "nbformat": 4,
 "nbformat_minor": 5
}
