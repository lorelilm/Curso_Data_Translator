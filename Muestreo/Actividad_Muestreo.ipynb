{
 "cells": [
  {
   "cell_type": "code",
   "execution_count": 1,
   "id": "c4d3d60c",
   "metadata": {},
   "outputs": [],
   "source": [
    "import numpy as np\n",
    "import pandas as pd\n",
    "import scipy as sp\n",
    "import scipy.stats as stats\n",
    "import matplotlib.pyplot as plt"
   ]
  },
  {
   "cell_type": "markdown",
   "id": "04fe731c",
   "metadata": {},
   "source": [
    "Crear las siguientes distribuciones\n",
    "Binomial (n=25, p=.70)"
   ]
  },
  {
   "cell_type": "code",
   "execution_count": 2,
   "id": "996d4eb6",
   "metadata": {},
   "outputs": [
    {
     "data": {
      "text/plain": [
       "<scipy.stats._distn_infrastructure.rv_frozen at 0x1ceace460a0>"
      ]
     },
     "execution_count": 2,
     "metadata": {},
     "output_type": "execute_result"
    }
   ],
   "source": [
    "dist1 = stats.binom(n=25, p=0.7)\n",
    "dist1"
   ]
  },
  {
   "cell_type": "markdown",
   "id": "16b26c61",
   "metadata": {},
   "source": [
    "Uniforme para un dado de 6 caras"
   ]
  },
  {
   "cell_type": "code",
   "execution_count": 4,
   "id": "e1f3a766",
   "metadata": {},
   "outputs": [
    {
     "data": {
      "text/plain": [
       "<scipy.stats._distn_infrastructure.rv_frozen at 0x1cea86c4610>"
      ]
     },
     "execution_count": 4,
     "metadata": {},
     "output_type": "execute_result"
    }
   ],
   "source": [
    "dado = stats.randint(low=1, high=7) \n",
    "dado"
   ]
  },
  {
   "cell_type": "code",
   "execution_count": 5,
   "id": "3e3aa52e",
   "metadata": {},
   "outputs": [
    {
     "data": {
      "text/plain": [
       "(-0.1, 38.0)"
      ]
     },
     "execution_count": 5,
     "metadata": {},
     "output_type": "execute_result"
    },
    {
     "data": {
      "image/png": "[encoded data removed]",
      "text/plain": [
       "<Figure size 432x288 with 1 Axes>"
      ]
     },
     "metadata": {
      "needs_background": "light"
     },
     "output_type": "display_data"
    }
   ],
   "source": [
    "plt.plot(range(0,38), dado.cdf(range(0,38)))\n",
    "plt.ylim([-0.1,1.1])\n",
    "plt.xlim([-0.1,38])"
   ]
  },
  {
   "cell_type": "markdown",
   "id": "27de0692",
   "metadata": {},
   "source": [
    "Exponencial(Teta=10)"
   ]
  },
  {
   "cell_type": "code",
   "execution_count": 6,
   "id": "f69afedc",
   "metadata": {},
   "outputs": [
    {
     "data": {
      "text/plain": [
       "<scipy.stats._distn_infrastructure.rv_frozen at 0x1cea86c8a30>"
      ]
     },
     "execution_count": 6,
     "metadata": {},
     "output_type": "execute_result"
    }
   ],
   "source": [
    "dist3 = stats.expon(10)\n",
    "dist3"
   ]
  },
  {
   "cell_type": "code",
   "execution_count": 9,
   "id": "0a42ab7b",
   "metadata": {},
   "outputs": [
    {
     "data": {
      "text/plain": [
       "array([17, 19, 18, 15, 23, 20, 17, 15, 20, 17, 15, 19, 20, 20, 19, 13, 15,\n",
       "       20, 15, 19, 18, 14, 15, 19, 20, 18, 23, 19, 16, 22, 17, 17, 20, 18,\n",
       "       21, 15, 13, 21, 15, 17, 16, 17, 17, 22, 19, 17, 16, 19, 19, 15, 13,\n",
       "       15, 18, 17, 18, 19, 20, 19, 21, 18, 18, 17, 17, 20, 14, 14, 17, 18,\n",
       "       18, 19, 19, 19, 20, 13, 13, 17, 16, 19, 20, 18, 18, 21, 17, 12, 18,\n",
       "       19, 16, 16, 19, 17, 17, 19, 20, 19, 18, 17, 19, 17, 19, 17, 16, 16,\n",
       "       17, 19, 16, 15, 17, 13, 13, 20, 22, 20, 14, 14, 19, 18, 17, 19, 18,\n",
       "       16, 18, 16, 17, 24, 18, 18, 18, 18, 18, 18, 21, 19, 14, 22, 21, 19,\n",
       "       17, 12, 12, 12, 20, 17, 17, 20, 14, 19, 10, 17, 20, 18, 20, 18, 17,\n",
       "       16, 18, 19, 17, 18, 18, 19, 19, 18, 18, 15, 16, 16, 18, 18, 17, 16,\n",
       "       20, 20, 18, 20, 13, 15, 17, 19, 20, 13, 16, 15, 18, 19, 19, 15, 18,\n",
       "       17, 16, 19, 21, 16, 13, 14, 18, 17, 16, 14, 20, 18, 18, 16, 18, 15,\n",
       "       15, 21, 19, 13, 21, 18, 14, 15, 19, 17, 18, 17, 15, 17, 18, 19, 19,\n",
       "       17, 21, 17, 16, 14, 16, 18, 18, 13, 19, 18, 12, 22, 16, 22, 19, 21,\n",
       "       21, 20, 20, 17, 18, 15, 19, 20, 16, 15, 17, 16, 17, 17, 15, 14, 15,\n",
       "       19, 15, 18, 16, 18, 20, 16, 19, 15, 15, 17, 18, 17, 20, 16, 13, 16,\n",
       "       19, 15, 16, 21, 19, 17, 20, 16, 12, 19, 16, 21, 19, 14, 17, 17, 14,\n",
       "       20, 22, 20, 17, 18, 16, 15, 19, 18, 18, 21])"
      ]
     },
     "execution_count": 9,
     "metadata": {},
     "output_type": "execute_result"
    }
   ],
   "source": [
    "np.random.seed(100)\n",
    "dist1_sample= dist1.rvs(300)\n",
    "dist1_sample"
   ]
  },
  {
   "cell_type": "code",
   "execution_count": 10,
   "id": "5f6adcb2",
   "metadata": {},
   "outputs": [
    {
     "data": {
      "text/plain": [
       "array([1, 1, 4, 1, 3, 5, 3, 6, 3, 3, 3, 2, 1, 1, 5, 4, 5, 3, 1, 4, 2, 6,\n",
       "       3, 4, 5, 5, 2, 6, 6, 4, 5, 5, 4, 4, 4, 2, 2, 6, 4, 1, 3, 2, 2, 4,\n",
       "       3, 6, 4, 1, 2, 1, 6, 5, 3, 1, 1, 3, 6, 3, 2, 1, 6, 3, 2, 6, 5, 3,\n",
       "       1, 4, 4, 4, 6, 1, 6, 2, 5, 3, 4, 4, 5, 3, 5, 4, 2, 1, 5, 4, 5, 6,\n",
       "       3, 3, 5, 3, 6, 5, 2, 3, 3, 1, 3, 3, 4, 6, 5, 3, 5, 4, 6, 2, 1, 1,\n",
       "       6, 2, 6, 3, 5, 3, 4, 4, 2, 3, 4, 1, 2, 6, 6, 2, 6, 4, 1, 5, 3, 6,\n",
       "       5, 4, 5, 5, 3, 1, 2, 1, 5, 6, 3, 6, 5, 5, 6, 2, 1, 2, 1, 5, 3, 1,\n",
       "       6, 4, 3, 3, 4, 6, 5, 2, 4, 2, 5, 1, 1, 6, 3, 5, 3, 3, 3, 2, 3, 2,\n",
       "       6, 3, 3, 6, 1, 3, 6, 4, 5, 6, 3, 2, 3, 6, 2, 6, 2, 3, 5, 3, 4, 6,\n",
       "       5, 5, 2, 4, 1, 3, 6, 3, 6, 2, 2, 3, 6, 5, 1, 4, 4, 5, 3, 6, 1, 6,\n",
       "       1, 1, 6, 2, 4, 3, 4, 2, 1, 6, 3, 1, 1, 2, 2, 6, 3, 4, 4, 2, 6, 5,\n",
       "       6, 4, 3, 2, 5, 5, 2, 6, 5, 4, 5, 4, 6, 6, 3, 5, 4, 3, 6, 1, 3, 1,\n",
       "       1, 2, 6, 6, 5, 6, 1, 1, 4, 1, 6, 2, 5, 4, 5, 3, 6, 1, 2, 5, 1, 4,\n",
       "       3, 2, 2, 3, 5, 5, 4, 4, 3, 4, 5, 3, 5, 5])"
      ]
     },
     "execution_count": 10,
     "metadata": {},
     "output_type": "execute_result"
    }
   ],
   "source": [
    "np.random.seed(100)\n",
    "dado_sample= dado.rvs(300)\n",
    "dado_sample"
   ]
  },
  {
   "cell_type": "code",
   "execution_count": 11,
   "id": "ab9bdda1",
   "metadata": {},
   "outputs": [
    {
     "data": {
      "text/plain": [
       "array([10.78395837, 10.32624188, 10.55254662, 11.8628869 , 10.00473003,\n",
       "       10.12961805, 11.11093516, 11.7478541 , 10.14700066, 10.85588573,\n",
       "       12.21936548, 10.23471287, 10.20496997, 10.11471176, 10.2480736 ,\n",
       "       13.84547641, 11.66962936, 10.18867089, 11.69404173, 10.32030685,\n",
       "       10.56511319, 12.81390783, 11.70182395, 10.40964174, 10.19286954,\n",
       "       10.46654091, 10.00570475, 10.29092245, 11.58798228, 10.01537253,\n",
       "       10.91340335, 10.9258476 , 10.11109659, 10.48117531, 10.03715794,\n",
       "       12.21102342, 13.95915953, 10.06181369, 12.2122504 , 10.86015027,\n",
       "       11.35665668, 10.99474952, 10.87189639, 10.0206509 , 10.23575598,\n",
       "       10.78676552, 11.46583627, 10.28860947, 10.33672624, 11.91321609,\n",
       "       13.68913923, 12.16154825, 10.4455184 , 10.91344216, 10.43818813,\n",
       "       10.41580369, 10.19611342, 10.2714075 , 10.04589974, 10.70406947,\n",
       "       10.47200957, 10.89846408, 10.99409519, 10.15385109, 12.71569887,\n",
       "       12.92583092, 10.92204892, 10.49064117, 10.45128081, 10.22858995,\n",
       "       10.32402116, 10.28307388, 10.19068604, 13.39948968, 13.14684824,\n",
       "       10.91123773, 11.31416257, 10.41609929, 10.09657214, 10.62268502,\n",
       "       10.71069809, 10.09261999, 10.75085092, 14.84826603, 10.50258621,\n",
       "       10.40886555, 11.63706884, 11.40384343, 10.3755177 , 11.00522218,\n",
       "       10.77740869, 10.35210505, 10.11741949, 10.37489754, 10.61060753,\n",
       "       11.07569707, 10.29337494, 11.02471499, 10.22329807, 11.07184808,\n",
       "       11.50638152, 11.51230394, 10.94245031, 10.36961596, 11.19645086,\n",
       "       11.96339011, 10.98169298, 14.04030134, 13.75076026, 10.18235451,\n",
       "       10.02345097, 10.17524015, 12.57042304, 13.06937558, 10.23696161,\n",
       "       10.44710814, 10.79712035, 10.31722191, 10.61730087, 11.19125918,\n",
       "       10.69385923, 11.25903104, 10.746455  , 10.0014    , 10.50203155,\n",
       "       10.67760257, 10.51563774, 10.43741765, 10.69437657, 10.58910547,\n",
       "       10.09478638, 10.31960341, 12.87310937, 10.02690331, 10.04082063,\n",
       "       10.33287522, 10.87309756, 14.69869029, 14.91199939, 14.97875479,\n",
       "       10.11658812, 11.09207802, 10.74230977, 10.19013187, 12.8640068 ,\n",
       "       10.27688733, 16.8422193 , 10.87393507, 10.20245774, 10.48913821,\n",
       "       10.21031806, 10.52893982, 10.90307857, 11.26084688, 10.66726792,\n",
       "       10.37046939, 10.86142708, 10.58287283, 10.44578426, 10.38762313,\n",
       "       10.23345559, 10.60012803, 10.67696465, 12.29339064, 11.30696746,\n",
       "       11.47006636, 10.47070667, 10.42119752, 11.06431291, 11.24146006,\n",
       "       10.12051654, 10.14274939, 10.60887783, 10.17403942, 13.26078966,\n",
       "       11.81778981, 10.734304  , 10.24624875, 10.14493181, 13.86658825,\n",
       "       11.22773113, 11.96593828, 10.48967199, 10.28879472, 10.35587244,\n",
       "       11.94418034, 10.64052435, 11.08849478, 11.63849917, 10.291664  ,\n",
       "       10.08291806, 11.31961041, 13.25443765, 13.07487796, 10.67432357,\n",
       "       11.00019439, 11.32048797, 12.32697516, 10.17703187, 10.52067619,\n",
       "       10.53972374, 11.18938318, 10.5531196 , 11.95273295, 11.87687615,\n",
       "       10.07278482, 10.35918153, 13.89338189, 10.03627713, 10.67804706,\n",
       "       13.04443635, 11.66375556, 10.3486082 , 10.90691858, 10.56418746,\n",
       "       10.89746285, 12.24198028, 10.80748384, 10.67898101, 10.3845902 ,\n",
       "       10.30566382, 10.78149898, 10.08584608, 11.00960386, 11.59162366,\n",
       "       13.09549748, 11.15399056, 10.67000341, 10.66439319, 13.40198531,\n",
       "       10.23742998, 10.53043011, 14.5722749 , 10.02882329, 11.20840432,\n",
       "       10.02549379, 10.38695998, 10.07637044, 10.06281687, 10.1181152 ,\n",
       "       10.18544913, 10.98801845, 10.57695313, 11.77728729, 10.27416345,\n",
       "       10.2107861 , 11.24444645, 11.95400732, 10.81883714, 11.21881713,\n",
       "       10.92915319, 10.81920323, 11.96893248, 12.5226753 , 11.89450558,\n",
       "       10.29365526, 12.10009776, 10.57116   , 11.30746227, 10.53211867,\n",
       "       10.21175372, 11.22424191, 10.27526985, 11.90598871, 11.73785264,\n",
       "       10.74488644, 10.48831554, 10.8937487 , 10.14794751, 11.65166927,\n",
       "       13.37628475, 11.5132    , 10.27356234, 12.01936606, 11.65085911,\n",
       "       10.06579918, 10.26296124, 10.89083122, 10.147905  , 11.13457332,\n",
       "       14.85243861, 10.33652502, 11.43092677, 10.04764435, 10.40426968,\n",
       "       12.8923239 , 11.01202286, 10.92092296, 12.63365748, 10.2005011 ,\n",
       "       10.01798393, 10.21081014, 10.73787638, 10.68482587, 11.61189696,\n",
       "       11.96209459, 10.23947116, 10.57495328, 10.54751988, 10.05627132])"
      ]
     },
     "execution_count": 11,
     "metadata": {},
     "output_type": "execute_result"
    }
   ],
   "source": [
    "np.random.seed(100)\n",
    "dist3_sample= dist3.rvs(300)\n",
    "dist3_sample"
   ]
  },
  {
   "cell_type": "code",
   "execution_count": 17,
   "id": "23f00445",
   "metadata": {},
   "outputs": [],
   "source": [
    "def bootstrap (data, n_samples=100):\n",
    "    bootstrap_medians=[]\n",
    "    bootstrap_mean=[]\n",
    "    bootstrap_23=[]\n",
    "    \n",
    "    for i in range(n_samples):\n",
    "        bootstrap_sample= np.random.choice(data,size=len(data), replace=True)\n",
    "        bootstrap_medians.append(np.median(bootstrap_sample))\n",
    "        bootstrap_mean.append(np.mean(bootstrap_sample))\n",
    "        bootstrap_23.append(np.percentile(bootstrap_sample,23))\n",
    "        \n",
    "    fig,ax= plt.subplots(1, figsize=(15,8))\n",
    "    ax.hist(bootstrap_medians, bins=25, density=True, color=\"black\", alpha=0.4, label=\"Medianas\")\n",
    "    ax.hist(bootstrap_mean, bins=25, density=True, color=\"red\", alpha=0.75, label=\"Medias\")\n",
    "    ax.hist(bootstrap_23, bins=25, density=True, color=\"blue\", alpha=0.55, label=\"Percentil_23\")\n",
    "    ax.legend()\n",
    "    _= ax.set_title(\"Bootstrap de una muestra\", fontsize=20)\n",
    "    return bootstrap_medians, bootstrap_mean, bootstrap_23"
   ]
  },
  {
   "cell_type": "code",
   "execution_count": 21,
   "id": "360afdf0",
   "metadata": {},
   "outputs": [
    {
     "data": {
      "image/png": "[encoded data removed]",
      "text/plain": [
       "<Figure size 1080x576 with 1 Axes>"
      ]
     },
     "metadata": {
      "needs_background": "light"
     },
     "output_type": "display_data"
    }
   ],
   "source": [
    "dist1_median, dist1_mean, dist1_23= bootstrap(dist1_sample)"
   ]
  },
  {
   "cell_type": "code",
   "execution_count": 19,
   "id": "c52389a7",
   "metadata": {},
   "outputs": [
    {
     "data": {
      "image/png": "[encoded data removed]",
      "text/plain": [
       "<Figure size 1080x576 with 1 Axes>"
      ]
     },
     "metadata": {
      "needs_background": "light"
     },
     "output_type": "display_data"
    }
   ],
   "source": [
    "dado_median, dado_mean, dado_23= bootstrap(dado_sample, n_samples=500)"
   ]
  },
  {
   "cell_type": "code",
   "execution_count": 20,
   "id": "f2b25dc0",
   "metadata": {},
   "outputs": [
    {
     "data": {
      "image/png": "[encoded data removed]",
      "text/plain": [
       "<Figure size 1080x576 with 1 Axes>"
      ]
     },
     "metadata": {
      "needs_background": "light"
     },
     "output_type": "display_data"
    }
   ],
   "source": [
    "dist3_median, dist3_mean, dist3_23= bootstrap(dist3_sample, n_samples=500)"
   ]
  }
 ],
 "metadata": {
  "kernelspec": {
   "display_name": "Python 3 (ipykernel)",
   "language": "python",
   "name": "python3"
  },
  "language_info": {
   "codemirror_mode": {
    "name": "ipython",
    "version": 3
   },
   "file_extension": ".py",
   "mimetype": "text/x-python",
   "name": "python",
   "nbconvert_exporter": "python",
   "pygments_lexer": "ipython3",
   "version": "3.9.12"
  }
 },
 "nbformat": 4,
 "nbformat_minor": 5
}
