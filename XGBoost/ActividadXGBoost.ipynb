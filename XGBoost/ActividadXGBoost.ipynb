{
 "cells": [
  {
   "cell_type": "code",
   "execution_count": 1,
   "id": "097eadaa",
   "metadata": {},
   "outputs": [],
   "source": [
    "import numpy as np\n",
    "import pandas as pd\n",
    "import matplotlib.pyplot as plt\n",
    "import seaborn as sns\n",
    "\n",
    "import xgboost as xgb\n",
    "from xgboost import XGBRegressor\n",
    "\n",
    "from sklearn.model_selection import train_test_split, GridSearchCV\n",
    "from sklearn.linear_model import LinearRegression, Lasso, Ridge, ElasticNet, LogisticRegression\n",
    "from sklearn.neighbors import KNeighborsRegressor\n",
    "from sklearn.tree import DecisionTreeRegressor, plot_tree\n",
    "from sklearn.ensemble import RandomForestRegressor\n",
    "from sklearn import preprocessing\n",
    "from sklearn import utils\n",
    "\n",
    "from sklearn.datasets import load_boston\n",
    "\n",
    "%matplotlib inline"
   ]
  },
  {
   "cell_type": "code",
   "execution_count": 2,
   "id": "d822137d",
   "metadata": {
    "collapsed": true
   },
   "outputs": [
    {
     "name": "stderr",
     "output_type": "stream",
     "text": [
      "C:\\Users\\ellomo19\\Anaconda3\\lib\\site-packages\\sklearn\\utils\\deprecation.py:87: FutureWarning: Function load_boston is deprecated; `load_boston` is deprecated in 1.0 and will be removed in 1.2.\n",
      "\n",
      "    The Boston housing prices dataset has an ethical problem. You can refer to\n",
      "    the documentation of this function for further details.\n",
      "\n",
      "    The scikit-learn maintainers therefore strongly discourage the use of this\n",
      "    dataset unless the purpose of the code is to study and educate about\n",
      "    ethical issues in data science and machine learning.\n",
      "\n",
      "    In this special case, you can fetch the dataset from the original\n",
      "    source::\n",
      "\n",
      "        import pandas as pd\n",
      "        import numpy as np\n",
      "\n",
      "\n",
      "        data_url = \"http://lib.stat.cmu.edu/datasets/boston\"\n",
      "        raw_df = pd.read_csv(data_url, sep=\"\\s+\", skiprows=22, header=None)\n",
      "        data = np.hstack([raw_df.values[::2, :], raw_df.values[1::2, :2]])\n",
      "        target = raw_df.values[1::2, 2]\n",
      "\n",
      "    Alternative datasets include the California housing dataset (i.e.\n",
      "    :func:`~sklearn.datasets.fetch_california_housing`) and the Ames housing\n",
      "    dataset. You can load the datasets as follows::\n",
      "\n",
      "        from sklearn.datasets import fetch_california_housing\n",
      "        housing = fetch_california_housing()\n",
      "\n",
      "    for the California housing dataset and::\n",
      "\n",
      "        from sklearn.datasets import fetch_openml\n",
      "        housing = fetch_openml(name=\"house_prices\", as_frame=True)\n",
      "\n",
      "    for the Ames housing dataset.\n",
      "    \n",
      "  warnings.warn(msg, category=FutureWarning)\n"
     ]
    }
   ],
   "source": [
    "boston= load_boston()\n",
    "y= pd.DataFrame(boston.target, columns=[\"Target_price\"])\n",
    "X= pd.DataFrame(boston.data, columns=boston.feature_names)"
   ]
  },
  {
   "cell_type": "code",
   "execution_count": 3,
   "id": "ed1bc601",
   "metadata": {},
   "outputs": [
    {
     "data": {
      "text/html": [
       "<div>\n",
       "<style scoped>\n",
       "    .dataframe tbody tr th:only-of-type {\n",
       "        vertical-align: middle;\n",
       "    }\n",
       "\n",
       "    .dataframe tbody tr th {\n",
       "        vertical-align: top;\n",
       "    }\n",
       "\n",
       "    .dataframe thead th {\n",
       "        text-align: right;\n",
       "    }\n",
       "</style>\n",
       "<table border=\"1\" class=\"dataframe\">\n",
       "  <thead>\n",
       "    <tr style=\"text-align: right;\">\n",
       "      <th></th>\n",
       "      <th>Target_price</th>\n",
       "    </tr>\n",
       "  </thead>\n",
       "  <tbody>\n",
       "    <tr>\n",
       "      <th>0</th>\n",
       "      <td>24.0</td>\n",
       "    </tr>\n",
       "    <tr>\n",
       "      <th>1</th>\n",
       "      <td>21.6</td>\n",
       "    </tr>\n",
       "    <tr>\n",
       "      <th>2</th>\n",
       "      <td>34.7</td>\n",
       "    </tr>\n",
       "    <tr>\n",
       "      <th>3</th>\n",
       "      <td>33.4</td>\n",
       "    </tr>\n",
       "    <tr>\n",
       "      <th>4</th>\n",
       "      <td>36.2</td>\n",
       "    </tr>\n",
       "  </tbody>\n",
       "</table>\n",
       "</div>"
      ],
      "text/plain": [
       "   Target_price\n",
       "0          24.0\n",
       "1          21.6\n",
       "2          34.7\n",
       "3          33.4\n",
       "4          36.2"
      ]
     },
     "execution_count": 3,
     "metadata": {},
     "output_type": "execute_result"
    }
   ],
   "source": [
    "y.head()"
   ]
  },
  {
   "cell_type": "code",
   "execution_count": 4,
   "id": "fcee5745",
   "metadata": {},
   "outputs": [
    {
     "data": {
      "text/html": [
       "<div>\n",
       "<style scoped>\n",
       "    .dataframe tbody tr th:only-of-type {\n",
       "        vertical-align: middle;\n",
       "    }\n",
       "\n",
       "    .dataframe tbody tr th {\n",
       "        vertical-align: top;\n",
       "    }\n",
       "\n",
       "    .dataframe thead th {\n",
       "        text-align: right;\n",
       "    }\n",
       "</style>\n",
       "<table border=\"1\" class=\"dataframe\">\n",
       "  <thead>\n",
       "    <tr style=\"text-align: right;\">\n",
       "      <th></th>\n",
       "      <th>CRIM</th>\n",
       "      <th>ZN</th>\n",
       "      <th>INDUS</th>\n",
       "      <th>CHAS</th>\n",
       "      <th>NOX</th>\n",
       "      <th>RM</th>\n",
       "      <th>AGE</th>\n",
       "      <th>DIS</th>\n",
       "      <th>RAD</th>\n",
       "      <th>TAX</th>\n",
       "      <th>PTRATIO</th>\n",
       "      <th>B</th>\n",
       "      <th>LSTAT</th>\n",
       "    </tr>\n",
       "  </thead>\n",
       "  <tbody>\n",
       "    <tr>\n",
       "      <th>0</th>\n",
       "      <td>0.00632</td>\n",
       "      <td>18.0</td>\n",
       "      <td>2.31</td>\n",
       "      <td>0.0</td>\n",
       "      <td>0.538</td>\n",
       "      <td>6.575</td>\n",
       "      <td>65.2</td>\n",
       "      <td>4.0900</td>\n",
       "      <td>1.0</td>\n",
       "      <td>296.0</td>\n",
       "      <td>15.3</td>\n",
       "      <td>396.90</td>\n",
       "      <td>4.98</td>\n",
       "    </tr>\n",
       "    <tr>\n",
       "      <th>1</th>\n",
       "      <td>0.02731</td>\n",
       "      <td>0.0</td>\n",
       "      <td>7.07</td>\n",
       "      <td>0.0</td>\n",
       "      <td>0.469</td>\n",
       "      <td>6.421</td>\n",
       "      <td>78.9</td>\n",
       "      <td>4.9671</td>\n",
       "      <td>2.0</td>\n",
       "      <td>242.0</td>\n",
       "      <td>17.8</td>\n",
       "      <td>396.90</td>\n",
       "      <td>9.14</td>\n",
       "    </tr>\n",
       "    <tr>\n",
       "      <th>2</th>\n",
       "      <td>0.02729</td>\n",
       "      <td>0.0</td>\n",
       "      <td>7.07</td>\n",
       "      <td>0.0</td>\n",
       "      <td>0.469</td>\n",
       "      <td>7.185</td>\n",
       "      <td>61.1</td>\n",
       "      <td>4.9671</td>\n",
       "      <td>2.0</td>\n",
       "      <td>242.0</td>\n",
       "      <td>17.8</td>\n",
       "      <td>392.83</td>\n",
       "      <td>4.03</td>\n",
       "    </tr>\n",
       "    <tr>\n",
       "      <th>3</th>\n",
       "      <td>0.03237</td>\n",
       "      <td>0.0</td>\n",
       "      <td>2.18</td>\n",
       "      <td>0.0</td>\n",
       "      <td>0.458</td>\n",
       "      <td>6.998</td>\n",
       "      <td>45.8</td>\n",
       "      <td>6.0622</td>\n",
       "      <td>3.0</td>\n",
       "      <td>222.0</td>\n",
       "      <td>18.7</td>\n",
       "      <td>394.63</td>\n",
       "      <td>2.94</td>\n",
       "    </tr>\n",
       "    <tr>\n",
       "      <th>4</th>\n",
       "      <td>0.06905</td>\n",
       "      <td>0.0</td>\n",
       "      <td>2.18</td>\n",
       "      <td>0.0</td>\n",
       "      <td>0.458</td>\n",
       "      <td>7.147</td>\n",
       "      <td>54.2</td>\n",
       "      <td>6.0622</td>\n",
       "      <td>3.0</td>\n",
       "      <td>222.0</td>\n",
       "      <td>18.7</td>\n",
       "      <td>396.90</td>\n",
       "      <td>5.33</td>\n",
       "    </tr>\n",
       "  </tbody>\n",
       "</table>\n",
       "</div>"
      ],
      "text/plain": [
       "      CRIM    ZN  INDUS  CHAS    NOX     RM   AGE     DIS  RAD    TAX  \\\n",
       "0  0.00632  18.0   2.31   0.0  0.538  6.575  65.2  4.0900  1.0  296.0   \n",
       "1  0.02731   0.0   7.07   0.0  0.469  6.421  78.9  4.9671  2.0  242.0   \n",
       "2  0.02729   0.0   7.07   0.0  0.469  7.185  61.1  4.9671  2.0  242.0   \n",
       "3  0.03237   0.0   2.18   0.0  0.458  6.998  45.8  6.0622  3.0  222.0   \n",
       "4  0.06905   0.0   2.18   0.0  0.458  7.147  54.2  6.0622  3.0  222.0   \n",
       "\n",
       "   PTRATIO       B  LSTAT  \n",
       "0     15.3  396.90   4.98  \n",
       "1     17.8  396.90   9.14  \n",
       "2     17.8  392.83   4.03  \n",
       "3     18.7  394.63   2.94  \n",
       "4     18.7  396.90   5.33  "
      ]
     },
     "execution_count": 4,
     "metadata": {},
     "output_type": "execute_result"
    }
   ],
   "source": [
    "X.head()"
   ]
  },
  {
   "cell_type": "code",
   "execution_count": 5,
   "id": "44eec4a7",
   "metadata": {},
   "outputs": [],
   "source": [
    "X_train, X_test, y_train, y_test = train_test_split(X,y, test_size=0.2, random_state=1)"
   ]
  },
  {
   "cell_type": "code",
   "execution_count": 6,
   "id": "2f42bd74",
   "metadata": {},
   "outputs": [],
   "source": [
    "#KNN\n",
    "knn= KNeighborsRegressor().fit(X_train, y_train)\n",
    "y_hat_knn= knn.predict(X_test)\n",
    "y_hat_knn=(y_hat_knn).flatten()"
   ]
  },
  {
   "cell_type": "code",
   "execution_count": 7,
   "id": "619ca19c",
   "metadata": {},
   "outputs": [],
   "source": [
    "#LinearRegression\n",
    "lir= LinearRegression().fit(X_train, y_train)\n",
    "y_hat_lir= lir.predict(X_test)\n",
    "y_hat_lir=(y_hat_lir).flatten()"
   ]
  },
  {
   "cell_type": "code",
   "execution_count": 8,
   "id": "67ba2f84",
   "metadata": {},
   "outputs": [],
   "source": [
    "#Lasso\n",
    "lasso= Lasso().fit(X_train, y_train)\n",
    "y_hat_lasso= lasso.predict(X_test)\n",
    "y_hat_lasso=(y_hat_lasso).flatten()"
   ]
  },
  {
   "cell_type": "code",
   "execution_count": 9,
   "id": "3d8615f4",
   "metadata": {},
   "outputs": [],
   "source": [
    "#Ridge\n",
    "ri= Ridge().fit(X_train, y_train)\n",
    "y_hat_ri= ri.predict(X_test)\n",
    "y_hat_ri=(y_hat_ri).flatten()"
   ]
  },
  {
   "cell_type": "code",
   "execution_count": 10,
   "id": "d45fac70",
   "metadata": {},
   "outputs": [],
   "source": [
    "#ElasticNet\n",
    "en= ElasticNet().fit(X_train, y_train)\n",
    "y_hat_en= en.predict(X_test)\n",
    "y_hat_en=(y_hat_en).flatten()"
   ]
  },
  {
   "cell_type": "code",
   "execution_count": 11,
   "id": "bef7ea6a",
   "metadata": {},
   "outputs": [
    {
     "name": "stderr",
     "output_type": "stream",
     "text": [
      "C:\\Users\\ellomo19\\Anaconda3\\lib\\site-packages\\sklearn\\preprocessing\\_label.py:115: DataConversionWarning: A column-vector y was passed when a 1d array was expected. Please change the shape of y to (n_samples, ), for example using ravel().\n",
      "  y = column_or_1d(y, warn=True)\n",
      "C:\\Users\\ellomo19\\Anaconda3\\lib\\site-packages\\sklearn\\linear_model\\_logistic.py:814: ConvergenceWarning: lbfgs failed to converge (status=1):\n",
      "STOP: TOTAL NO. of ITERATIONS REACHED LIMIT.\n",
      "\n",
      "Increase the number of iterations (max_iter) or scale the data as shown in:\n",
      "    https://scikit-learn.org/stable/modules/preprocessing.html\n",
      "Please also refer to the documentation for alternative solver options:\n",
      "    https://scikit-learn.org/stable/modules/linear_model.html#logistic-regression\n",
      "  n_iter_i = _check_optimize_result(\n"
     ]
    }
   ],
   "source": [
    "#LogisticRegression\n",
    "lab = preprocessing.LabelEncoder()\n",
    "y_transformed = lab.fit_transform(y_train)\n",
    "lor= LogisticRegression().fit(X_train, y_transformed)\n",
    "y_hat_lor= lor.predict(X_test)"
   ]
  },
  {
   "cell_type": "code",
   "execution_count": 12,
   "id": "506991ec",
   "metadata": {},
   "outputs": [],
   "source": [
    "#DecisionTree\n",
    "dtree= DecisionTreeRegressor().fit(X_train, y_train)\n",
    "y_hat_dtree= dtree.predict(X_test)"
   ]
  },
  {
   "cell_type": "code",
   "execution_count": 13,
   "id": "889c5dfd",
   "metadata": {},
   "outputs": [
    {
     "name": "stderr",
     "output_type": "stream",
     "text": [
      "C:\\Users\\ellomo19\\AppData\\Local\\Temp\\ipykernel_15816\\3821949461.py:2: DataConversionWarning: A column-vector y was passed when a 1d array was expected. Please change the shape of y to (n_samples,), for example using ravel().\n",
      "  rand= RandomForestRegressor().fit(X_train, y_train)\n"
     ]
    }
   ],
   "source": [
    "#RandomForest\n",
    "rand= RandomForestRegressor().fit(X_train, y_train)\n",
    "y_hat_rand= rand.predict(X_test)"
   ]
  },
  {
   "cell_type": "code",
   "execution_count": 14,
   "id": "c5bf1a00",
   "metadata": {},
   "outputs": [],
   "source": [
    "#XGBoost\n",
    "xgbm= XGBRegressor().fit(X_train, y_train)\n",
    "y_hat_xgbm= xgbm.predict(X_test)"
   ]
  },
  {
   "cell_type": "code",
   "execution_count": 15,
   "id": "5f70d6f2",
   "metadata": {},
   "outputs": [
    {
     "data": {
      "text/html": [
       "<div>\n",
       "<style scoped>\n",
       "    .dataframe tbody tr th:only-of-type {\n",
       "        vertical-align: middle;\n",
       "    }\n",
       "\n",
       "    .dataframe tbody tr th {\n",
       "        vertical-align: top;\n",
       "    }\n",
       "\n",
       "    .dataframe thead th {\n",
       "        text-align: right;\n",
       "    }\n",
       "</style>\n",
       "<table border=\"1\" class=\"dataframe\">\n",
       "  <thead>\n",
       "    <tr style=\"text-align: right;\">\n",
       "      <th></th>\n",
       "      <th>0</th>\n",
       "      <th>1</th>\n",
       "      <th>2</th>\n",
       "      <th>3</th>\n",
       "      <th>4</th>\n",
       "      <th>5</th>\n",
       "      <th>6</th>\n",
       "      <th>7</th>\n",
       "      <th>8</th>\n",
       "      <th>9</th>\n",
       "      <th>...</th>\n",
       "      <th>92</th>\n",
       "      <th>93</th>\n",
       "      <th>94</th>\n",
       "      <th>95</th>\n",
       "      <th>96</th>\n",
       "      <th>97</th>\n",
       "      <th>98</th>\n",
       "      <th>99</th>\n",
       "      <th>100</th>\n",
       "      <th>101</th>\n",
       "    </tr>\n",
       "  </thead>\n",
       "  <tbody>\n",
       "    <tr>\n",
       "      <th>0</th>\n",
       "      <td>30.460000</td>\n",
       "      <td>30.700000</td>\n",
       "      <td>21.720000</td>\n",
       "      <td>26.340000</td>\n",
       "      <td>30.340000</td>\n",
       "      <td>17.660000</td>\n",
       "      <td>37.640000</td>\n",
       "      <td>16.480000</td>\n",
       "      <td>22.540000</td>\n",
       "      <td>24.840000</td>\n",
       "      <td>...</td>\n",
       "      <td>15.160000</td>\n",
       "      <td>20.500000</td>\n",
       "      <td>10.560000</td>\n",
       "      <td>20.440000</td>\n",
       "      <td>21.080000</td>\n",
       "      <td>26.760000</td>\n",
       "      <td>30.680000</td>\n",
       "      <td>22.300000</td>\n",
       "      <td>12.880000</td>\n",
       "      <td>15.840000</td>\n",
       "    </tr>\n",
       "    <tr>\n",
       "      <th>1</th>\n",
       "      <td>32.655032</td>\n",
       "      <td>28.093495</td>\n",
       "      <td>18.029018</td>\n",
       "      <td>21.476716</td>\n",
       "      <td>18.825439</td>\n",
       "      <td>19.879978</td>\n",
       "      <td>32.420149</td>\n",
       "      <td>18.065978</td>\n",
       "      <td>24.422778</td>\n",
       "      <td>27.009778</td>\n",
       "      <td>...</td>\n",
       "      <td>14.111315</td>\n",
       "      <td>23.257361</td>\n",
       "      <td>14.663027</td>\n",
       "      <td>21.869772</td>\n",
       "      <td>23.025276</td>\n",
       "      <td>29.089918</td>\n",
       "      <td>37.119379</td>\n",
       "      <td>20.532710</td>\n",
       "      <td>17.368400</td>\n",
       "      <td>17.713993</td>\n",
       "    </tr>\n",
       "    <tr>\n",
       "      <th>2</th>\n",
       "      <td>30.798187</td>\n",
       "      <td>28.618170</td>\n",
       "      <td>17.964730</td>\n",
       "      <td>23.055233</td>\n",
       "      <td>24.371706</td>\n",
       "      <td>21.183891</td>\n",
       "      <td>31.741681</td>\n",
       "      <td>20.431533</td>\n",
       "      <td>21.608245</td>\n",
       "      <td>26.300548</td>\n",
       "      <td>...</td>\n",
       "      <td>13.169405</td>\n",
       "      <td>24.900467</td>\n",
       "      <td>16.166091</td>\n",
       "      <td>24.254367</td>\n",
       "      <td>23.268625</td>\n",
       "      <td>27.960598</td>\n",
       "      <td>31.878409</td>\n",
       "      <td>19.661706</td>\n",
       "      <td>16.333786</td>\n",
       "      <td>17.484240</td>\n",
       "    </tr>\n",
       "    <tr>\n",
       "      <th>3</th>\n",
       "      <td>32.511398</td>\n",
       "      <td>28.265232</td>\n",
       "      <td>17.528444</td>\n",
       "      <td>21.330290</td>\n",
       "      <td>19.680651</td>\n",
       "      <td>20.055088</td>\n",
       "      <td>32.383830</td>\n",
       "      <td>18.292901</td>\n",
       "      <td>23.712755</td>\n",
       "      <td>26.918769</td>\n",
       "      <td>...</td>\n",
       "      <td>13.420887</td>\n",
       "      <td>23.209437</td>\n",
       "      <td>14.831992</td>\n",
       "      <td>21.782753</td>\n",
       "      <td>23.573650</td>\n",
       "      <td>28.520620</td>\n",
       "      <td>36.926312</td>\n",
       "      <td>20.647504</td>\n",
       "      <td>16.697099</td>\n",
       "      <td>18.279827</td>\n",
       "    </tr>\n",
       "    <tr>\n",
       "      <th>4</th>\n",
       "      <td>160.000000</td>\n",
       "      <td>209.000000</td>\n",
       "      <td>109.000000</td>\n",
       "      <td>135.000000</td>\n",
       "      <td>209.000000</td>\n",
       "      <td>86.000000</td>\n",
       "      <td>164.000000</td>\n",
       "      <td>51.000000</td>\n",
       "      <td>78.000000</td>\n",
       "      <td>75.000000</td>\n",
       "      <td>...</td>\n",
       "      <td>91.000000</td>\n",
       "      <td>119.000000</td>\n",
       "      <td>10.000000</td>\n",
       "      <td>79.000000</td>\n",
       "      <td>93.000000</td>\n",
       "      <td>109.000000</td>\n",
       "      <td>209.000000</td>\n",
       "      <td>102.000000</td>\n",
       "      <td>21.000000</td>\n",
       "      <td>36.000000</td>\n",
       "    </tr>\n",
       "    <tr>\n",
       "      <th>5</th>\n",
       "      <td>33.000000</td>\n",
       "      <td>33.000000</td>\n",
       "      <td>21.700000</td>\n",
       "      <td>18.900000</td>\n",
       "      <td>16.100000</td>\n",
       "      <td>18.200000</td>\n",
       "      <td>24.500000</td>\n",
       "      <td>19.600000</td>\n",
       "      <td>17.800000</td>\n",
       "      <td>22.000000</td>\n",
       "      <td>...</td>\n",
       "      <td>17.400000</td>\n",
       "      <td>21.200000</td>\n",
       "      <td>21.400000</td>\n",
       "      <td>19.300000</td>\n",
       "      <td>24.400000</td>\n",
       "      <td>21.600000</td>\n",
       "      <td>37.600000</td>\n",
       "      <td>21.200000</td>\n",
       "      <td>11.700000</td>\n",
       "      <td>23.200000</td>\n",
       "    </tr>\n",
       "    <tr>\n",
       "      <th>6</th>\n",
       "      <td>29.933000</td>\n",
       "      <td>27.493000</td>\n",
       "      <td>19.280000</td>\n",
       "      <td>20.730000</td>\n",
       "      <td>19.470000</td>\n",
       "      <td>19.497000</td>\n",
       "      <td>28.045000</td>\n",
       "      <td>18.939000</td>\n",
       "      <td>20.060000</td>\n",
       "      <td>23.581000</td>\n",
       "      <td>...</td>\n",
       "      <td>16.512000</td>\n",
       "      <td>21.398000</td>\n",
       "      <td>15.665000</td>\n",
       "      <td>20.707000</td>\n",
       "      <td>24.550000</td>\n",
       "      <td>23.320000</td>\n",
       "      <td>43.161000</td>\n",
       "      <td>20.858000</td>\n",
       "      <td>16.160000</td>\n",
       "      <td>15.128000</td>\n",
       "    </tr>\n",
       "    <tr>\n",
       "      <th>7</th>\n",
       "      <td>30.359884</td>\n",
       "      <td>27.026636</td>\n",
       "      <td>19.176161</td>\n",
       "      <td>21.448114</td>\n",
       "      <td>20.703493</td>\n",
       "      <td>20.424747</td>\n",
       "      <td>27.903601</td>\n",
       "      <td>17.878405</td>\n",
       "      <td>21.678137</td>\n",
       "      <td>23.365129</td>\n",
       "      <td>...</td>\n",
       "      <td>15.133404</td>\n",
       "      <td>20.947332</td>\n",
       "      <td>14.996857</td>\n",
       "      <td>20.791437</td>\n",
       "      <td>24.775454</td>\n",
       "      <td>23.958286</td>\n",
       "      <td>45.176277</td>\n",
       "      <td>22.567810</td>\n",
       "      <td>15.780695</td>\n",
       "      <td>16.750847</td>\n",
       "    </tr>\n",
       "  </tbody>\n",
       "</table>\n",
       "<p>8 rows × 102 columns</p>\n",
       "</div>"
      ],
      "text/plain": [
       "          0           1           2           3           4          5    \\\n",
       "0   30.460000   30.700000   21.720000   26.340000   30.340000  17.660000   \n",
       "1   32.655032   28.093495   18.029018   21.476716   18.825439  19.879978   \n",
       "2   30.798187   28.618170   17.964730   23.055233   24.371706  21.183891   \n",
       "3   32.511398   28.265232   17.528444   21.330290   19.680651  20.055088   \n",
       "4  160.000000  209.000000  109.000000  135.000000  209.000000  86.000000   \n",
       "5   33.000000   33.000000   21.700000   18.900000   16.100000  18.200000   \n",
       "6   29.933000   27.493000   19.280000   20.730000   19.470000  19.497000   \n",
       "7   30.359884   27.026636   19.176161   21.448114   20.703493  20.424747   \n",
       "\n",
       "          6          7          8          9    ...        92          93   \\\n",
       "0   37.640000  16.480000  22.540000  24.840000  ...  15.160000   20.500000   \n",
       "1   32.420149  18.065978  24.422778  27.009778  ...  14.111315   23.257361   \n",
       "2   31.741681  20.431533  21.608245  26.300548  ...  13.169405   24.900467   \n",
       "3   32.383830  18.292901  23.712755  26.918769  ...  13.420887   23.209437   \n",
       "4  164.000000  51.000000  78.000000  75.000000  ...  91.000000  119.000000   \n",
       "5   24.500000  19.600000  17.800000  22.000000  ...  17.400000   21.200000   \n",
       "6   28.045000  18.939000  20.060000  23.581000  ...  16.512000   21.398000   \n",
       "7   27.903601  17.878405  21.678137  23.365129  ...  15.133404   20.947332   \n",
       "\n",
       "         94         95         96          97          98          99   \\\n",
       "0  10.560000  20.440000  21.080000   26.760000   30.680000   22.300000   \n",
       "1  14.663027  21.869772  23.025276   29.089918   37.119379   20.532710   \n",
       "2  16.166091  24.254367  23.268625   27.960598   31.878409   19.661706   \n",
       "3  14.831992  21.782753  23.573650   28.520620   36.926312   20.647504   \n",
       "4  10.000000  79.000000  93.000000  109.000000  209.000000  102.000000   \n",
       "5  21.400000  19.300000  24.400000   21.600000   37.600000   21.200000   \n",
       "6  15.665000  20.707000  24.550000   23.320000   43.161000   20.858000   \n",
       "7  14.996857  20.791437  24.775454   23.958286   45.176277   22.567810   \n",
       "\n",
       "         100        101  \n",
       "0  12.880000  15.840000  \n",
       "1  17.368400  17.713993  \n",
       "2  16.333786  17.484240  \n",
       "3  16.697099  18.279827  \n",
       "4  21.000000  36.000000  \n",
       "5  11.700000  23.200000  \n",
       "6  16.160000  15.128000  \n",
       "7  15.780695  16.750847  \n",
       "\n",
       "[8 rows x 102 columns]"
      ]
     },
     "execution_count": 15,
     "metadata": {},
     "output_type": "execute_result"
    }
   ],
   "source": [
    "df_hats= pd.DataFrame(data=[y_hat_knn, y_hat_lir, y_hat_lasso, y_hat_ri, y_hat_lor, y_hat_dtree, y_hat_rand, y_hat_xgbm])\n",
    "df_hats"
   ]
  },
  {
   "cell_type": "code",
   "execution_count": 16,
   "id": "723e925e",
   "metadata": {},
   "outputs": [
    {
     "data": {
      "text/html": [
       "<div>\n",
       "<style scoped>\n",
       "    .dataframe tbody tr th:only-of-type {\n",
       "        vertical-align: middle;\n",
       "    }\n",
       "\n",
       "    .dataframe tbody tr th {\n",
       "        vertical-align: top;\n",
       "    }\n",
       "\n",
       "    .dataframe thead th {\n",
       "        text-align: right;\n",
       "    }\n",
       "</style>\n",
       "<table border=\"1\" class=\"dataframe\">\n",
       "  <thead>\n",
       "    <tr style=\"text-align: right;\">\n",
       "      <th></th>\n",
       "      <th>y_hat_knn</th>\n",
       "      <th>y_hat_lir</th>\n",
       "      <th>y_hat_lasso</th>\n",
       "      <th>y_hat_ri</th>\n",
       "      <th>y_hat_lor</th>\n",
       "      <th>y_hat_dtree</th>\n",
       "      <th>y_hat_rand</th>\n",
       "      <th>y_hat_xgbm</th>\n",
       "    </tr>\n",
       "  </thead>\n",
       "  <tbody>\n",
       "    <tr>\n",
       "      <th>0</th>\n",
       "      <td>30.46</td>\n",
       "      <td>32.655032</td>\n",
       "      <td>30.798187</td>\n",
       "      <td>32.511398</td>\n",
       "      <td>160.0</td>\n",
       "      <td>33.0</td>\n",
       "      <td>29.933</td>\n",
       "      <td>30.359884</td>\n",
       "    </tr>\n",
       "    <tr>\n",
       "      <th>1</th>\n",
       "      <td>30.70</td>\n",
       "      <td>28.093495</td>\n",
       "      <td>28.618170</td>\n",
       "      <td>28.265232</td>\n",
       "      <td>209.0</td>\n",
       "      <td>33.0</td>\n",
       "      <td>27.493</td>\n",
       "      <td>27.026636</td>\n",
       "    </tr>\n",
       "    <tr>\n",
       "      <th>2</th>\n",
       "      <td>21.72</td>\n",
       "      <td>18.029018</td>\n",
       "      <td>17.964730</td>\n",
       "      <td>17.528444</td>\n",
       "      <td>109.0</td>\n",
       "      <td>21.7</td>\n",
       "      <td>19.280</td>\n",
       "      <td>19.176161</td>\n",
       "    </tr>\n",
       "    <tr>\n",
       "      <th>3</th>\n",
       "      <td>26.34</td>\n",
       "      <td>21.476716</td>\n",
       "      <td>23.055233</td>\n",
       "      <td>21.330290</td>\n",
       "      <td>135.0</td>\n",
       "      <td>18.9</td>\n",
       "      <td>20.730</td>\n",
       "      <td>21.448114</td>\n",
       "    </tr>\n",
       "    <tr>\n",
       "      <th>4</th>\n",
       "      <td>30.34</td>\n",
       "      <td>18.825439</td>\n",
       "      <td>24.371706</td>\n",
       "      <td>19.680651</td>\n",
       "      <td>209.0</td>\n",
       "      <td>16.1</td>\n",
       "      <td>19.470</td>\n",
       "      <td>20.703493</td>\n",
       "    </tr>\n",
       "    <tr>\n",
       "      <th>...</th>\n",
       "      <td>...</td>\n",
       "      <td>...</td>\n",
       "      <td>...</td>\n",
       "      <td>...</td>\n",
       "      <td>...</td>\n",
       "      <td>...</td>\n",
       "      <td>...</td>\n",
       "      <td>...</td>\n",
       "    </tr>\n",
       "    <tr>\n",
       "      <th>97</th>\n",
       "      <td>26.76</td>\n",
       "      <td>29.089918</td>\n",
       "      <td>27.960598</td>\n",
       "      <td>28.520620</td>\n",
       "      <td>109.0</td>\n",
       "      <td>21.6</td>\n",
       "      <td>23.320</td>\n",
       "      <td>23.958286</td>\n",
       "    </tr>\n",
       "    <tr>\n",
       "      <th>98</th>\n",
       "      <td>30.68</td>\n",
       "      <td>37.119379</td>\n",
       "      <td>31.878409</td>\n",
       "      <td>36.926312</td>\n",
       "      <td>209.0</td>\n",
       "      <td>37.6</td>\n",
       "      <td>43.161</td>\n",
       "      <td>45.176277</td>\n",
       "    </tr>\n",
       "    <tr>\n",
       "      <th>99</th>\n",
       "      <td>22.30</td>\n",
       "      <td>20.532710</td>\n",
       "      <td>19.661706</td>\n",
       "      <td>20.647504</td>\n",
       "      <td>102.0</td>\n",
       "      <td>21.2</td>\n",
       "      <td>20.858</td>\n",
       "      <td>22.567810</td>\n",
       "    </tr>\n",
       "    <tr>\n",
       "      <th>100</th>\n",
       "      <td>12.88</td>\n",
       "      <td>17.368400</td>\n",
       "      <td>16.333786</td>\n",
       "      <td>16.697099</td>\n",
       "      <td>21.0</td>\n",
       "      <td>11.7</td>\n",
       "      <td>16.160</td>\n",
       "      <td>15.780695</td>\n",
       "    </tr>\n",
       "    <tr>\n",
       "      <th>101</th>\n",
       "      <td>15.84</td>\n",
       "      <td>17.713993</td>\n",
       "      <td>17.484240</td>\n",
       "      <td>18.279827</td>\n",
       "      <td>36.0</td>\n",
       "      <td>23.2</td>\n",
       "      <td>15.128</td>\n",
       "      <td>16.750847</td>\n",
       "    </tr>\n",
       "  </tbody>\n",
       "</table>\n",
       "<p>102 rows × 8 columns</p>\n",
       "</div>"
      ],
      "text/plain": [
       "     y_hat_knn  y_hat_lir  y_hat_lasso   y_hat_ri  y_hat_lor  y_hat_dtree  \\\n",
       "0        30.46  32.655032    30.798187  32.511398      160.0         33.0   \n",
       "1        30.70  28.093495    28.618170  28.265232      209.0         33.0   \n",
       "2        21.72  18.029018    17.964730  17.528444      109.0         21.7   \n",
       "3        26.34  21.476716    23.055233  21.330290      135.0         18.9   \n",
       "4        30.34  18.825439    24.371706  19.680651      209.0         16.1   \n",
       "..         ...        ...          ...        ...        ...          ...   \n",
       "97       26.76  29.089918    27.960598  28.520620      109.0         21.6   \n",
       "98       30.68  37.119379    31.878409  36.926312      209.0         37.6   \n",
       "99       22.30  20.532710    19.661706  20.647504      102.0         21.2   \n",
       "100      12.88  17.368400    16.333786  16.697099       21.0         11.7   \n",
       "101      15.84  17.713993    17.484240  18.279827       36.0         23.2   \n",
       "\n",
       "     y_hat_rand  y_hat_xgbm  \n",
       "0        29.933   30.359884  \n",
       "1        27.493   27.026636  \n",
       "2        19.280   19.176161  \n",
       "3        20.730   21.448114  \n",
       "4        19.470   20.703493  \n",
       "..          ...         ...  \n",
       "97       23.320   23.958286  \n",
       "98       43.161   45.176277  \n",
       "99       20.858   22.567810  \n",
       "100      16.160   15.780695  \n",
       "101      15.128   16.750847  \n",
       "\n",
       "[102 rows x 8 columns]"
      ]
     },
     "execution_count": 16,
     "metadata": {},
     "output_type": "execute_result"
    }
   ],
   "source": [
    "df_hats= df_hats.T\n",
    "df_hats.columns= [\"y_hat_knn\", \"y_hat_lir\", \"y_hat_lasso\", \"y_hat_ri\", \"y_hat_lor\", \"y_hat_dtree\", \"y_hat_rand\", \"y_hat_xgbm\"]\n",
    "df_hats"
   ]
  },
  {
   "cell_type": "code",
   "execution_count": 17,
   "id": "99f5814b",
   "metadata": {},
   "outputs": [],
   "source": [
    "from sklearn.metrics import r2_score"
   ]
  },
  {
   "cell_type": "code",
   "execution_count": 18,
   "id": "aa276e1b",
   "metadata": {},
   "outputs": [
    {
     "name": "stdout",
     "output_type": "stream",
     "text": [
      "[0.5401612153026705, 0.7634174432138463, 0.6399927356461494, 0.7655800611077146, -96.61567720432953, 0.8283142457398568, 0.9086223720933869, 0.9085331557145866]\n"
     ]
    }
   ],
   "source": [
    "df_results=[]\n",
    "for i in df_hats.columns:\n",
    "    r2= r2_score(y_test, df_hats[i])\n",
    "    df_results.append(r2)\n",
    "print(df_results)"
   ]
  },
  {
   "cell_type": "code",
   "execution_count": 28,
   "id": "82a08b1c",
   "metadata": {},
   "outputs": [
    {
     "ename": "ValueError",
     "evalue": "Length mismatch: Expected axis has 1 elements, new values have 8 elements",
     "output_type": "error",
     "traceback": [
      "\u001b[1;31m---------------------------------------------------------------------------\u001b[0m",
      "\u001b[1;31mValueError\u001b[0m                                Traceback (most recent call last)",
      "Input \u001b[1;32mIn [28]\u001b[0m, in \u001b[0;36m<cell line: 3>\u001b[1;34m()\u001b[0m\n\u001b[0;32m      1\u001b[0m df_results\u001b[38;5;241m=\u001b[39m pd\u001b[38;5;241m.\u001b[39mDataFrame(data\u001b[38;5;241m=\u001b[39mdf_results)\n\u001b[0;32m      2\u001b[0m df_results \u001b[38;5;241m=\u001b[39m df_results\u001b[38;5;241m.\u001b[39mT\n\u001b[1;32m----> 3\u001b[0m df_results\u001b[38;5;241m.\u001b[39mcolumns\u001b[38;5;241m=\u001b[39m[\u001b[38;5;124m\"\u001b[39m\u001b[38;5;124my_hat_knn\u001b[39m\u001b[38;5;124m\"\u001b[39m, \u001b[38;5;124m\"\u001b[39m\u001b[38;5;124my_hat_lir\u001b[39m\u001b[38;5;124m\"\u001b[39m, \u001b[38;5;124m\"\u001b[39m\u001b[38;5;124my_hat_lasso\u001b[39m\u001b[38;5;124m\"\u001b[39m, \u001b[38;5;124m\"\u001b[39m\u001b[38;5;124my_hat_ri\u001b[39m\u001b[38;5;124m\"\u001b[39m, \u001b[38;5;124m\"\u001b[39m\u001b[38;5;124my_hat_lor\u001b[39m\u001b[38;5;124m\"\u001b[39m, \u001b[38;5;124m\"\u001b[39m\u001b[38;5;124my_hat_dtree\u001b[39m\u001b[38;5;124m\"\u001b[39m, \u001b[38;5;124m\"\u001b[39m\u001b[38;5;124my_hat_rand\u001b[39m\u001b[38;5;124m\"\u001b[39m, \u001b[38;5;124m\"\u001b[39m\u001b[38;5;124my_hat_xgbm\u001b[39m\u001b[38;5;124m\"\u001b[39m]\n",
      "File \u001b[1;32m~\\Anaconda3\\lib\\site-packages\\pandas\\core\\generic.py:5588\u001b[0m, in \u001b[0;36mNDFrame.__setattr__\u001b[1;34m(self, name, value)\u001b[0m\n\u001b[0;32m   5586\u001b[0m \u001b[38;5;28;01mtry\u001b[39;00m:\n\u001b[0;32m   5587\u001b[0m     \u001b[38;5;28mobject\u001b[39m\u001b[38;5;241m.\u001b[39m\u001b[38;5;21m__getattribute__\u001b[39m(\u001b[38;5;28mself\u001b[39m, name)\n\u001b[1;32m-> 5588\u001b[0m     \u001b[38;5;28;01mreturn\u001b[39;00m \u001b[38;5;28;43mobject\u001b[39;49m\u001b[38;5;241;43m.\u001b[39;49m\u001b[38;5;21;43m__setattr__\u001b[39;49m\u001b[43m(\u001b[49m\u001b[38;5;28;43mself\u001b[39;49m\u001b[43m,\u001b[49m\u001b[43m \u001b[49m\u001b[43mname\u001b[49m\u001b[43m,\u001b[49m\u001b[43m \u001b[49m\u001b[43mvalue\u001b[49m\u001b[43m)\u001b[49m\n\u001b[0;32m   5589\u001b[0m \u001b[38;5;28;01mexcept\u001b[39;00m \u001b[38;5;167;01mAttributeError\u001b[39;00m:\n\u001b[0;32m   5590\u001b[0m     \u001b[38;5;28;01mpass\u001b[39;00m\n",
      "File \u001b[1;32m~\\Anaconda3\\lib\\site-packages\\pandas\\_libs\\properties.pyx:70\u001b[0m, in \u001b[0;36mpandas._libs.properties.AxisProperty.__set__\u001b[1;34m()\u001b[0m\n",
      "File \u001b[1;32m~\\Anaconda3\\lib\\site-packages\\pandas\\core\\generic.py:769\u001b[0m, in \u001b[0;36mNDFrame._set_axis\u001b[1;34m(self, axis, labels)\u001b[0m\n\u001b[0;32m    767\u001b[0m \u001b[38;5;28;01mdef\u001b[39;00m \u001b[38;5;21m_set_axis\u001b[39m(\u001b[38;5;28mself\u001b[39m, axis: \u001b[38;5;28mint\u001b[39m, labels: Index) \u001b[38;5;241m-\u001b[39m\u001b[38;5;241m>\u001b[39m \u001b[38;5;28;01mNone\u001b[39;00m:\n\u001b[0;32m    768\u001b[0m     labels \u001b[38;5;241m=\u001b[39m ensure_index(labels)\n\u001b[1;32m--> 769\u001b[0m     \u001b[38;5;28;43mself\u001b[39;49m\u001b[38;5;241;43m.\u001b[39;49m\u001b[43m_mgr\u001b[49m\u001b[38;5;241;43m.\u001b[39;49m\u001b[43mset_axis\u001b[49m\u001b[43m(\u001b[49m\u001b[43maxis\u001b[49m\u001b[43m,\u001b[49m\u001b[43m \u001b[49m\u001b[43mlabels\u001b[49m\u001b[43m)\u001b[49m\n\u001b[0;32m    770\u001b[0m     \u001b[38;5;28mself\u001b[39m\u001b[38;5;241m.\u001b[39m_clear_item_cache()\n",
      "File \u001b[1;32m~\\Anaconda3\\lib\\site-packages\\pandas\\core\\internals\\managers.py:214\u001b[0m, in \u001b[0;36mBaseBlockManager.set_axis\u001b[1;34m(self, axis, new_labels)\u001b[0m\n\u001b[0;32m    212\u001b[0m \u001b[38;5;28;01mdef\u001b[39;00m \u001b[38;5;21mset_axis\u001b[39m(\u001b[38;5;28mself\u001b[39m, axis: \u001b[38;5;28mint\u001b[39m, new_labels: Index) \u001b[38;5;241m-\u001b[39m\u001b[38;5;241m>\u001b[39m \u001b[38;5;28;01mNone\u001b[39;00m:\n\u001b[0;32m    213\u001b[0m     \u001b[38;5;66;03m# Caller is responsible for ensuring we have an Index object.\u001b[39;00m\n\u001b[1;32m--> 214\u001b[0m     \u001b[38;5;28;43mself\u001b[39;49m\u001b[38;5;241;43m.\u001b[39;49m\u001b[43m_validate_set_axis\u001b[49m\u001b[43m(\u001b[49m\u001b[43maxis\u001b[49m\u001b[43m,\u001b[49m\u001b[43m \u001b[49m\u001b[43mnew_labels\u001b[49m\u001b[43m)\u001b[49m\n\u001b[0;32m    215\u001b[0m     \u001b[38;5;28mself\u001b[39m\u001b[38;5;241m.\u001b[39maxes[axis] \u001b[38;5;241m=\u001b[39m new_labels\n",
      "File \u001b[1;32m~\\Anaconda3\\lib\\site-packages\\pandas\\core\\internals\\base.py:69\u001b[0m, in \u001b[0;36mDataManager._validate_set_axis\u001b[1;34m(self, axis, new_labels)\u001b[0m\n\u001b[0;32m     66\u001b[0m     \u001b[38;5;28;01mpass\u001b[39;00m\n\u001b[0;32m     68\u001b[0m \u001b[38;5;28;01melif\u001b[39;00m new_len \u001b[38;5;241m!=\u001b[39m old_len:\n\u001b[1;32m---> 69\u001b[0m     \u001b[38;5;28;01mraise\u001b[39;00m \u001b[38;5;167;01mValueError\u001b[39;00m(\n\u001b[0;32m     70\u001b[0m         \u001b[38;5;124mf\u001b[39m\u001b[38;5;124m\"\u001b[39m\u001b[38;5;124mLength mismatch: Expected axis has \u001b[39m\u001b[38;5;132;01m{\u001b[39;00mold_len\u001b[38;5;132;01m}\u001b[39;00m\u001b[38;5;124m elements, new \u001b[39m\u001b[38;5;124m\"\u001b[39m\n\u001b[0;32m     71\u001b[0m         \u001b[38;5;124mf\u001b[39m\u001b[38;5;124m\"\u001b[39m\u001b[38;5;124mvalues have \u001b[39m\u001b[38;5;132;01m{\u001b[39;00mnew_len\u001b[38;5;132;01m}\u001b[39;00m\u001b[38;5;124m elements\u001b[39m\u001b[38;5;124m\"\u001b[39m\n\u001b[0;32m     72\u001b[0m     )\n",
      "\u001b[1;31mValueError\u001b[0m: Length mismatch: Expected axis has 1 elements, new values have 8 elements"
     ]
    }
   ],
   "source": [
    "df_results= pd.DataFrame(data=df_results)\n",
    "df_results = df_results.T\n",
    "df_results.columns=[\"y_hat_knn\", \"y_hat_lir\", \"y_hat_lasso\", \"y_hat_ri\", \"y_hat_lor\", \"y_hat_dtree\", \"y_hat_rand\", \"y_hat_xgbm\"]"
   ]
  },
  {
   "cell_type": "code",
   "execution_count": null,
   "id": "b937672b",
   "metadata": {},
   "outputs": [],
   "source": [
    "fig, ax= plt.subplots(figsize=(15,8))\n",
    "plt.bar(df_results.columns, sorted(df_results.T[0]), color=\"green\")\n",
    "plt.ylabel(\"r2 score\")\n",
    "plt.xlabel(\"Model\")"
   ]
  },
  {
   "cell_type": "code",
   "execution_count": null,
   "id": "000e8405",
   "metadata": {},
   "outputs": [],
   "source": [
    "def gs_best(params, model, model_name):\n",
    "    gs=GridSearchCV(model(), params, cv=5, n_jobs=1, verbose=1)\n",
    "    gs.fit(X_train, y_train)\n",
    "    best= model(**gs.best_params_).fit(X_train, y_train)\n",
    "    y_hat= best.predict(X_test)\n",
    "    r2=r2_score(y_test, y_hat)\n",
    "    \n",
    "    return model_name, r2"
   ]
  },
  {
   "cell_type": "code",
   "execution_count": null,
   "id": "7f60acb8",
   "metadata": {},
   "outputs": [],
   "source": [
    "knn_params= {\"n_neighbors\":[3,5,7,9], \"metric\":[\"manhattan\", \"euclidean\"], \"weights\":[\"uniform\", \"distance\"]}"
   ]
  },
  {
   "cell_type": "code",
   "execution_count": null,
   "id": "9e1de75f",
   "metadata": {},
   "outputs": [],
   "source": [
    "(model, r2_knn)= gs_best(knn_params, KNeighborsRegressor, \"KNN\")\n",
    "r2_knn"
   ]
  },
  {
   "cell_type": "code",
   "execution_count": 29,
   "id": "086c9dbd",
   "metadata": {},
   "outputs": [],
   "source": [
    "params_xgbm={\"max_depth\":[4,5], \"n_estimators\":[10,20,30], \"learning_rate\":[0.3,0.03]}"
   ]
  },
  {
   "cell_type": "code",
   "execution_count": 30,
   "id": "057e4df5",
   "metadata": {},
   "outputs": [
    {
     "name": "stdout",
     "output_type": "stream",
     "text": [
      "Fitting 5 folds for each of 12 candidates, totalling 60 fits\n"
     ]
    },
    {
     "data": {
      "text/plain": [
       "0.9177082576000329"
      ]
     },
     "execution_count": 30,
     "metadata": {},
     "output_type": "execute_result"
    }
   ],
   "source": [
    "(model, r2_xgbm)= gs_best(params_xgbm, xgb.XGBRegressor, \"XGBM\")\n",
    "r2_xgbm"
   ]
  },
  {
   "cell_type": "code",
   "execution_count": 31,
   "id": "4f7322ce",
   "metadata": {},
   "outputs": [],
   "source": [
    "def gs_best1(params, model, model_name):\n",
    "    gs=GridSearchCV(model(), params, cv=5, n_jobs=1, verbose=1)\n",
    "    gs.fit(X_train, y_train)\n",
    "    best= model(**gs.best_params_).fit(X_train, y_train)\n",
    "    y_hat= best.predict(X_test)\n",
    "    r2=r2_score(y_test, y_hat)\n",
    "    \n",
    "    return best, r2"
   ]
  },
  {
   "cell_type": "code",
   "execution_count": 32,
   "id": "91df5cf1",
   "metadata": {},
   "outputs": [
    {
     "name": "stdout",
     "output_type": "stream",
     "text": [
      "Fitting 5 folds for each of 2 candidates, totalling 10 fits\n"
     ]
    },
    {
     "data": {
      "text/plain": [
       "0.8532663386170671"
      ]
     },
     "execution_count": 32,
     "metadata": {},
     "output_type": "execute_result"
    }
   ],
   "source": [
    "params_xgbm1={\"max_depth\":[1], \"learning_rate\":[0.3,0.03]}\n",
    "(model1, r2_xgbm1)= gs_best1(params_xgbm1, xgb.XGBRegressor, \"XGBM1\")\n",
    "r2_xgbm1"
   ]
  },
  {
   "cell_type": "code",
   "execution_count": 33,
   "id": "8f664f18",
   "metadata": {},
   "outputs": [
    {
     "data": {
      "image/png": "[encoded data removed]",
      "text/plain": [
       "<Figure size 432x288 with 1 Axes>"
      ]
     },
     "metadata": {
      "needs_background": "light"
     },
     "output_type": "display_data"
    }
   ],
   "source": [
    "f_imp= xgb.plot_importance(model1)"
   ]
  },
  {
   "cell_type": "code",
   "execution_count": 34,
   "id": "b8d9f6c1",
   "metadata": {},
   "outputs": [],
   "source": [
    "from xgboost import plot_tree"
   ]
  },
  {
   "cell_type": "code",
   "execution_count": 35,
   "id": "d621faa1",
   "metadata": {},
   "outputs": [
    {
     "ename": "NameError",
     "evalue": "name 'model_' is not defined",
     "output_type": "error",
     "traceback": [
      "\u001b[1;31m---------------------------------------------------------------------------\u001b[0m",
      "\u001b[1;31mNameError\u001b[0m                                 Traceback (most recent call last)",
      "Input \u001b[1;32mIn [35]\u001b[0m, in \u001b[0;36m<cell line: 3>\u001b[1;34m()\u001b[0m\n\u001b[0;32m      2\u001b[0m axs\u001b[38;5;241m=\u001b[39m axs\u001b[38;5;241m.\u001b[39mflatten()\n\u001b[0;32m      3\u001b[0m \u001b[38;5;28;01mfor\u001b[39;00m i \u001b[38;5;129;01min\u001b[39;00m \u001b[38;5;28mrange\u001b[39m (\u001b[38;5;241m6\u001b[39m):\n\u001b[1;32m----> 4\u001b[0m     tree\u001b[38;5;241m=\u001b[39m \u001b[43mmodel_\u001b[49m[i]\n\u001b[0;32m      5\u001b[0m     plot_tree(model_[i], max_depth\u001b[38;5;241m=\u001b[39m\u001b[38;5;241m2\u001b[39m, ax\u001b[38;5;241m=\u001b[39maxs[i])\n",
      "\u001b[1;31mNameError\u001b[0m: name 'model_' is not defined"
     ]
    },
    {
     "data": {
      "image/png": "[encoded data removed]",
      "text/plain": [
       "<Figure size 1440x576 with 6 Axes>"
      ]
     },
     "metadata": {
      "needs_background": "light"
     },
     "output_type": "display_data"
    }
   ],
   "source": [
    "fig, axs= plt.subplots(2,3, figsize=(20,8))\n",
    "axs= axs.flatten()\n",
    "for i in range (6):\n",
    "    tree= model_[i]\n",
    "    plot_tree(model_[i], max_depth=2, ax=axs[i])"
   ]
  },
  {
   "cell_type": "code",
   "execution_count": 36,
   "id": "59f20f50",
   "metadata": {},
   "outputs": [
    {
     "name": "stdout",
     "output_type": "stream",
     "text": [
      "[-2.05905702 -0.59037847  0.14254999  0.50518527  0.6878785   0.79081257\n",
      "  0.84121158  0.86835477  0.885107    0.89523301  0.89928121  0.90086942\n",
      "  0.90317232  0.90346091  0.90688663  0.90705597  0.90864009  0.91012082\n",
      "  0.90916692  0.91006345  0.90928446  0.90946911  0.90889852  0.9090884\n",
      "  0.90970787  0.9102894   0.90959952  0.90983579  0.90993639  0.90950649\n",
      "  0.90939737  0.9088153   0.90872959  0.90856892  0.90883809  0.90896712\n",
      "  0.90915352  0.90921371  0.9094781   0.90953725  0.90936797  0.90932763\n",
      "  0.9092448   0.90913569  0.90933826  0.9089936   0.90889087  0.90900401\n",
      "  0.90900541  0.90915139  0.9091428   0.90884569  0.90883746  0.90870728\n",
      "  0.9087177   0.90871982  0.90872622  0.9087528   0.90873529  0.9087778\n",
      "  0.90872024  0.90863271  0.90862508  0.90863484  0.90864375  0.90866256\n",
      "  0.90868728  0.90869119  0.90870055  0.90872175  0.90868715  0.90864316\n",
      "  0.90861992  0.90860981  0.90865297  0.908683    0.90865758  0.90867506\n",
      "  0.9086953   0.90870453  0.90869809  0.90867292  0.90864931  0.90861059\n",
      "  0.9086009   0.90859126  0.9085749   0.90856118  0.90853462  0.90854481\n",
      "  0.90855029  0.90855176  0.90853388  0.90854553  0.90853569  0.90849853\n",
      "  0.90853556  0.90855234  0.90851763  0.90853316]\n"
     ]
    }
   ],
   "source": [
    "trees = np.arange(1,101) #Number of trees\n",
    "accuracy= np.empty(100) #Matrix for acc\n",
    "\n",
    "for i in range(100): #Number of models\n",
    "    model= XGBRegressor(n_estimators=trees[i]).fit(X_train, y_train)\n",
    "    accuracy_values = model.score(X_test, y_test)\n",
    "    accuracy[i]= accuracy_values\n",
    "\n",
    "print(accuracy)"
   ]
  },
  {
   "cell_type": "code",
   "execution_count": 38,
   "id": "31dd8338",
   "metadata": {},
   "outputs": [
    {
     "data": {
      "text/plain": [
       "<matplotlib.legend.Legend at 0x1bfb8af7d90>"
      ]
     },
     "execution_count": 38,
     "metadata": {},
     "output_type": "execute_result"
    },
    {
     "data": {
      "image/png": "[encoded data removed]",
      "text/plain": [
       "<Figure size 1080x576 with 1 Axes>"
      ]
     },
     "metadata": {
      "needs_background": "light"
     },
     "output_type": "display_data"
    }
   ],
   "source": [
    "plt.figure(figsize=(15,8))\n",
    "plt.plot(trees, accuracy, label=\"accuracy\", marker=\"+\")\n",
    "plt.xlabel(\"Trees\")\n",
    "plt.ylabel(\"Accuracy\")\n",
    "plt.legend()"
   ]
  },
  {
   "cell_type": "code",
   "execution_count": null,
   "id": "550d7d49",
   "metadata": {},
   "outputs": [],
   "source": []
  }
 ],
 "metadata": {
  "kernelspec": {
   "display_name": "Python 3 (ipykernel)",
   "language": "python",
   "name": "python3"
  },
  "language_info": {
   "codemirror_mode": {
    "name": "ipython",
    "version": 3
   },
   "file_extension": ".py",
   "mimetype": "text/x-python",
   "name": "python",
   "nbconvert_exporter": "python",
   "pygments_lexer": "ipython3",
   "version": "3.9.12"
  }
 },
 "nbformat": 4,
 "nbformat_minor": 5
}
