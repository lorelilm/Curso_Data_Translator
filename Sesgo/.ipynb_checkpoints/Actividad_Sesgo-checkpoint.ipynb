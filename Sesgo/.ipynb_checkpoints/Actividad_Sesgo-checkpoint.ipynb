{
 "cells": [
  {
   "cell_type": "code",
   "execution_count": 1,
   "id": "51cba2c4",
   "metadata": {},
   "outputs": [],
   "source": [
    "from sklearn.neighbors import KNeighborsRegressor\n",
    "from sklearn.model_selection import KFold\n",
    "from sklearn.model_selection import train_test_split\n",
    "from sklearn.model_selection import cross_val_score\n",
    "import numpy as np\n",
    "from sklearn.datasets import load_boston\n",
    "from sklearn.metrics import mean_squared_error"
   ]
  },
  {
   "cell_type": "code",
   "execution_count": 3,
   "id": "103324e7",
   "metadata": {},
   "outputs": [],
   "source": [
    "boston = load_boston()\n",
    "X = boston.data #Housing features\n",
    "y = boston.target #Housing prices"
   ]
  },
  {
   "cell_type": "code",
   "execution_count": 5,
   "id": "a81a8aa3",
   "metadata": {},
   "outputs": [],
   "source": [
    "X_train, X_test, y_train, y_test = train_test_split(X,y, shuffle=True, test_size = .25)"
   ]
  },
  {
   "cell_type": "code",
   "execution_count": 9,
   "id": "05bddfc0",
   "metadata": {},
   "outputs": [],
   "source": [
    "class Mean_Regressor():\n",
    "    \n",
    "    def __init__(self, *arg, **kwargs):    #no hyperparameters\n",
    "        pass\n",
    "    \n",
    "    def fit(self, x, y): \n",
    "        self.mean_prediction = y.mean()\n",
    "        return self\n",
    "    \n",
    "    def predict(self, x):  \n",
    "        return self.mean_prediction"
   ]
  },
  {
   "cell_type": "code",
   "execution_count": 11,
   "id": "3815992d",
   "metadata": {},
   "outputs": [],
   "source": [
    "model = Mean_Regressor()\n",
    "model.fit(x, y);"
   ]
  },
  {
   "cell_type": "code",
   "execution_count": 12,
   "id": "68cb78ba",
   "metadata": {},
   "outputs": [
    {
     "ename": "IndentationError",
     "evalue": "unexpected indent (2959725849.py, line 2)",
     "output_type": "error",
     "traceback": [
      "\u001b[1;36m  Input \u001b[1;32mIn [12]\u001b[1;36m\u001b[0m\n\u001b[1;33m    values_x = []\u001b[0m\n\u001b[1;37m    ^\u001b[0m\n\u001b[1;31mIndentationError\u001b[0m\u001b[1;31m:\u001b[0m unexpected indent\n"
     ]
    }
   ],
   "source": [
    "self.X_test = X\n",
    "        values_x = []\n",
    "        positions = []\n",
    "        results = []\n",
    "        for i in self.x_test:\n",
    "            for posicion, j in enumerate(self.X_train):\n",
    "                values_x.append(self.distance(i,j))\n",
    "                positions.append(posicion)\n",
    "            df = pd.DataFrame.from_dict({'Positions': positions, 'x_value':values_x})\n",
    "            df = df.sort_values(by='x_value')\n",
    "            df = df.sort_values(by='x_value')\n",
    "            df = df.iloc[:self.k,:]\n",
    "            df['y_values'] = self.y_train[df['¨Positions']]\n",
    "            mean = df['y_values'].mean()\n",
    "            results.append(mean)\n",
    "        return np.array(results)"
   ]
  },
  {
   "cell_type": "code",
   "execution_count": null,
   "id": "e4ea878b",
   "metadata": {},
   "outputs": [],
   "source": []
  }
 ],
 "metadata": {
  "kernelspec": {
   "display_name": "Python 3 (ipykernel)",
   "language": "python",
   "name": "python3"
  },
  "language_info": {
   "codemirror_mode": {
    "name": "ipython",
    "version": 3
   },
   "file_extension": ".py",
   "mimetype": "text/x-python",
   "name": "python",
   "nbconvert_exporter": "python",
   "pygments_lexer": "ipython3",
   "version": "3.9.12"
  }
 },
 "nbformat": 4,
 "nbformat_minor": 5
}
