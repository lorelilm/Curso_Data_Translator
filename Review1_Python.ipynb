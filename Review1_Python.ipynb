{
 "cells": [
  {
   "cell_type": "markdown",
   "id": "a77953e0",
   "metadata": {},
   "source": [
    "## Parte 1"
   ]
  },
  {
   "cell_type": "code",
   "execution_count": 10,
   "id": "fec8c947",
   "metadata": {},
   "outputs": [
    {
     "name": "stdout",
     "output_type": "stream",
     "text": [
      "Hola mundo\n"
     ]
    }
   ],
   "source": [
    "def holamundo():\n",
    "    print(\"Hola mundo\")\n",
    "holamundo()"
   ]
  },
  {
   "cell_type": "markdown",
   "id": "8248b48f",
   "metadata": {},
   "source": [
    "## Parte 2"
   ]
  },
  {
   "cell_type": "code",
   "execution_count": 24,
   "id": "a1e1d285",
   "metadata": {},
   "outputs": [],
   "source": [
    "def banda(colores):\n",
    "    dic={\"Negro\":\"0\",\"Marron\":\"1\",\"Rojo\":\"2\",\"Naranja\":\"3\",\"Amarillo\":\"4\",\"Verde\":\"5\",\"Azul\":\"6\",\"Purpura\":\"7\",\"Gris\":\"8\",\"Blanco\":\"9\"}\n",
    "    colores = colores.split(\"-\")\n",
    "    limite = 0\n",
    "    valor = \"\"\n",
    "    for i in range(len(colores)):\n",
    "        valor = valor + dic[colores[i]]\n",
    "        limite = limite + 1\n",
    "        if(limite==2):\n",
    "            break;\n",
    "    print(valor)"
   ]
  },
  {
   "cell_type": "code",
   "execution_count": 20,
   "id": "3b849147",
   "metadata": {},
   "outputs": [
    {
     "name": "stdout",
     "output_type": "stream",
     "text": [
      "Ingrese los colores de la banda separado por un guion Azul-Verde\n",
      "65\n"
     ]
    }
   ],
   "source": [
    "colores = input(\"Ingrese los colores de la banda separado por un guion \")\n",
    "banda(colores)"
   ]
  },
  {
   "cell_type": "code",
   "execution_count": 21,
   "id": "52985002",
   "metadata": {},
   "outputs": [
    {
     "name": "stdout",
     "output_type": "stream",
     "text": [
      "Ingrese los colores de la banda separado por un guion Negro-Marron-Rojo\n",
      "01\n"
     ]
    }
   ],
   "source": [
    "colores = input(\"Ingrese los colores de la banda separado por un guion \")\n",
    "banda(colores)"
   ]
  },
  {
   "cell_type": "markdown",
   "id": "f6a29ac6",
   "metadata": {},
   "source": [
    "## Parte 3"
   ]
  },
  {
   "cell_type": "code",
   "execution_count": 25,
   "id": "70d1814a",
   "metadata": {},
   "outputs": [],
   "source": [
    "def bisiesto (year):\n",
    "    if year % 4 == 0:\n",
    "        if year % 100 == 0:\n",
    "            if year % 400 == 0:\n",
    "                return print(year, \"es año bisiesto\")\n",
    "            else:\n",
    "                return print(year, \"no es un año bisiesto\")\n",
    "        else: return print(year, \"es un año bisiesto\")\n",
    "    else:\n",
    "        return print(year, \"es un año bisiesto\")"
   ]
  },
  {
   "cell_type": "code",
   "execution_count": 31,
   "id": "f7d041d4",
   "metadata": {},
   "outputs": [
    {
     "name": "stdout",
     "output_type": "stream",
     "text": [
      "2022 es un año bisiesto\n"
     ]
    }
   ],
   "source": [
    "bisiesto(2022)"
   ]
  },
  {
   "cell_type": "code",
   "execution_count": 35,
   "id": "6e261f09",
   "metadata": {},
   "outputs": [
    {
     "name": "stdout",
     "output_type": "stream",
     "text": [
      "Ingrese año para analizar: 2022\n",
      "2022 es un año bisiesto\n"
     ]
    }
   ],
   "source": [
    "entrada=int(input(\"Ingrese año para analizar: \"))\n",
    "bisiesto(entrada)"
   ]
  },
  {
   "cell_type": "code",
   "execution_count": 36,
   "id": "5001e5d4",
   "metadata": {},
   "outputs": [
    {
     "name": "stdout",
     "output_type": "stream",
     "text": [
      "Ingrese año para analizar: 2018\n",
      "2018 es un año bisiesto\n"
     ]
    }
   ],
   "source": [
    "entrada=int(input(\"Ingrese año para analizar: \"))\n",
    "bisiesto(entrada)"
   ]
  },
  {
   "cell_type": "markdown",
   "id": "c99a03d0",
   "metadata": {},
   "source": [
    "# Parte 4"
   ]
  },
  {
   "cell_type": "code",
   "execution_count": 51,
   "id": "b71c1636",
   "metadata": {},
   "outputs": [],
   "source": [
    "def edad(nombre_planeta,segundos):\n",
    "    dic_planetas = {\"Mercurio\":0.2408467, \"Venus\":0.61519726, \"Tierra\":1.0, \"Marte\":1.8808158, \"Júpiter\":11.862615, \"Saturno\":29.447498, \"Urano\":84.016846, \"Neptuno\":164.79132}\n",
    "    anio_tierra = segundos / 31557600 \n",
    "    anios_planetas = anio_tierra * dic_planetas[nombre_planeta]\n",
    "    print(\"Tus años en {0} son {1}\".format(nombre_planeta,float(\"{:.2f}\".format(anios_planetas))))"
   ]
  },
  {
   "cell_type": "code",
   "execution_count": 54,
   "id": "66b6fb85",
   "metadata": {},
   "outputs": [
    {
     "name": "stdout",
     "output_type": "stream",
     "text": [
      "Tus años en Mercurio son 16.29\n",
      "Tus años en Venus son 3.7\n",
      "Tus años en Tierra son 31.69\n",
      "Tus años en Marte son 126.94\n",
      "Tus años en Júpiter son 339.02\n",
      "Tus años en Saturno son 1866.27\n",
      "Tus años en Urano son 3221.75\n",
      "Tus años en Neptuno son 9509.24\n"
     ]
    }
   ],
   "source": [
    "edad(\"Mercurio\",2134835688)\n",
    "edad(\"Venus\",189839836)\n",
    "edad(\"Tierra\",1000000000)\n",
    "edad(\"Marte\",2129871239)\n",
    "edad(\"Júpiter\",901876382)\n",
    "edad(\"Saturno\",2000000000)\n",
    "edad(\"Urano\",1210123456)\n",
    "edad(\"Neptuno\",1821023456)"
   ]
  },
  {
   "cell_type": "code",
   "execution_count": null,
   "id": "5b5b6841",
   "metadata": {},
   "outputs": [],
   "source": []
  }
 ],
 "metadata": {
  "kernelspec": {
   "display_name": "Python 3 (ipykernel)",
   "language": "python",
   "name": "python3"
  },
  "language_info": {
   "codemirror_mode": {
    "name": "ipython",
    "version": 3
   },
   "file_extension": ".py",
   "mimetype": "text/x-python",
   "name": "python",
   "nbconvert_exporter": "python",
   "pygments_lexer": "ipython3",
   "version": "3.9.12"
  }
 },
 "nbformat": 4,
 "nbformat_minor": 5
}
