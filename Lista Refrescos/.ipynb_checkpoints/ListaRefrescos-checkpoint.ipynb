{
 "cells": [
  {
   "cell_type": "code",
   "execution_count": 1,
   "id": "fec14289",
   "metadata": {},
   "outputs": [],
   "source": [
    "# Básicos\n",
    "import numpy as np\n",
    "import pandas as pd\n",
    "import scipy.stats as stats\n",
    "\n",
    "# Graficas\n",
    "import matplotlib.pyplot as plt\n",
    "import seaborn as sns\n",
    "from pandas.plotting import scatter_matrix\n",
    "\n",
    "# Preprocesamiento\n",
    "from sklearn.preprocessing import PolynomialFeatures, StandardScaler, MinMaxScaler\n",
    "\n",
    "# Selección del modelo\n",
    "from sklearn.model_selection import train_test_split, KFold, GridSearchCV, cross_val_score\n",
    "\n",
    "from sklearn.metrics import (r2_score, mean_squared_error, accuracy_score, precision_score, recall_score,\n",
    "                             f1_score, roc_auc_score, roc_curve, precision_recall_curve)\n",
    "\n",
    "# Modelos\n",
    "from sklearn.neighbors import KNeighborsClassifier, KNeighborsRegressor\n",
    "from sklearn.linear_model import LinearRegression, Lasso, Ridge, ElasticNet, LogisticRegression\n",
    "\n",
    "# Habilitar la recarga de archivos modificados\n",
    "%load_ext autoreload\n",
    "%autoreload 2\n",
    "\n",
    "# Graficas en linea\n",
    "%matplotlib inline"
   ]
  },
  {
   "cell_type": "code",
   "execution_count": 3,
   "id": "61c987cb",
   "metadata": {},
   "outputs": [
    {
     "data": {
      "text/html": [
       "<div>\n",
       "<style scoped>\n",
       "    .dataframe tbody tr th:only-of-type {\n",
       "        vertical-align: middle;\n",
       "    }\n",
       "\n",
       "    .dataframe tbody tr th {\n",
       "        vertical-align: top;\n",
       "    }\n",
       "\n",
       "    .dataframe thead th {\n",
       "        text-align: right;\n",
       "    }\n",
       "</style>\n",
       "<table border=\"1\" class=\"dataframe\">\n",
       "  <thead>\n",
       "    <tr style=\"text-align: right;\">\n",
       "      <th></th>\n",
       "      <th>Ranking</th>\n",
       "      <th>Zona</th>\n",
       "      <th>Subterritorio</th>\n",
       "      <th>CEDI</th>\n",
       "      <th>CustomerId</th>\n",
       "      <th>Cliente</th>\n",
       "      <th>Marca</th>\n",
       "      <th>Empaque</th>\n",
       "      <th>Año/Mes</th>\n",
       "      <th>Cajas Unidad</th>\n",
       "      <th>Cajas Fisicas</th>\n",
       "    </tr>\n",
       "  </thead>\n",
       "  <tbody>\n",
       "    <tr>\n",
       "      <th>0</th>\n",
       "      <td>2</td>\n",
       "      <td>Occidente</td>\n",
       "      <td>Tecoman</td>\n",
       "      <td>3805</td>\n",
       "      <td>500468736</td>\n",
       "      <td>ABARROTES ALVAREZ</td>\n",
       "      <td>COCA-COLA</td>\n",
       "      <td>250 ML. NR PET</td>\n",
       "      <td>202203</td>\n",
       "      <td>4.183343</td>\n",
       "      <td>3.9585</td>\n",
       "    </tr>\n",
       "    <tr>\n",
       "      <th>1</th>\n",
       "      <td>2</td>\n",
       "      <td>Occidente</td>\n",
       "      <td>Tecoman</td>\n",
       "      <td>3805</td>\n",
       "      <td>500468736</td>\n",
       "      <td>ABARROTES ALVAREZ</td>\n",
       "      <td>COCA-COLA</td>\n",
       "      <td>400 ML NR</td>\n",
       "      <td>202203</td>\n",
       "      <td>20.148072</td>\n",
       "      <td>11.9170</td>\n",
       "    </tr>\n",
       "    <tr>\n",
       "      <th>2</th>\n",
       "      <td>2</td>\n",
       "      <td>Occidente</td>\n",
       "      <td>Tecoman</td>\n",
       "      <td>3805</td>\n",
       "      <td>500468736</td>\n",
       "      <td>ABARROTES ALVAREZ</td>\n",
       "      <td>COCA-COLA</td>\n",
       "      <td>600 ML NR</td>\n",
       "      <td>202203</td>\n",
       "      <td>551.284734</td>\n",
       "      <td>217.3750</td>\n",
       "    </tr>\n",
       "    <tr>\n",
       "      <th>3</th>\n",
       "      <td>2</td>\n",
       "      <td>Occidente</td>\n",
       "      <td>Tecoman</td>\n",
       "      <td>3805</td>\n",
       "      <td>500468736</td>\n",
       "      <td>ABARROTES ALVAREZ</td>\n",
       "      <td>COCA-COLA LIGHT</td>\n",
       "      <td>600 ML NR</td>\n",
       "      <td>202203</td>\n",
       "      <td>1.902000</td>\n",
       "      <td>0.7500</td>\n",
       "    </tr>\n",
       "    <tr>\n",
       "      <th>4</th>\n",
       "      <td>2</td>\n",
       "      <td>Occidente</td>\n",
       "      <td>Tecoman</td>\n",
       "      <td>3805</td>\n",
       "      <td>500468736</td>\n",
       "      <td>ABARROTES ALVAREZ</td>\n",
       "      <td>COCA-COLA SIN AZUCAR</td>\n",
       "      <td>600 ML NR</td>\n",
       "      <td>202203</td>\n",
       "      <td>4.860978</td>\n",
       "      <td>3.8335</td>\n",
       "    </tr>\n",
       "  </tbody>\n",
       "</table>\n",
       "</div>"
      ],
      "text/plain": [
       "   Ranking       Zona Subterritorio  CEDI  CustomerId            Cliente  \\\n",
       "0        2  Occidente       Tecoman  3805   500468736  ABARROTES ALVAREZ   \n",
       "1        2  Occidente       Tecoman  3805   500468736  ABARROTES ALVAREZ   \n",
       "2        2  Occidente       Tecoman  3805   500468736  ABARROTES ALVAREZ   \n",
       "3        2  Occidente       Tecoman  3805   500468736  ABARROTES ALVAREZ   \n",
       "4        2  Occidente       Tecoman  3805   500468736  ABARROTES ALVAREZ   \n",
       "\n",
       "                  Marca         Empaque  Año/Mes  Cajas Unidad  Cajas Fisicas  \n",
       "0             COCA-COLA  250 ML. NR PET   202203      4.183343         3.9585  \n",
       "1             COCA-COLA       400 ML NR   202203     20.148072        11.9170  \n",
       "2             COCA-COLA       600 ML NR   202203    551.284734       217.3750  \n",
       "3       COCA-COLA LIGHT       600 ML NR   202203      1.902000         0.7500  \n",
       "4  COCA-COLA SIN AZUCAR       600 ML NR   202203      4.860978         3.8335  "
      ]
     },
     "execution_count": 3,
     "metadata": {},
     "output_type": "execute_result"
    }
   ],
   "source": [
    "df = pd.read_excel('Listado_Refrescos.xlsx', sheet_name='Ventas por Cliente Marzo 22')\n",
    "df.head()"
   ]
  },
  {
   "cell_type": "code",
   "execution_count": 4,
   "id": "07d69a07",
   "metadata": {},
   "outputs": [],
   "source": [
    "df.drop(df.index[(df[\"Marca\"] == \"DEL VALLE Y NADA\")],axis=0,inplace=True)"
   ]
  },
  {
   "cell_type": "code",
   "execution_count": 5,
   "id": "76a0ecac",
   "metadata": {},
   "outputs": [],
   "source": [
    "df.drop(df.index[(df[\"Marca\"] == \"FANTA SENZAO\")],axis=0,inplace=True)\n",
    "df.drop(df.index[(df[\"Marca\"] == \"SPRITE SIN AZUCAR\")],axis=0,inplace=True)\n",
    "df.drop(df.index[(df[\"Marca\"] == \"COCA-COLA LIGHT SIN CAFEINA\")],axis=0,inplace=True)\n",
    "df.drop(df.index[(df[\"Marca\"] == \"TOPO CHICO SANGRIA\")],axis=0,inplace=True)\n",
    "df.drop(df.index[(df[\"Marca\"] == \"SENZAO\")],axis=0,inplace=True)\n",
    "df.drop(df.index[(df[\"Marca\"] == \"TOPO CHICO SANGRIA LIGHT\")],axis=0,inplace=True)"
   ]
  },
  {
   "cell_type": "code",
   "execution_count": 6,
   "id": "99176ea5",
   "metadata": {},
   "outputs": [
    {
     "data": {
      "text/plain": [
       "array(['COCA-COLA', 'COCA-COLA LIGHT', 'COCA-COLA SIN AZUCAR', 'FANTA',\n",
       "       'FRESCA', 'SIDRAL MUNDET', 'SPRITE', 'JOYA', 'MIXTOS'],\n",
       "      dtype=object)"
      ]
     },
     "execution_count": 6,
     "metadata": {},
     "output_type": "execute_result"
    }
   ],
   "source": [
    "df['Marca'].unique()"
   ]
  },
  {
   "cell_type": "code",
   "execution_count": 7,
   "id": "fcd96190",
   "metadata": {},
   "outputs": [
    {
     "data": {
      "text/html": [
       "<div>\n",
       "<style scoped>\n",
       "    .dataframe tbody tr th:only-of-type {\n",
       "        vertical-align: middle;\n",
       "    }\n",
       "\n",
       "    .dataframe tbody tr th {\n",
       "        vertical-align: top;\n",
       "    }\n",
       "\n",
       "    .dataframe thead th {\n",
       "        text-align: right;\n",
       "    }\n",
       "</style>\n",
       "<table border=\"1\" class=\"dataframe\">\n",
       "  <thead>\n",
       "    <tr style=\"text-align: right;\">\n",
       "      <th></th>\n",
       "      <th>Ranking</th>\n",
       "      <th>Zona</th>\n",
       "      <th>Subterritorio</th>\n",
       "      <th>CEDI</th>\n",
       "      <th>CustomerId</th>\n",
       "      <th>Cliente</th>\n",
       "      <th>Marca</th>\n",
       "      <th>Empaque</th>\n",
       "      <th>Año/Mes</th>\n",
       "      <th>Cajas Unidad</th>\n",
       "      <th>Cajas Fisicas</th>\n",
       "    </tr>\n",
       "  </thead>\n",
       "  <tbody>\n",
       "    <tr>\n",
       "      <th>0</th>\n",
       "      <td>1</td>\n",
       "      <td>Occidente</td>\n",
       "      <td>San Rafael</td>\n",
       "      <td>3803</td>\n",
       "      <td>500567178</td>\n",
       "      <td>ADAN MORENO RODRIGUEZ</td>\n",
       "      <td>SPRITE</td>\n",
       "      <td>600 ML NR</td>\n",
       "      <td>202204</td>\n",
       "      <td>1.268000</td>\n",
       "      <td>0.500</td>\n",
       "    </tr>\n",
       "    <tr>\n",
       "      <th>1</th>\n",
       "      <td>2</td>\n",
       "      <td>Occidente</td>\n",
       "      <td>Tecoman</td>\n",
       "      <td>3805</td>\n",
       "      <td>500468736</td>\n",
       "      <td>ABARROTES ALVAREZ</td>\n",
       "      <td>COCA-COLA</td>\n",
       "      <td>400 ML NR</td>\n",
       "      <td>202204</td>\n",
       "      <td>31.982972</td>\n",
       "      <td>18.917</td>\n",
       "    </tr>\n",
       "    <tr>\n",
       "      <th>2</th>\n",
       "      <td>2</td>\n",
       "      <td>Occidente</td>\n",
       "      <td>Tecoman</td>\n",
       "      <td>3805</td>\n",
       "      <td>500468736</td>\n",
       "      <td>ABARROTES ALVAREZ</td>\n",
       "      <td>COCA-COLA</td>\n",
       "      <td>600 ML NR</td>\n",
       "      <td>202204</td>\n",
       "      <td>688.231595</td>\n",
       "      <td>271.374</td>\n",
       "    </tr>\n",
       "    <tr>\n",
       "      <th>3</th>\n",
       "      <td>2</td>\n",
       "      <td>Occidente</td>\n",
       "      <td>Tecoman</td>\n",
       "      <td>3805</td>\n",
       "      <td>500468736</td>\n",
       "      <td>ABARROTES ALVAREZ</td>\n",
       "      <td>COCA-COLA LIGHT</td>\n",
       "      <td>600 ML NR</td>\n",
       "      <td>202204</td>\n",
       "      <td>1.268000</td>\n",
       "      <td>0.500</td>\n",
       "    </tr>\n",
       "    <tr>\n",
       "      <th>4</th>\n",
       "      <td>2</td>\n",
       "      <td>Occidente</td>\n",
       "      <td>Tecoman</td>\n",
       "      <td>3805</td>\n",
       "      <td>500468736</td>\n",
       "      <td>ABARROTES ALVAREZ</td>\n",
       "      <td>COCA-COLA SIN AZUCAR</td>\n",
       "      <td>250 ML. NR PET</td>\n",
       "      <td>202204</td>\n",
       "      <td>0.528400</td>\n",
       "      <td>0.500</td>\n",
       "    </tr>\n",
       "  </tbody>\n",
       "</table>\n",
       "</div>"
      ],
      "text/plain": [
       "   Ranking       Zona Subterritorio  CEDI  CustomerId                Cliente  \\\n",
       "0        1  Occidente    San Rafael  3803   500567178  ADAN MORENO RODRIGUEZ   \n",
       "1        2  Occidente       Tecoman  3805   500468736      ABARROTES ALVAREZ   \n",
       "2        2  Occidente       Tecoman  3805   500468736      ABARROTES ALVAREZ   \n",
       "3        2  Occidente       Tecoman  3805   500468736      ABARROTES ALVAREZ   \n",
       "4        2  Occidente       Tecoman  3805   500468736      ABARROTES ALVAREZ   \n",
       "\n",
       "                  Marca         Empaque  Año/Mes  Cajas Unidad  Cajas Fisicas  \n",
       "0                SPRITE       600 ML NR   202204      1.268000          0.500  \n",
       "1             COCA-COLA       400 ML NR   202204     31.982972         18.917  \n",
       "2             COCA-COLA       600 ML NR   202204    688.231595        271.374  \n",
       "3       COCA-COLA LIGHT       600 ML NR   202204      1.268000          0.500  \n",
       "4  COCA-COLA SIN AZUCAR  250 ML. NR PET   202204      0.528400          0.500  "
      ]
     },
     "execution_count": 7,
     "metadata": {},
     "output_type": "execute_result"
    }
   ],
   "source": [
    "df2 = pd.read_excel('Listado_Refrescos.xlsx', sheet_name='Ventas por Cliente Abril 22')\n",
    "df2.head()"
   ]
  },
  {
   "cell_type": "code",
   "execution_count": 10,
   "id": "cb2b94e3",
   "metadata": {},
   "outputs": [],
   "source": [
    "df2.drop(df2.index[(df2[\"Marca\"] == \"DEL VALLE Y NADA\")],axis=0,inplace=True)\n",
    "df2.drop(df2.index[(df2[\"Marca\"] == \"FANTA SENZAO\")],axis=0,inplace=True)\n",
    "df2.drop(df2.index[(df2[\"Marca\"] == \"SPRITE SIN AZUCAR\")],axis=0,inplace=True)\n",
    "df2.drop(df2.index[(df2[\"Marca\"] == \"COCA-COLA LIGHT SIN CAFEINA\")],axis=0,inplace=True)\n",
    "df2.drop(df2.index[(df2[\"Marca\"] == \"TOPO CHICO SANGRIA\")],axis=0,inplace=True)\n",
    "df2.drop(df2.index[(df2[\"Marca\"] == \"SENZAO\")],axis=0,inplace=True)\n",
    "df2.drop(df2.index[(df2[\"Marca\"] == \"TOPO CHICO SANGRIA LIGHT\")],axis=0,inplace=True)"
   ]
  },
  {
   "cell_type": "code",
   "execution_count": 11,
   "id": "1fc4667a",
   "metadata": {},
   "outputs": [
    {
     "data": {
      "text/plain": [
       "array(['SPRITE', 'COCA-COLA', 'COCA-COLA LIGHT', 'COCA-COLA SIN AZUCAR',\n",
       "       'FANTA', 'FRESCA', 'SIDRAL MUNDET', 'JOYA', 'MIXTOS'], dtype=object)"
      ]
     },
     "execution_count": 11,
     "metadata": {},
     "output_type": "execute_result"
    }
   ],
   "source": [
    "df2['Marca'].unique()"
   ]
  },
  {
   "cell_type": "code",
   "execution_count": 14,
   "id": "5f7e7f30",
   "metadata": {},
   "outputs": [],
   "source": [
    "df2.to_excel('ListaRefrescosVentaAbril.xlsx', sheet_name='Ventas Abril 2022', index=False)"
   ]
  },
  {
   "cell_type": "code",
   "execution_count": 15,
   "id": "5d9fbde2",
   "metadata": {},
   "outputs": [],
   "source": [
    "df.to_excel('ListaRefrescosVentaMarzo.xlsx', sheet_name='Ventas Marzo 2022', index=False)"
   ]
  },
  {
   "cell_type": "code",
   "execution_count": null,
   "id": "d4e699c9",
   "metadata": {},
   "outputs": [],
   "source": []
  }
 ],
 "metadata": {
  "kernelspec": {
   "display_name": "Python 3 (ipykernel)",
   "language": "python",
   "name": "python3"
  },
  "language_info": {
   "codemirror_mode": {
    "name": "ipython",
    "version": 3
   },
   "file_extension": ".py",
   "mimetype": "text/x-python",
   "name": "python",
   "nbconvert_exporter": "python",
   "pygments_lexer": "ipython3",
   "version": "3.9.12"
  }
 },
 "nbformat": 4,
 "nbformat_minor": 5
}
